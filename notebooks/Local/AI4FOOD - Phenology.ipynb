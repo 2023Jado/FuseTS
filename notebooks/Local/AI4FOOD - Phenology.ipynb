{
 "cells": [
  {
   "cell_type": "markdown",
   "id": "1920c6da",
   "metadata": {},
   "source": [
    "# Phenology in S2 NDVI\n",
    "\n",
    "\n",
    "\n",
    "**Prerequisites**\n",
    "* In this notebook we are using openEO to fetch the time series data for the meadow. You can register for a free trial account on the [openEO Platform](https://openeo.cloud/#plans) website."
   ]
  },
  {
   "cell_type": "markdown",
   "id": "697f0987",
   "metadata": {},
   "source": [
    "Lets start with importing the different libraries that we need within this notebook."
   ]
  },
  {
   "cell_type": "code",
   "execution_count": 1,
   "id": "6b0bc1d9",
   "metadata": {
    "tags": []
   },
   "outputs": [],
   "source": [
    "import os\n",
    "import sys\n",
    "\n",
    "# Add local version of FuseTS\n",
    "module_path = os.path.abspath(os.path.join('../../src'))\n",
    "if module_path not in sys.path:\n",
    "    sys.path.append(module_path)\n",
    "\n",
    "\n",
    "import numpy as np\n",
    "import openeo\n",
    "import xarray\n",
    "from fusets.analytics import phenology\n",
    "import matplotlib.pyplot as plt\n",
    "import datetime"
   ]
  },
  {
   "cell_type": "markdown",
   "id": "06313df5",
   "metadata": {},
   "source": [
    "### Downloading the S2 time series\n",
    "In order to execute the peak valley algorithm, we need to have time series data. Retrieving time series data can be done through various methods, and one such method is using openEO. [OpenEO](https://openeo.org/) is an API that provides access to a variety of Earth Observation (EO) data and processing services in a standardized and easy-to-use way. By leveraging the power of openEO, we can easily retrieve the time series data for the meadow and use it to analyze the patterns and trends.\n",
    "\n",
    "More information on the usage of openEO's Python client can be found on [GitHub](https://github.com/Open-EO/openeo-python-client).\n",
    "\n",
    "The first step is to connect to an openEO compatible backend."
   ]
  },
  {
   "cell_type": "code",
   "execution_count": 2,
   "id": "0d729c71",
   "metadata": {
    "tags": []
   },
   "outputs": [
    {
     "name": "stdout",
     "output_type": "stream",
     "text": [
      "Authenticated using refresh token.\n"
     ]
    }
   ],
   "source": [
    "connection = openeo.connect(\"openeo.vito.be\").authenticate_oidc()"
   ]
  },
  {
   "cell_type": "markdown",
   "id": "c136abff",
   "metadata": {},
   "source": [
    "Next we define the area of interest, in this case an extent, for which we would like to fetch time series data."
   ]
  },
  {
   "cell_type": "code",
   "execution_count": 3,
   "id": "b360677b",
   "metadata": {
    "tags": []
   },
   "outputs": [],
   "source": [
    "year = 2022\n",
    "spat_ext =  {\n",
    "        \"coordinates\": [\n",
    "          [\n",
    "            [\n",
    "              5.179169745059369,\n",
    "              51.24984286550534\n",
    "            ],\n",
    "            [\n",
    "              5.170016107999743,\n",
    "              51.25052999567865\n",
    "            ],\n",
    "            [\n",
    "              5.171081610725707,\n",
    "              51.24861004739975\n",
    "            ],\n",
    "            [\n",
    "              5.178604705735125,\n",
    "              51.246720335821465\n",
    "            ],\n",
    "            [\n",
    "              5.179169745059369,\n",
    "              51.24984286550534\n",
    "            ]\n",
    "          ]\n",
    "        ],\n",
    "        \"type\": \"Polygon\"\n",
    "      }\n",
    "temp_ext = [f\"{year}-01-01\", f\"{year}-12-31\"]"
   ]
  },
  {
   "cell_type": "markdown",
   "id": "e20f26cf",
   "metadata": {
    "tags": []
   },
   "source": [
    "We will create an openEO process to calculate the NDVI time series for our area of interest. We'll begin by using the SENTINEL2_L2A_SENTINELHUB collection, and apply a cloud masking algorithm to remove any interfering clouds before calculating the NDVI values."
   ]
  },
  {
   "cell_type": "code",
   "execution_count": 4,
   "id": "59360ddb",
   "metadata": {
    "tags": []
   },
   "outputs": [],
   "source": [
    "s2 = connection.load_collection('SENTINEL2_L2A_SENTINELHUB',\n",
    "                                spatial_extent=spat_ext,\n",
    "                                temporal_extent=temp_ext,\n",
    "                                bands=[\"B04\",\"B08\",\"SCL\"])\n",
    "s2 = s2.process(\"mask_scl_dilation\", data=s2, scl_band_name=\"SCL\")\n",
    "s2 = s2.mask_polygon(spat_ext)\n",
    "ndvi_cube = s2.ndvi(red=\"B04\", nir=\"B08\", target_band='NDVI')"
   ]
  },
  {
   "cell_type": "markdown",
   "id": "2d09b903",
   "metadata": {},
   "source": [
    "Now that we have calculated the NDVI time series for our area of interest, we can request openEO to download the result to our local storage. This will allow us to access the file and use it for further analysis in this notebook. However, if we have already downloaded the file, we can use the existing time series to continue our analysis without the need for a new download."
   ]
  },
  {
   "cell_type": "code",
   "execution_count": null,
   "id": "c7f5e77d",
   "metadata": {
    "tags": []
   },
   "outputs": [
    {
     "name": "stdout",
     "output_type": "stream",
     "text": [
      "0:00:00 Job 'j-93150c58adf14802a5f288f834c4886b': send 'start'\n",
      "0:00:19 Job 'j-93150c58adf14802a5f288f834c4886b': queued (progress N/A)\n",
      "0:00:26 Job 'j-93150c58adf14802a5f288f834c4886b': queued (progress N/A)\n",
      "0:00:33 Job 'j-93150c58adf14802a5f288f834c4886b': queued (progress N/A)\n",
      "0:00:41 Job 'j-93150c58adf14802a5f288f834c4886b': queued (progress N/A)\n"
     ]
    }
   ],
   "source": [
    "if not os.path.exists('./s2_field.nc'):\n",
    "    job = ndvi_cube.execute_batch(\"s2_field.nc\", title=f'AI4FOOD - Phenology - Time Series', out_format=\"netCDF\")\n",
    "\n",
    "ds = xarray.load_dataset('./s2_field.nc')\n",
    "ndvi = ds.NDVI.rename({'t': 'time'})"
   ]
  },
  {
   "cell_type": "markdown",
   "id": "b14f724a",
   "metadata": {},
   "source": [
    "Now that we have calculated the NDVI time series, we can utilize it to execute the peak valley algorithm that is part of the FuseTS algorithm. The peak valley algorithm is a powerful tool that allows us to detect significant changes in the vegetation patterns over time. "
   ]
  },
  {
   "cell_type": "code",
   "execution_count": null,
   "id": "177fe769",
   "metadata": {
    "tags": []
   },
   "outputs": [],
   "source": [
    "phenology_result = phenology(ndvi)"
   ]
  },
  {
   "cell_type": "code",
   "execution_count": null,
   "id": "c9fb383c",
   "metadata": {},
   "outputs": [],
   "source": [
    "average_ndvi = ndvi.mean(dim=['x', 'y'])\n",
    "\n",
    "sos = phenology_result.sos_times.mean(dim=['x', 'y']).values.take(0)\n",
    "pos = phenology_result.pos_times.mean(dim=['x', 'y']).values.take(0)\n",
    "eos = phenology_result.eos_times.mean(dim=['x', 'y']).values.take(0)\n",
    "\n",
    "sos_date = datetime.datetime(year, 1, 1) + datetime.timedelta(days=sos)\n",
    "pos_date = datetime.datetime(year, 1, 1) + datetime.timedelta(days=pos)\n",
    "eos_date = datetime.datetime(year, 1, 1) + datetime.timedelta(days=eos)"
   ]
  },
  {
   "cell_type": "code",
   "execution_count": null,
   "id": "f9eead2c",
   "metadata": {},
   "outputs": [],
   "source": [
    "plt.figure(figsize= (16,6))\n",
    "average_ndvi.plot()\n",
    "plt.ylabel ('NDVI')\n",
    "plt.axvline(x = sos_date, color = 'g', label = 'axvline - full height')\n",
    "plt.axvline(x = pos_date, color = 'r', label = 'axvline - full height')\n",
    "plt.axvline(x = eos_date, color = 'g', label = 'axvline - full height')\n",
    "plt.grid(True)\n",
    "plt.legend()"
   ]
  }
 ],
 "metadata": {
  "kernelspec": {
   "display_name": "Python 3",
   "language": "python",
   "name": "python3"
  },
  "language_info": {
   "codemirror_mode": {
    "name": "ipython",
    "version": 3
   },
   "file_extension": ".py",
   "mimetype": "text/x-python",
   "name": "python",
   "nbconvert_exporter": "python",
   "pygments_lexer": "ipython3",
   "version": "3.6.8"
  },
  "vscode": {
   "interpreter": {
    "hash": "33c20a4d08d84a1eb87b835f70d5565c784b8aa57395721a120453ef33ea65d1"
   }
  }
 },
 "nbformat": 4,
 "nbformat_minor": 5
}
