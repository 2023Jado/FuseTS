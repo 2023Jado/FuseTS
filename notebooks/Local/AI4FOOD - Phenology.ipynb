{
 "cells": [
  {
   "cell_type": "markdown",
   "id": "7251dd65",
   "metadata": {},
   "source": [
    "# Phenology in S2 NDVI\n",
    "\n",
    "\n",
    "\n",
    "**Prerequisites**\n",
    "* In this notebook we are using openEO to fetch the time series data for the meadow. You can register for a free trial account on the [openEO Platform](https://openeo.cloud/#plans) website."
   ]
  },
  {
   "cell_type": "markdown",
   "id": "f83d11b9",
   "metadata": {},
   "source": [
    "Lets start with importing the different libraries that we need within this notebook."
   ]
  },
  {
   "cell_type": "code",
   "execution_count": 17,
   "id": "4b2c0bb6",
   "metadata": {
    "tags": []
   },
   "outputs": [],
   "source": [
    "import os\n",
    "import sys\n",
    "\n",
    "# Add local version of FuseTS\n",
    "module_path = os.path.abspath(os.path.join('../../src'))\n",
    "if module_path not in sys.path:\n",
    "    sys.path.append(module_path)\n",
    "\n",
    "\n",
    "import numpy as np\n",
    "import openeo\n",
    "import xarray\n",
    "from fusets.analytics import phenology\n",
    "from fusets.whittaker import whittaker\n",
    "\n",
    "import matplotlib.pyplot as plt\n",
    "import datetime"
   ]
  },
  {
   "cell_type": "markdown",
   "id": "b935bb58",
   "metadata": {},
   "source": [
    "### Downloading the S2 time series\n",
    "In order to execute the peak valley algorithm, we need to have time series data. Retrieving time series data can be done through various methods, and one such method is using openEO. [OpenEO](https://openeo.org/) is an API that provides access to a variety of Earth Observation (EO) data and processing services in a standardized and easy-to-use way. By leveraging the power of openEO, we can easily retrieve the time series data for the meadow and use it to analyze the patterns and trends.\n",
    "\n",
    "More information on the usage of openEO's Python client can be found on [GitHub](https://github.com/Open-EO/openeo-python-client).\n",
    "\n",
    "The first step is to connect to an openEO compatible backend."
   ]
  },
  {
   "cell_type": "code",
   "execution_count": 2,
   "id": "64ce5c6c",
   "metadata": {
    "tags": []
   },
   "outputs": [
    {
     "name": "stdout",
     "output_type": "stream",
     "text": [
      "Authenticated using refresh token.\n"
     ]
    }
   ],
   "source": [
    "connection = openeo.connect(\"openeo.vito.be\").authenticate_oidc()"
   ]
  },
  {
   "cell_type": "markdown",
   "id": "6281fb57",
   "metadata": {},
   "source": [
    "Next we define the area of interest, in this case an extent, for which we would like to fetch time series data."
   ]
  },
  {
   "cell_type": "code",
   "execution_count": 3,
   "id": "0f4804d6",
   "metadata": {
    "tags": []
   },
   "outputs": [],
   "source": [
    "year = 2022\n",
    "spat_ext =  {\n",
    "        \"coordinates\": [\n",
    "          [\n",
    "            [\n",
    "              5.179169745059369,\n",
    "              51.24984286550534\n",
    "            ],\n",
    "            [\n",
    "              5.170016107999743,\n",
    "              51.25052999567865\n",
    "            ],\n",
    "            [\n",
    "              5.171081610725707,\n",
    "              51.24861004739975\n",
    "            ],\n",
    "            [\n",
    "              5.178604705735125,\n",
    "              51.246720335821465\n",
    "            ],\n",
    "            [\n",
    "              5.179169745059369,\n",
    "              51.24984286550534\n",
    "            ]\n",
    "          ]\n",
    "        ],\n",
    "        \"type\": \"Polygon\"\n",
    "      }\n",
    "temp_ext = [f\"{year}-05-01\", f\"{year}-09-30\"]"
   ]
  },
  {
   "cell_type": "markdown",
   "id": "96a5e50c",
   "metadata": {
    "tags": []
   },
   "source": [
    "We will create an openEO process to calculate the NDVI time series for our area of interest. We'll begin by using the SENTINEL2_L2A_SENTINELHUB collection, and apply a cloud masking algorithm to remove any interfering clouds before calculating the NDVI values."
   ]
  },
  {
   "cell_type": "code",
   "execution_count": 4,
   "id": "65cd18c5",
   "metadata": {
    "tags": []
   },
   "outputs": [],
   "source": [
    "s2 = connection.load_collection('SENTINEL2_L2A_SENTINELHUB',\n",
    "                                spatial_extent=spat_ext,\n",
    "                                temporal_extent=temp_ext,\n",
    "                                bands=[\"B04\",\"B08\",\"SCL\"])\n",
    "s2 = s2.process(\"mask_scl_dilation\", data=s2, scl_band_name=\"SCL\")\n",
    "s2 = s2.mask_polygon(spat_ext)\n",
    "ndvi_cube = s2.ndvi(red=\"B04\", nir=\"B08\", target_band='NDVI')"
   ]
  },
  {
   "cell_type": "markdown",
   "id": "be481f21",
   "metadata": {},
   "source": [
    "Now that we have calculated the NDVI time series for our area of interest, we can request openEO to download the result to our local storage. This will allow us to access the file and use it for further analysis in this notebook. However, if we have already downloaded the file, we can use the existing time series to continue our analysis without the need for a new download."
   ]
  },
  {
   "cell_type": "code",
   "execution_count": 26,
   "id": "0c7523c8",
   "metadata": {
    "tags": []
   },
   "outputs": [],
   "source": [
    "if not os.path.exists('./s2_field.nc'):\n",
    "    job = ndvi_cube.execute_batch(\"s2_field.nc\", title=f'AI4FOOD - Phenology - Time Series', out_format=\"netCDF\")\n",
    "\n",
    "ds = xarray.load_dataset('./s2_field.nc')\n",
    "ndvi = ds.NDVI.rename({'t': 'time'})"
   ]
  },
  {
   "cell_type": "markdown",
   "id": "127f3836",
   "metadata": {},
   "source": [
    "Now that we have calculated the NDVI time series, we can utilize it to execute the peak valley algorithm that is part of the FuseTS algorithm. The peak valley algorithm is a powerful tool that allows us to detect significant changes in the vegetation patterns over time. "
   ]
  },
  {
   "cell_type": "code",
   "execution_count": 27,
   "id": "977d3f91",
   "metadata": {
    "tags": []
   },
   "outputs": [
    {
     "name": "stdout",
     "output_type": "stream",
     "text": [
      "Initialising calculation of phenometrics.\n",
      "\n",
      "Beginning extraction of CRS metadata.\n",
      "> Extracting CRS metadata.\n",
      "> No CRS metadata found. Returning None.\n",
      "\n",
      "Beginning calculation of phenometrics. This can take awhile - please wait.\n",
      "\n",
      "Beginning calculation of peak of season (pos) values and times.\n",
      "> Calculating peak of season (pos) values.\n",
      "> Calculating peak of season (pos) times.\n",
      "> Success!\n",
      "\n",
      "Beginning calculation of valley of season (vos) values and times.\n",
      "> Calculating valley of season (vos) values.\n",
      "> Calculating valley of season (vos) times.\n",
      "> Success!\n",
      "\n",
      "Beginning calculation of middle of season (mos) values (times not possible).\n",
      "> Calculating middle of season (mos) values.\n",
      "> Success!\n",
      "\n",
      "Beginning calculation of base (bse) values (times not possible).\n",
      "> Calculating base (bse) values.\n",
      "> Success!\n",
      "\n",
      "Beginning calculation of amplitude of season (aos) values (times not possible).\n",
      "> Calculating amplitude of season (aos) values.\n",
      "> Success!\n",
      "\n",
      "Beginning calculation of start of season (sos) values and times.\n",
      "> Calculating start of season (sos) values via method: first_of_slope.\n",
      "> Calculating start of season (sos) times via method: first_of_slope.\n",
      "> Success!\n",
      "\n",
      "Beginning calculation of end of season (eos) values and times.\n",
      "> Calculating end of season (eos) values via method: first_of_slope.\n",
      "> Calculating end of season (eos) times via method: first_of_slope.\n",
      "> Success!\n",
      "\n",
      "Beginning calculation of length of season (los) values (times not possible).\n",
      "> Calculating length of season (los) values.\n",
      "> Success!\n",
      "\n",
      "Beginning calculation of rate of increase (roi) values (times not possible).\n",
      "> Calculating rate of increase (roi) values.\n",
      "> Success!\n",
      "\n",
      "Beginning calculation of rate of decrease (rod) values (times not possible).\n",
      "> Calculating rate of decrease (rod) values.\n",
      "> Success!\n",
      "\n",
      "Beginning calculation of long integral of season (lios) values (times not possible).\n",
      "> Calculating long integral of season (lios) values.\n",
      "> Success!\n",
      "\n",
      "Beginning calculation of short integral of season (sios) values (times not possible).\n",
      "> Calculating short integral of season (sios) values.\n",
      "> Success!\n",
      "\n",
      "Beginning calculation of long integral of total (liot) values (times not possible).\n",
      "> Calculating long integral of total (liot) values.\n",
      "> Success!\n",
      "\n",
      "Beginning calculation of short integral of total (siot) values (times not possible).\n",
      "> Calculating short integral of total (siot) values.\n",
      "> Success!\n",
      "\n",
      "Beginning addition of CRS metadata.\n",
      "> Adding CRS metadata.\n",
      "> Could not add CRS metadata to data. Aborting.\n",
      "\n",
      "Phenometrics calculated successfully!\n"
     ]
    }
   ],
   "source": [
    "ndvi_smoothed = whittaker(ndvi, smoothing_lambda=5000)\n",
    "phenology_result = phenology(ndvi_smoothed)"
   ]
  },
  {
   "cell_type": "code",
   "execution_count": 34,
   "id": "20e22295",
   "metadata": {},
   "outputs": [],
   "source": [
    "average_ndvi = ndvi_smoothed.median(dim=['x', 'y'])\n",
    "\n",
    "sos = phenology_result.sos_times.median(dim=['x', 'y']).values.take(0)\n",
    "pos = phenology_result.pos_times.median(dim=['x', 'y']).values.take(0)\n",
    "eos = phenology_result.eos_times.median(dim=['x', 'y']).values.take(0)\n",
    "\n",
    "sos_date = datetime.datetime(year, 1, 1) + datetime.timedelta(days=sos)\n",
    "pos_date = datetime.datetime(year, 1, 1) + datetime.timedelta(days=pos)\n",
    "eos_date = datetime.datetime(year, 1, 1) + datetime.timedelta(days=eos)"
   ]
  },
  {
   "cell_type": "code",
   "execution_count": 35,
   "id": "e7136f48",
   "metadata": {},
   "outputs": [
    {
     "data": {
      "text/plain": [
       "<matplotlib.legend.Legend at 0x7f2f5f976828>"
      ]
     },
     "execution_count": 35,
     "metadata": {},
     "output_type": "execute_result"
    },
    {
     "data": {
      "image/png": "[encoded data removed]",
      "text/plain": [
       "<Figure size 1152x432 with 1 Axes>"
      ]
     },
     "metadata": {
      "needs_background": "light"
     },
     "output_type": "display_data"
    }
   ],
   "source": [
    "plt.figure(figsize= (16,6))\n",
    "average_ndvi.plot()\n",
    "plt.ylabel ('NDVI')\n",
    "plt.axvline(x = sos_date, color = 'g', label = 'Start of Season')\n",
    "plt.axvline(x = pos_date, color = 'r', label = 'Peak of Season')\n",
    "plt.axvline(x = eos_date, color = 'b', label = 'End of Seson')\n",
    "plt.grid(True)\n",
    "plt.legend()"
   ]
  },
  {
   "cell_type": "code",
   "execution_count": null,
   "id": "a6bfed33",
   "metadata": {},
   "outputs": [],
   "source": []
  }
 ],
 "metadata": {
  "kernelspec": {
   "display_name": "Python 3",
   "language": "python",
   "name": "python3"
  },
  "language_info": {
   "codemirror_mode": {
    "name": "ipython",
    "version": 3
   },
   "file_extension": ".py",
   "mimetype": "text/x-python",
   "name": "python",
   "nbconvert_exporter": "python",
   "pygments_lexer": "ipython3",
   "version": "3.6.8"
  },
  "vscode": {
   "interpreter": {
    "hash": "33c20a4d08d84a1eb87b835f70d5565c784b8aa57395721a120453ef33ea65d1"
   }
  }
 },
 "nbformat": 4,
 "nbformat_minor": 5
}
