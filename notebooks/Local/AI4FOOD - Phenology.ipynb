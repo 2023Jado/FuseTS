{
 "cells": [
  {
   "cell_type": "markdown",
   "id": "fdb80ca1",
   "metadata": {},
   "source": [
    "# Phenology in S2 NDVI\n",
    "\n",
    "\n",
    "\n",
    "**Prerequisites**\n",
    "* In this notebook we are using openEO to fetch the time series data for the meadow. You can register for a free trial account on the [openEO Platform](https://openeo.cloud/#plans) website."
   ]
  },
  {
   "cell_type": "markdown",
   "id": "399c0829",
   "metadata": {},
   "source": [
    "Lets start with importing the different libraries that we need within this notebook."
   ]
  },
  {
   "cell_type": "code",
   "execution_count": 3,
   "id": "cad17458",
   "metadata": {
    "tags": []
   },
   "outputs": [
    {
     "ename": "ModuleNotFoundError",
     "evalue": "No module named 'openeo'",
     "output_type": "error",
     "traceback": [
      "\u001b[1;31m---------------------------------------------------------------------------\u001b[0m",
      "\u001b[1;31mModuleNotFoundError\u001b[0m                       Traceback (most recent call last)",
      "Cell \u001b[1;32mIn[3], line 11\u001b[0m\n\u001b[0;32m      7\u001b[0m     sys\u001b[38;5;241m.\u001b[39mpath\u001b[38;5;241m.\u001b[39mappend(module_path)\n\u001b[0;32m     10\u001b[0m \u001b[38;5;28;01mimport\u001b[39;00m \u001b[38;5;21;01mnumpy\u001b[39;00m \u001b[38;5;28;01mas\u001b[39;00m \u001b[38;5;21;01mnp\u001b[39;00m\n\u001b[1;32m---> 11\u001b[0m \u001b[38;5;28;01mimport\u001b[39;00m \u001b[38;5;21;01mopeneo\u001b[39;00m\n\u001b[0;32m     12\u001b[0m \u001b[38;5;28;01mimport\u001b[39;00m \u001b[38;5;21;01mxarray\u001b[39;00m\n\u001b[0;32m     13\u001b[0m \u001b[38;5;28;01mfrom\u001b[39;00m \u001b[38;5;21;01mfusets\u001b[39;00m\u001b[38;5;21;01m.\u001b[39;00m\u001b[38;5;21;01manalytics\u001b[39;00m \u001b[38;5;28;01mimport\u001b[39;00m phenology\n",
      "\u001b[1;31mModuleNotFoundError\u001b[0m: No module named 'openeo'"
     ]
    }
   ],
   "source": [
    "import os\n",
    "import sys\n",
    "\n",
    "# Add local version of FuseTS\n",
    "module_path = os.path.abspath(os.path.join('../../src'))\n",
    "if module_path not in sys.path:\n",
    "    sys.path.append(module_path)\n",
    "\n",
    "\n",
    "import numpy as np\n",
    "import openeo\n",
    "import xarray\n",
    "from fusets.analytics import phenology\n",
    "\n",
    "\n",
    "\n",
    "%matplotlib inline"
   ]
  },
  {
   "cell_type": "markdown",
   "id": "9b30d142",
   "metadata": {},
   "source": [
    "### Downloading the S2 time series\n",
    "In order to execute the peak valley algorithm, we need to have time series data. Retrieving time series data can be done through various methods, and one such method is using openEO. [OpenEO](https://openeo.org/) is an API that provides access to a variety of Earth Observation (EO) data and processing services in a standardized and easy-to-use way. By leveraging the power of openEO, we can easily retrieve the time series data for the meadow and use it to analyze the patterns and trends.\n",
    "\n",
    "More information on the usage of openEO's Python client can be found on [GitHub](https://github.com/Open-EO/openeo-python-client).\n",
    "\n",
    "The first step is to connect to an openEO compatible backend."
   ]
  },
  {
   "cell_type": "code",
   "execution_count": 2,
   "id": "b34b720f",
   "metadata": {
    "tags": []
   },
   "outputs": [
    {
     "name": "stdout",
     "output_type": "stream",
     "text": [
      "Authenticated using refresh token.\n"
     ]
    }
   ],
   "source": [
    "connection = openeo.connect(\"openeo.vito.be\").authenticate_oidc()"
   ]
  },
  {
   "cell_type": "markdown",
   "id": "04fa9030",
   "metadata": {},
   "source": [
    "Next we define the area of interest, in this case an extent, for which we would like to fetch time series data."
   ]
  },
  {
   "cell_type": "code",
   "execution_count": 3,
   "id": "e762b527",
   "metadata": {
    "tags": []
   },
   "outputs": [],
   "source": [
    "minx, miny, maxx, maxy = (15.179421073198585, 45.80924633589998, 15.185336903822831, 45.81302555710934)\n",
    "spat_ext = dict(west=minx, east=maxx, north=maxy, south=miny, crs=4326)\n",
    "temp_ext = [\"2021-01-01\", \"2021-12-31\"]"
   ]
  },
  {
   "cell_type": "markdown",
   "id": "00aa44b0",
   "metadata": {
    "tags": []
   },
   "source": [
    "We will create an openEO process to calculate the NDVI time series for our area of interest. We'll begin by using the SENTINEL2_L2A_SENTINELHUB collection, and apply a cloud masking algorithm to remove any interfering clouds before calculating the NDVI values."
   ]
  },
  {
   "cell_type": "code",
   "execution_count": 4,
   "id": "af702898",
   "metadata": {
    "tags": []
   },
   "outputs": [],
   "source": [
    "s2 = connection.load_collection('SENTINEL2_L2A_SENTINELHUB',\n",
    "                                spatial_extent=spat_ext,\n",
    "                                temporal_extent=temp_ext,\n",
    "                                bands=[\"B04\",\"B08\",\"SCL\"])\n",
    "s2 = s2.process(\"mask_scl_dilation\", data=s2, scl_band_name=\"SCL\")\n",
    "ndvi_cube = s2.ndvi(red=\"B04\", nir=\"B08\", target_band='NDVI')"
   ]
  },
  {
   "cell_type": "markdown",
   "id": "bbab3302",
   "metadata": {},
   "source": [
    "Now that we have calculated the NDVI time series for our area of interest, we can request openEO to download the result to our local storage. This will allow us to access the file and use it for further analysis in this notebook. However, if we have already downloaded the file, we can use the existing time series to continue our analysis without the need for a new download."
   ]
  },
  {
   "cell_type": "code",
   "execution_count": 5,
   "id": "48c5b1cc",
   "metadata": {
    "tags": []
   },
   "outputs": [],
   "source": [
    "if not os.path.exists('./s2_meadow.nc'):\n",
    "    job = ndvi_cube.execute_batch(\"s2_meadow.nc\", title=f'AI4FOOD - Peak Valley - Time Series', out_format=\"netCDF\")\n",
    "\n",
    "ds = xarray.load_dataset('./s2_meadow.nc')\n",
    "ndvi = ds.NDVI"
   ]
  },
  {
   "cell_type": "markdown",
   "id": "6f9e9f39",
   "metadata": {},
   "source": [
    "Now that we have calculated the NDVI time series, we can utilize it to execute the peak valley algorithm that is part of the FuseTS algorithm. The peak valley algorithm is a powerful tool that allows us to detect significant changes in the vegetation patterns over time. "
   ]
  },
  {
   "cell_type": "code",
   "execution_count": 6,
   "id": "0af5514e",
   "metadata": {
    "tags": []
   },
   "outputs": [],
   "source": [
    "pv_result = peakvalley(ndvi, drop_thr=0.13, rec_r = 1.0, slope_thr=-0.007)"
   ]
  },
  {
   "cell_type": "code",
   "execution_count": 10,
   "id": "efcee94d",
   "metadata": {
    "tags": []
   },
   "outputs": [
    {
     "name": "stdout",
     "output_type": "stream",
     "text": [
      "lat\n"
     ]
    },
    {
     "data": {
      "application/vnd.jupyter.widget-view+json": {
       "model_id": "77b6671f4b2c4a2a8b3d7f5718225e57",
       "version_major": 2,
       "version_minor": 0
      },
      "text/plain": [
       "BokehModel(combine_events=True, render_bundle={'docs_json': {'746a8254-ead8-43e5-b23f-85a09cf665ed': {'defs': …"
      ]
     },
     "metadata": {},
     "output_type": "display_data"
    },
    {
     "data": {
      "text/html": [
       "<div style=\"display: none\"></div>"
      ],
      "text/plain": [
       ":Layout\n",
       "   .DynamicMap.I  :DynamicMap   [t]\n",
       "      :Overlay\n",
       "         .Tiles.I  :Tiles   [x,y]\n",
       "         .Ndvi.Raw :Image   [lon,lat]   (ndvi)\n",
       "   .DynamicMap.II :DynamicMap   []\n",
       "      :Overlay\n",
       "         .Curve.Raw_timeseries :Curve   [t]   (norm ndvi)\n",
       "         .VSpan.I              :VSpan   [x,y]\n",
       "         .VSpan.II             :VSpan   [x,y]\n",
       "         .VSpan.III            :VSpan   [x,y]"
      ]
     },
     "execution_count": 10,
     "metadata": {},
     "output_type": "execute_result"
    }
   ],
   "source": [
    "\n",
    "kdims = list(ndvi.dims)\n",
    "\n",
    "lon = hv.Dimension(\"lon\", label=\"longitude\", unit=\"deg Northing\")\n",
    "lat = hv.Dimension(\"lat\", label=\"latitude\", unit=\"deg Easting\")\n",
    "\n",
    "hv.Dimension.type_formatters[np.datetime64] = '%Y-%m-%d' # gets rid of the time dimension in the slider\n",
    "\n",
    "gv_ndvi = gv.Dataset(ndvi, kdims=kdims, vdims=[\"ndvi\"], crs=ccrs.epsg(\"32633\")).redim(x=lon, y=lat)\n",
    "ndvi_map = gv_ndvi.to(gv.Image, [\"lon\", \"lat\"], \"ndvi\", group=\"ndvi\", label=\"raw\", datatype=[\"xarray\"], dynamic=True)\n",
    "img_ndvi = ndvi_map.redim(x=lon, y=lat)\n",
    "\n",
    "overlay = OSM() * img_ndvi\n",
    "overlay.opts(\n",
    "    opts.Image(cmap=\"viridis\", colorbar=True, clim=(0, 1), alpha=0.8, tools=[\"hover\"]),\n",
    "    opts.Tiles(height=300, width=500))\n",
    "\n",
    "dim_t = hv.Dimension(\"t\", label=\"time\")\n",
    "dim_index = hv.Dimension(\"norm ndvi\", label=\"norm ndvi\")\n",
    "\n",
    "def get_curve_and_vspan(x, y):\n",
    "    x2 = (abs(x) // 10)*10 + 5\n",
    "    y2 = (abs(y) // 10)*10 + 5\n",
    "    out = hv.Curve(ndvi.sel(x=x2,y=y2).dropna(dim='t'), dim_t, dim_index, label=\"Raw timeseries\").opts(color='#D3D3D3')\n",
    "    \n",
    "    data = pv_result.sel(x=x2, y=y2)\n",
    "    pairs = np.transpose([np.where(data == 1)[0], np.where(data == -1)[0]])\n",
    "\n",
    "    \n",
    "    out *= hv.VSpan(pv_result.t.values[0], pv_result.t.values[1]).opts(color='red', alpha=0.0)\n",
    "    if len(pairs) == 0: \n",
    "        return out\n",
    "    \n",
    "    for pair in pairs:\n",
    "        out *= hv.VSpan(pv_result.t.values[pair[0]], pv_result.t.values[pair[1]]).opts(color='red', alpha=0.2)\n",
    "    \n",
    "    return out\n",
    "\n",
    "clicker = streams.Tap(source=img_ndvi, x=ndvi[\"x\"].values[0], y=ndvi[\"y\"].values[0]) \n",
    "aux_map = hv.DynamicMap(callback=get_curve_and_vspan, streams=[clicker])\n",
    "\n",
    "layout = overlay + aux_map\n",
    "layout.opts(\n",
    "    opts.Image(cmap=\"RdYlGn\", colorbar=True, clim=(0, 1), tools=[\"hover\"], alpha=0.8),\n",
    "    opts.Tiles(height=300, width=400),\n",
    "    opts.Curve(height=300, width=400, ylim=(0, 1)))"
   ]
  },
  {
   "cell_type": "code",
   "execution_count": null,
   "id": "f9a90253",
   "metadata": {},
   "outputs": [],
   "source": []
  },
  {
   "cell_type": "code",
   "execution_count": null,
   "id": "702db261",
   "metadata": {},
   "outputs": [],
   "source": []
  }
 ],
 "metadata": {
  "kernelspec": {
   "display_name": "Python 3 (ipykernel)",
   "language": "python",
   "name": "python3"
  },
  "language_info": {
   "codemirror_mode": {
    "name": "ipython",
    "version": 3
   },
   "file_extension": ".py",
   "mimetype": "text/x-python",
   "name": "python",
   "nbconvert_exporter": "python",
   "pygments_lexer": "ipython3",
   "version": "3.10.9"
  },
  "vscode": {
   "interpreter": {
    "hash": "33c20a4d08d84a1eb87b835f70d5565c784b8aa57395721a120453ef33ea65d1"
   }
  }
 },
 "nbformat": 4,
 "nbformat_minor": 5
}
