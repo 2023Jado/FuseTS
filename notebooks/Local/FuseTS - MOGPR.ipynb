{
 "cells": [
  {
   "cell_type": "markdown",
   "id": "09f1dc23",
   "metadata": {},
   "source": [
    "# MOGPR S1 RVI and S2 L2A NDVI "
   ]
  },
  {
   "cell_type": "markdown",
   "id": "dceb62b7",
   "metadata": {},
   "source": [
    "### Library import "
   ]
  },
  {
   "cell_type": "code",
   "execution_count": 1,
   "id": "1859e598",
   "metadata": {},
   "outputs": [],
   "source": [
    "import openeo\n",
    "from shapely.geometry import box\n",
    "import pandas as pd\n",
    "import numpy as np\n",
    "from openeo.rest.conversions import timeseries_json_to_pandas\n",
    "from datetime import datetime\n",
    "from fusets.mogpr import mogpr_1D"
   ]
  },
  {
   "cell_type": "markdown",
   "metadata": {},
   "source": [
    "### Data aquisition"
   ]
  },
  {
   "cell_type": "markdown",
   "metadata": {},
   "source": [
    "The test site is from an agricultural area of Castilla and León(Spain). The labeled crop types are for the year 2019, subsets of 20x20 pixels"
   ]
  },
  {
   "cell_type": "code",
   "execution_count": 2,
   "id": "384725e0",
   "metadata": {},
   "outputs": [
    {
     "data": {
      "text/html": [
       "<img src=\"https://github.com/Open-EO/FuseTS/blob/main/notebooks/AI4FOOD_ITACYL_subsets.png?raw=true\"/>"
      ],
      "text/plain": [
       "<IPython.core.display.Image object>"
      ]
     },
     "metadata": {},
     "output_type": "display_data"
    }
   ],
   "source": [
    "from IPython.display import display, Image\n",
    "display(Image(url ='https://github.com/Open-EO/FuseTS/blob/main/notebooks/AI4FOOD_ITACYL_subsets.png?raw=true'))"
   ]
  },
  {
   "cell_type": "markdown",
   "metadata": {},
   "source": [
    "Connect with VITO backend"
   ]
  },
  {
   "cell_type": "code",
   "execution_count": 3,
   "id": "a60383d1",
   "metadata": {},
   "outputs": [
    {
     "name": "stderr",
     "output_type": "stream",
     "text": [
      "OIDC token response did not contain refresh token.\n"
     ]
    },
    {
     "name": "stdout",
     "output_type": "stream",
     "text": [
      "Authenticated using refresh token.\n"
     ]
    }
   ],
   "source": [
    "connection = openeo.connect(\"openeo.vito.be\").authenticate_oidc()"
   ]
  },
  {
   "cell_type": "markdown",
   "metadata": {},
   "source": [
    "To retrieve AOI data from the year 2019, the spatiotemporal extent is determined as follows"
   ]
  },
  {
   "cell_type": "code",
   "execution_count": 4,
   "metadata": {},
   "outputs": [],
   "source": [
    "spat_ext = {\"west\":-4.8909914254212605,\"east\":-4.820438599493526,\"south\":41.74687686378393,\"north\":41.79965426256652}\n",
    "temp_ext = [\"2015-11-20\",\"2019-12-31\"]"
   ]
  },
  {
   "cell_type": "markdown",
   "metadata": {},
   "source": [
    "Extraction of RVI times series from Sentinel-1 (Ascending and Descending) and Sentinel-2 Level-2A NDVI."
   ]
  },
  {
   "cell_type": "code",
   "execution_count": 5,
   "id": "cf218e91",
   "metadata": {},
   "outputs": [],
   "source": [
    "from openeo.processes import eq\n",
    "s1_desc = connection.load_collection('SENTINEL1_GRD',\n",
    "                                    spatial_extent = spat_ext,\n",
    "                                    temporal_extent=temp_ext,\n",
    "                                    bands=[\"VH\",\"VV\"],\n",
    "                                    properties={\n",
    "                                       \"sat:orbit_state\": lambda x: eq(x, 'DESCENDING'),\n",
    "                                       \"resolution\": lambda x: eq(x, 'HIGH'),\n",
    "                                       \"sar:instrument_mode\": lambda x: eq(x, 'IW')                                     \n",
    "                                    }\n",
    "                                   )\n",
    "\n",
    "\n",
    "VH = s1_desc.band(\"VH\")\n",
    "VV = s1_desc.band(\"VV\")\n",
    "rvi_desc_cube = (VH + VH) / (VV + VH)\n",
    "\n",
    "s1_asc = connection.load_collection('SENTINEL1_GRD',\n",
    "                                    spatial_extent = spat_ext,\n",
    "                                    temporal_extent=temp_ext,\n",
    "                                    bands=[\"VH\",\"VV\"],\n",
    "                                    properties={\n",
    "                                       \"sat:orbit_state\": lambda x: eq(x, 'ASCENDING'),\n",
    "                                       \"resolution\": lambda x: eq(x, 'HIGH'),\n",
    "                                       \"sar:instrument_mode\": lambda x: eq(x, 'IW')                                     \n",
    "                                    }\n",
    "                                   )\n",
    "VH = s1_asc.band(\"VH\")\n",
    "VV = s1_asc.band(\"VV\")\n",
    "rvi_asc_cube = (VH + VH) / (VV + VH)\n",
    "\n",
    "s2 = connection.load_collection('SENTINEL2_L2A_SENTINELHUB',\n",
    "                                spatial_extent=spat_ext,\n",
    "                                temporal_extent=temp_ext,\n",
    "                                bands=[\"B04\",\"B08\",\"SCL\"])\n",
    "s2 = s2.process(\"mask_scl_dilation\", data=s2, scl_band_name=\"SCL\")\n",
    "ndvi_cube = s2.ndvi(red=\"B04\", nir=\"B08\")"
   ]
  },
  {
   "cell_type": "markdown",
   "metadata": {},
   "source": [
    "Subsets geometries"
   ]
  },
  {
   "cell_type": "code",
   "execution_count": 6,
   "id": "d61fc80b",
   "metadata": {},
   "outputs": [],
   "source": [
    "from shapely.geometry import box\n",
    "subsets = {\n",
    "    'Rye' : box(-4.867495201109149, 41.77850665915476, -4.865177772520282, 41.780106793555454),\n",
    "    'Rape' : box(-4.875091217039325, 41.77290587433312, -4.872773788450457, 41.77450614847532),\n",
    "    'Barley' : box(-4.879382751463153, 41.76996126559408,-4.8770653228742855, 41.77156161319915),\n",
    "    'Wheat' : box(-4.851616523740985, 41.763015294346935, -4.8492990951521175, 41.76461581522523)    \n",
    "}"
   ]
  },
  {
   "cell_type": "markdown",
   "metadata": {},
   "source": [
    "Select one subset"
   ]
  },
  {
   "cell_type": "code",
   "execution_count": 7,
   "id": "0f3dbac1",
   "metadata": {},
   "outputs": [],
   "source": [
    "crop = 'Wheat'\n",
    "point_area = subsets[crop]"
   ]
  },
  {
   "cell_type": "markdown",
   "metadata": {},
   "source": [
    "Get the timeseries of the subset"
   ]
  },
  {
   "cell_type": "code",
   "execution_count": 8,
   "id": "919e702a",
   "metadata": {},
   "outputs": [],
   "source": [
    "cubes_dfs = []\n",
    "for cube in [ndvi_cube, rvi_desc_cube, rvi_asc_cube]:\n",
    "    point_timeseries = cube.polygonal_mean_timeseries(point_area).execute()\n",
    "    df = timeseries_json_to_pandas(point_timeseries)\n",
    "    df.index = pd.to_datetime(df.index)\n",
    "    cubes_dfs.append(df) \n",
    "\n",
    "# Join signal dfs\n",
    "subset_df = pd.concat(cubes_dfs, axis=1)\n",
    "subset_df = subset_df.rename(columns={0: 'NDVI', 1: 'RVI_DESC', 2: 'RVI_ASC'})  "
   ]
  },
  {
   "cell_type": "markdown",
   "metadata": {},
   "source": [
    "Original timeseries of the subset"
   ]
  },
  {
   "cell_type": "code",
   "execution_count": 9,
   "metadata": {},
   "outputs": [
    {
     "data": {
      "text/plain": [
       "(0.0, 1.0)"
      ]
     },
     "execution_count": 9,
     "metadata": {},
     "output_type": "execute_result"
    },
    {
     "data": {
      "image/png": "[encoded data removed]",
      "text/plain": [
       "<Figure size 432x288 with 1 Axes>"
      ]
     },
     "metadata": {
      "needs_background": "light"
     },
     "output_type": "display_data"
    }
   ],
   "source": [
    "plot = subset_df.plot(marker='.', linestyle='None')\n",
    "fig = plot.get_figure()\n",
    "ax = fig.gca()\n",
    "ax.set_ylim([0, 1])"
   ]
  },
  {
   "cell_type": "markdown",
   "metadata": {},
   "source": [
    "### MOGPR"
   ]
  },
  {
   "cell_type": "markdown",
   "metadata": {},
   "source": [
    "Preprocessing for MOGPR"
   ]
  },
  {
   "cell_type": "code",
   "execution_count": 10,
   "metadata": {},
   "outputs": [],
   "source": [
    "# Use only 2 signals\n",
    "signals = ['NDVI', 'RVI_DESC']\n",
    "\n",
    "time_step = 15\n",
    "time       = []\n",
    "data       = []\n",
    "time_str   = []\n",
    "\n",
    "for signal in signals:\n",
    "    time_vec_num = np.asarray([ _.toordinal() for _ in subset_df.index], dtype=np.float64)        \n",
    "    time.append(time_vec_num)\n",
    "    data.append(subset_df[signal].to_numpy())         \n",
    "\n",
    "time_vec_min        = np.min(list(pd.core.common.flatten(time)))\n",
    "time_vec_max        = np.max(list(pd.core.common.flatten(time)))\n",
    "output_timevec      = np.array(range(int(time_vec_min), int(time_vec_max), time_step), dtype = np.float64)  \n",
    "output_time         = [datetime.fromordinal(int(_)) for _ in output_timevec]"
   ]
  },
  {
   "cell_type": "markdown",
   "metadata": {},
   "source": [
    "Run MOGPR"
   ]
  },
  {
   "cell_type": "code",
   "execution_count": 11,
   "metadata": {},
   "outputs": [],
   "source": [
    "master_ind = 1\n",
    "nt = 1\n",
    "out_mean, out_std, out_qflag, out_model = mogpr_1D(data[:], time[:],master_ind,output_timevec,nt)"
   ]
  },
  {
   "cell_type": "markdown",
   "metadata": {},
   "source": [
    "Convert to pandas dataframe"
   ]
  },
  {
   "cell_type": "code",
   "execution_count": 12,
   "metadata": {},
   "outputs": [],
   "source": [
    "nout = len(out_mean)\n",
    "out_mean_list = []\n",
    "for ind in range(nout):\n",
    "    out_mean_list.append(out_mean[ind].ravel())\n",
    "    \n",
    "df_mogpr_out_mean = pd.DataFrame(np.column_stack(out_mean_list), columns=signals)\n",
    "df_mogpr_out_mean.index = output_time"
   ]
  },
  {
   "cell_type": "markdown",
   "metadata": {},
   "source": [
    "Plot the results"
   ]
  },
  {
   "cell_type": "code",
   "execution_count": 13,
   "metadata": {},
   "outputs": [
    {
     "data": {
      "text/plain": [
       "(0.0, 1.0)"
      ]
     },
     "execution_count": 13,
     "metadata": {},
     "output_type": "execute_result"
    },
    {
     "data": {
      "image/png": "[encoded data removed]",
      "text/plain": [
       "<Figure size 432x288 with 1 Axes>"
      ]
     },
     "metadata": {
      "needs_background": "light"
     },
     "output_type": "display_data"
    }
   ],
   "source": [
    "plot = df_mogpr_out_mean.plot(marker='.', linestyle='--')\n",
    "fig = plot.get_figure()\n",
    "ax = fig.gca()\n",
    "ax.set_ylim([0, 1])"
   ]
  }
 ],
 "metadata": {
  "kernelspec": {
   "display_name": "Python 3.6.13 ('AI4FOOD36')",
   "language": "python",
   "name": "python3"
  },
  "language_info": {
   "codemirror_mode": {
    "name": "ipython",
    "version": 3
   },
   "file_extension": ".py",
   "mimetype": "text/x-python",
   "name": "python",
   "nbconvert_exporter": "python",
   "pygments_lexer": "ipython3",
   "version": "3.6.13"
  },
  "orig_nbformat": 4,
  "vscode": {
   "interpreter": {
    "hash": "d6459f06469b8c17986bc8d8ad618ef79a3513a7ba455bc97c14b25c6930a87c"
   }
  }
 },
 "nbformat": 4,
 "nbformat_minor": 2
}
