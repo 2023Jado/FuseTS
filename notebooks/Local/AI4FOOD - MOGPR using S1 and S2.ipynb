{
 "cells": [
  {
   "cell_type": "markdown",
   "id": "305d28ed",
   "metadata": {},
   "source": [
    "# MOGPR S1 RVI and S2 L2A NDVI "
   ]
  },
  {
   "cell_type": "markdown",
   "id": "19fc8ed2",
   "metadata": {},
   "source": [
    "### Library import "
   ]
  },
  {
   "cell_type": "code",
   "execution_count": 1,
   "id": "1cc71e26",
   "metadata": {},
   "outputs": [],
   "source": [
    "import os \n",
    "import sys\n",
    "\n",
    "# Add local version of FuseTS\"\"\n",
    "module_path = os.path.abspath(os.path.join('../../src'))\n",
    "if module_path not in sys.path:\n",
    "    sys.path.append(module_path)\n",
    "\n",
    "import GPy\n",
    "import openeo\n",
    "import rasterio\n",
    "from shapely.geometry import box\n",
    "import pandas as pd\n",
    "import numpy as np\n",
    "from openeo.rest.conversions import timeseries_json_to_pandas\n",
    "from openeo.processes import eq\n",
    "from datetime import datetime\n",
    "import itertools\n",
    "import matplotlib.pyplot as plt\n",
    "import matplotlib.dates as mdates\n",
    "from fusets.mogpr import mogpr\n",
    "import xarray"
   ]
  },
  {
   "cell_type": "markdown",
   "id": "ce31917f",
   "metadata": {},
   "source": [
    "### Connection with the backend"
   ]
  },
  {
   "cell_type": "code",
   "execution_count": 2,
   "id": "21c03ee6",
   "metadata": {},
   "outputs": [
    {
     "name": "stdout",
     "output_type": "stream",
     "text": [
      "Authenticated using refresh token.\n"
     ]
    }
   ],
   "source": [
    "#connect with VITO backend\n",
    "connection = openeo.connect(\"openeo.vito.be\").authenticate_oidc()"
   ]
  },
  {
   "cell_type": "markdown",
   "id": "c7811eda",
   "metadata": {},
   "source": [
    "### AOI and date range"
   ]
  },
  {
   "cell_type": "code",
   "execution_count": 3,
   "id": "418708c8",
   "metadata": {},
   "outputs": [],
   "source": [
    "spat_ext = {\"west\":-4.8909914254212605,\"east\":-4.820438599493526,\"south\":41.74687686378393,\"north\":41.79965426256652}\n",
    "temp_ext = [\"2015-11-20\",\"2019-12-31\"]"
   ]
  },
  {
   "cell_type": "markdown",
   "id": "53a9b17c",
   "metadata": {},
   "source": [
    "### Cubes generation\n",
    "Extraction of RVI times series from Sentinel-1 (Ascending and Descending) and Sentinel-2 Level-2A NDVI."
   ]
  },
  {
   "cell_type": "code",
   "execution_count": 4,
   "id": "5873c31b",
   "metadata": {},
   "outputs": [
    {
     "name": "stderr",
     "output_type": "stream",
     "text": [
      " /Users/bram/VITO/FuseTS/venv_py10/lib/python3.10/site-packages/openeo/rest/connection.py:992: UserWarning:SENTINEL1_GRD property filtering with properties that are undefined in the collection metadata (summaries): resolution.\n"
     ]
    }
   ],
   "source": [
    "s1_desc = connection.load_collection('SENTINEL1_GRD',\n",
    "                                    spatial_extent = spat_ext,\n",
    "                                    temporal_extent=temp_ext,\n",
    "                                    bands=[\"VH\",\"VV\"],\n",
    "                                    properties={\n",
    "                                       \"sat:orbit_state\": lambda x: eq(x, 'DESCENDING'),\n",
    "                                       \"resolution\": lambda x: eq(x, 'HIGH'),\n",
    "                                       \"sar:instrument_mode\": lambda x: eq(x, 'IW')                                     \n",
    "                                    }\n",
    "                                   )\n",
    "\n",
    "\n",
    "VH = s1_desc.band(\"VH\")\n",
    "VV = s1_desc.band(\"VV\")\n",
    "rvi_desc_cube = (VH + VH) / (VV + VH)"
   ]
  },
  {
   "cell_type": "code",
   "execution_count": 5,
   "id": "e2e9427b",
   "metadata": {},
   "outputs": [],
   "source": [
    "s1_asc = connection.load_collection('SENTINEL1_GRD',\n",
    "                                    spatial_extent = spat_ext,\n",
    "                                    temporal_extent=temp_ext,\n",
    "                                    bands=[\"VH\",\"VV\"],\n",
    "                                    properties={\n",
    "                                       \"sat:orbit_state\": lambda x: eq(x, 'ASCENDING'),\n",
    "                                       \"resolution\": lambda x: eq(x, 'HIGH'),\n",
    "                                       \"sar:instrument_mode\": lambda x: eq(x, 'IW')                                     \n",
    "                                    }\n",
    "                                   )\n",
    "VH = s1_asc.band(\"VH\")\n",
    "VV = s1_asc.band(\"VV\")\n",
    "rvi_asc_cube = (VH + VH) / (VV + VH)"
   ]
  },
  {
   "cell_type": "code",
   "execution_count": 6,
   "id": "943cc0ce",
   "metadata": {},
   "outputs": [],
   "source": [
    "s2 = connection.load_collection('SENTINEL2_L2A_SENTINELHUB',\n",
    "                                spatial_extent=spat_ext,\n",
    "                                temporal_extent=temp_ext,\n",
    "                                bands=[\"B04\",\"B08\",\"SCL\"])\n",
    "s2 = s2.process(\"mask_scl_dilation\", data=s2, scl_band_name=\"SCL\")\n",
    "ndvi_cube = s2.ndvi(red=\"B04\", nir=\"B08\")"
   ]
  },
  {
   "cell_type": "code",
   "execution_count": 7,
   "id": "ab72c4b1",
   "metadata": {},
   "outputs": [],
   "source": [
    "cubes = [{\n",
    "    'name': 'rvi_desc_cube.nc', \n",
    "    'cube': rvi_desc_cube,\n",
    "    'var': 'rvi_desc'\n",
    "}, {\n",
    "    'name': 'rvi_asc_cube.nc', \n",
    "    'cube': rvi_asc_cube, \n",
    "    'var': 'rvi_asc'\n",
    "}, {\n",
    "    'name': 'ndvi_cube.nc',\n",
    "    'cube': ndvi_cube,\n",
    "    'var': 'ndvi'\n",
    "}]"
   ]
  },
  {
   "cell_type": "code",
   "execution_count": 8,
   "id": "1ffaf5cd",
   "metadata": {},
   "outputs": [],
   "source": [
    "for cube in cubes:\n",
    "    if not os.path.exists('./' + cube['name']):\n",
    "        job = cube['cube'].execute_batch(cube['name'], title=f'AI4FOOD - MOGPR - {cube[\"name\"]}', out_format=\"netCDF\")"
   ]
  },
  {
   "cell_type": "code",
   "execution_count": 9,
   "id": "1d8b15fa",
   "metadata": {},
   "outputs": [],
   "source": [
    "data = [xarray.load_dataset(cube['name']) for cube in cubes]\n"
   ]
  },
  {
   "cell_type": "code",
   "execution_count": 10,
   "id": "b2c07b26",
   "metadata": {},
   "outputs": [],
   "source": [
    "merged = data[0].rename({'var': cubes[0]['var']})\n",
    "for idx, cube in enumerate(cubes[1:]):\n",
    "    merged[cube['var']] = data[idx + 1].rename({'var': cube['var']})[cube['var']]\n",
    "merged = merged[[cube['var'] for cube in cubes]]"
   ]
  },
  {
   "cell_type": "code",
   "execution_count": null,
   "id": "33c7d812",
   "metadata": {},
   "outputs": [],
   "source": [
    "out = mogpr(merged, ['ndvi'])\n",
    "out"
   ]
  },
  {
   "cell_type": "markdown",
   "id": "e13e372e",
   "metadata": {},
   "source": [
    "### Test site subsets\n",
    "Inside each parcel, parcels of 20x20 pixels have been determined as follows."
   ]
  },
  {
   "cell_type": "code",
   "execution_count": null,
   "id": "4cf4e074",
   "metadata": {},
   "outputs": [],
   "source": [
    "from IPython.display import display, Image\n",
    "display(Image(url ='https://github.com/Open-EO/FuseTS/blob/main/notebooks/AI4FOOD_ITACYL_subsets.png?raw=true'))"
   ]
  },
  {
   "cell_type": "markdown",
   "id": "b2616d3d",
   "metadata": {},
   "source": [
    "Geometry of the subsets"
   ]
  },
  {
   "cell_type": "code",
   "execution_count": null,
   "id": "ca7a14fd",
   "metadata": {},
   "outputs": [],
   "source": [
    "from shapely.geometry import box\n",
    "subsets = {\n",
    "    'Rye' : box(-4.867495201109149, 41.77850665915476, -4.865177772520282, 41.780106793555454),\n",
    "    'Rape' : box(-4.875091217039325, 41.77290587433312, -4.872773788450457, 41.77450614847532),\n",
    "    'Barley' : box(-4.879382751463153, 41.76996126559408,-4.8770653228742855, 41.77156161319915),\n",
    "    'Wheat' : box(-4.851616523740985, 41.763015294346935, -4.8492990951521175, 41.76461581522523)    \n",
    "}"
   ]
  },
  {
   "cell_type": "markdown",
   "id": "ce736b5b",
   "metadata": {},
   "source": [
    "Selection of the desired subset"
   ]
  },
  {
   "cell_type": "code",
   "execution_count": null,
   "id": "bea71b0a",
   "metadata": {},
   "outputs": [],
   "source": [
    "crop = 'Wheat'\n",
    "point_area = subsets[crop]"
   ]
  },
  {
   "cell_type": "code",
   "execution_count": null,
   "id": "b01909d0",
   "metadata": {},
   "outputs": [],
   "source": [
    "%%time\n",
    "cubes_dfs = []\n",
    "for cube in [rvi_desc_cube, rvi_asc_cube, ndvi_cube]:\n",
    "    point_timeseries = cube.polygonal_mean_timeseries(point_area).execute()\n",
    "    df = timeseries_json_to_pandas(point_timeseries)\n",
    "    df.index = pd.to_datetime(df.index)\n",
    "    cubes_dfs.append(df)    "
   ]
  },
  {
   "cell_type": "markdown",
   "id": "27251dd3",
   "metadata": {},
   "source": [
    "Prepare de time series dataset"
   ]
  },
  {
   "cell_type": "code",
   "execution_count": null,
   "id": "3c52699c",
   "metadata": {},
   "outputs": [],
   "source": [
    "joined_df = pd.concat(cubes_dfs, axis=1)\n",
    "joined_df = joined_df.rename(columns={0: 'RVI_DESC', 1: 'RVI_ASC', 2: 'NDVI'})"
   ]
  },
  {
   "cell_type": "markdown",
   "id": "89a6875c",
   "metadata": {},
   "source": [
    "Plot the dataset with the time series"
   ]
  },
  {
   "cell_type": "code",
   "execution_count": null,
   "id": "0316ad12",
   "metadata": {},
   "outputs": [],
   "source": [
    "%matplotlib inline\n",
    "plot = joined_df.plot(marker='.', linestyle='None')\n",
    "fig = plot.get_figure()\n",
    "ax = fig.gca()\n",
    "ax.set_ylim([0, 1])\n",
    "#fig.savefig(\"./fig_out/\"+crop+\"TS.png\", bbox_inches='tight')"
   ]
  },
  {
   "cell_type": "markdown",
   "id": "92f191dd",
   "metadata": {},
   "source": [
    "Time step definition and preprocessing of the data"
   ]
  },
  {
   "cell_type": "code",
   "execution_count": null,
   "id": "e2b687ed",
   "metadata": {},
   "outputs": [],
   "source": [
    "Tstep      = 15\n",
    "\n",
    "TIME       = []\n",
    "DATA       = []\n",
    "TIME_str   = []\n",
    "legend_vec = []\n",
    "\n",
    "time_vec_num = np.asarray([ _.toordinal() for _ in joined_df.index], dtype=np.float32)\n",
    "TIME.append(time_vec_num)\n",
    "DATA.append(np.reshape(joined_df['RVI_DESC'].to_numpy(),(joined_df.shape[0],1,1)))\n",
    "\n",
    "time_vec_num = np.asarray([ _.toordinal() for _ in joined_df.index], dtype=np.float32)\n",
    "TIME.append(time_vec_num)\n",
    "DATA.append(np.reshape(joined_df['RVI_ASC'].to_numpy(),(joined_df.shape[0],1,1)))   \n",
    "\n",
    "time_vec_num = np.asarray([ _.toordinal() for _ in joined_df.index], dtype=np.float32)\n",
    "TIME.append(time_vec_num)\n",
    "DATA.append(np.reshape(joined_df['NDVI'].to_numpy(),(joined_df.shape[0],1,1)))\n",
    "\n",
    "time_vec_MIN        = np.min(list(pd.core.common.flatten(TIME)))\n",
    "time_vec_MAX        = np.max(list(pd.core.common.flatten(TIME)))\n",
    "output_timevec      = np.array(range(int(time_vec_MIN),int(time_vec_MAX),Tstep),dtype=float)  \n",
    "output_time         = [datetime.fromordinal(int(_)) for _ in output_timevec]\n",
    "\n",
    "nt = 1"
   ]
  },
  {
   "cell_type": "code",
   "execution_count": null,
   "id": "1c2f8c01",
   "metadata": {},
   "outputs": [],
   "source": [
    "%%time\n",
    "print('MOGPR Being calculated')\n",
    "master_ind = 1\n",
    "out_mean, out_std, out_qflag, out_model = MOGRP_GPY_retrieval(DATA[:],TIME[:],master_ind,output_timevec,nt)"
   ]
  },
  {
   "cell_type": "markdown",
   "id": "f15ff01d",
   "metadata": {},
   "source": [
    "Postprocessing of MOGPR data"
   ]
  },
  {
   "cell_type": "code",
   "execution_count": null,
   "id": "4970128b",
   "metadata": {},
   "outputs": [],
   "source": [
    "nout = len(out_mean)\n",
    "out_mean_list = []\n",
    "for ind in range(nout):\n",
    "    out_mean_list.append(out_mean[ind].ravel())\n",
    "    \n",
    "df_mogpr_out_mean = pd.DataFrame(np.column_stack(out_mean_list), columns=['RVI_DESC', 'RVI_ASC', 'NDVI'])\n",
    "df_mogpr_out_mean.index = output_time\n",
    "df_mogpr_out_mean"
   ]
  },
  {
   "cell_type": "code",
   "execution_count": null,
   "id": "44457643",
   "metadata": {},
   "outputs": [],
   "source": [
    "plot =df_mogpr_out_mean.plot(marker='.', linestyle='--')\n",
    "fig = plot.get_figure()\n",
    "ax = fig.gca()\n",
    "ax.set_ylim([0, 1])\n",
    "#fig.savefig(\"./fig_out/\"+crop+\"_MOGPR.png\", bbox_inches='tight')"
   ]
  },
  {
   "cell_type": "markdown",
   "id": "d2adf1b1",
   "metadata": {},
   "source": [
    "### Uncertainty retrieval per each crop and index. \n",
    "First, postprocessing of the data as in the mean."
   ]
  },
  {
   "cell_type": "code",
   "execution_count": null,
   "id": "be5c519c",
   "metadata": {},
   "outputs": [],
   "source": [
    "nout = len(out_mean)\n",
    "out_std_list = []\n",
    "for ind in range(nout):\n",
    "    out_std_list.append(out_std[ind].ravel())\n",
    "    \n",
    "df_mogpr_out_std = pd.DataFrame(np.column_stack(out_std_list), columns=['RVI_DESC', 'RVI_ASC', 'NDVI'])\n",
    "df_mogpr_out_std.index = output_time\n",
    "df_mogpr_out_std"
   ]
  },
  {
   "cell_type": "markdown",
   "id": "8be0292d",
   "metadata": {},
   "source": [
    "Show the results"
   ]
  },
  {
   "cell_type": "code",
   "execution_count": null,
   "id": "a15c975d",
   "metadata": {},
   "outputs": [],
   "source": [
    "for vi in df_mogpr_out_mean:\n",
    "    fig, ax = plt.subplots()\n",
    "    ax.fill_between(df_mogpr_out_mean.index, df_mogpr_out_mean[vi]+np.sqrt(df_mogpr_out_std[vi]), df_mogpr_out_mean[vi]-np.sqrt(df_mogpr_out_std[vi]), label='±SD Int', alpha=0.3, color='#36942E')\n",
    "    ax.plot(df_mogpr_out_mean.index, df_mogpr_out_mean[vi], '.-', label='mean Int', color='#36942E')\n",
    "    ax.set_ylim([-0.4, 1.2])\n",
    "    ax.xaxis.set_major_locator(mdates.YearLocator())\n",
    "    ax.set_title(vi)\n",
    "    plt.legend()\n",
    "    #fig.savefig(\"./fig_out/\"+crop+\"_\"+vi+\"_MOGPR_std.png\", bbox_inches='tight')\n",
    "    plt.show()\n",
    "    plt.close()    "
   ]
  },
  {
   "cell_type": "code",
   "execution_count": null,
   "id": "1ed24b2c",
   "metadata": {},
   "outputs": [],
   "source": []
  }
 ],
 "metadata": {
  "kernelspec": {
   "display_name": "Python 3 (ipykernel)",
   "language": "python",
   "name": "python3"
  },
  "language_info": {
   "codemirror_mode": {
    "name": "ipython",
    "version": 3
   },
   "file_extension": ".py",
   "mimetype": "text/x-python",
   "name": "python",
   "nbconvert_exporter": "python",
   "pygments_lexer": "ipython3",
   "version": "3.10.6"
  }
 },
 "nbformat": 4,
 "nbformat_minor": 5
}
