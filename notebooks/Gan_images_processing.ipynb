{
 "cells": [
  {
   "cell_type": "markdown",
   "id": "f6b67773",
   "metadata": {},
   "source": [
    "## Library import"
   ]
  },
  {
   "cell_type": "code",
   "execution_count": 1,
   "id": "9a695295",
   "metadata": {},
   "outputs": [],
   "source": [
    "import os\n",
    "from os import listdir\n",
    "from os.path import isfile, join\n",
    "import numpy as np\n",
    "from osgeo import gdal, gdalconst\n",
    "from matplotlib import pyplot as plt\n",
    "import time\n",
    "import re\n",
    "from datetime import datetime, timedelta\n",
    "import math\n",
    "import pandas as pd\n",
    "from osgeo.gdalconst import *"
   ]
  },
  {
   "cell_type": "markdown",
   "id": "246f46b9",
   "metadata": {},
   "source": [
    "## List of files"
   ]
  },
  {
   "cell_type": "code",
   "execution_count": 2,
   "id": "bf70cb8b",
   "metadata": {},
   "outputs": [],
   "source": [
    "# Folder containing the tif\n",
    "cover = 'Wheat'\n",
    "mypath = \"./data_out/test/gan_results/\" + cover + \"/\"\n",
    "tif_list = [f for f in listdir(mypath) if (isfile(join(mypath, f))) and (f.endswith(\".tif\"))]"
   ]
  },
  {
   "cell_type": "markdown",
   "id": "98ecc504",
   "metadata": {},
   "source": [
    "## Create lists from the imageCollection"
   ]
  },
  {
   "cell_type": "code",
   "execution_count": 4,
   "id": "6ccea144",
   "metadata": {},
   "outputs": [
    {
     "name": "stdout",
     "output_type": "stream",
     "text": [
      "Wall time: 229 ms\n"
     ]
    }
   ],
   "source": [
    "%%time\n",
    "input_dates = []\n",
    "input_data = []\n",
    "data_tuples = []\n",
    "for f in tif_list:\n",
    "    # File handlers\n",
    "    img_f = join(mypath, f)\n",
    "    file_handler = gdal.Open(img_f, gdalconst.GA_ReadOnly)\n",
    "    if not file_handler:\n",
    "        print(\"Error reading data from\",img_f)\n",
    "    else:                      \n",
    "        data = file_handler.GetRasterBand(1).ReadAsArray().flatten()\n",
    "        data = data[data != 255].astype(np.ubyte)\n",
    "        m = (data.mean()/250)-0.08\n",
    "        input_data.append(m)\n",
    "        # Datetime\n",
    "        date_str = re.search('\\d{4}-\\d{2}-\\d{2}', f).group(0)\n",
    "        datetime_object = datetime.strptime(date_str, '%Y-%m-%d')\n",
    "        input_dates.append(datetime_object)\n",
    "        t = (datetime_object, m)\n",
    "        data_tuples.append(t)\n",
    "       \n",
    "data_tuples = sorted(data_tuples, key=lambda x: x[0])"
   ]
  },
  {
   "cell_type": "code",
   "execution_count": 5,
   "id": "206a6978",
   "metadata": {},
   "outputs": [
    {
     "data": {
      "text/html": [
       "<div>\n",
       "<style scoped>\n",
       "    .dataframe tbody tr th:only-of-type {\n",
       "        vertical-align: middle;\n",
       "    }\n",
       "\n",
       "    .dataframe tbody tr th {\n",
       "        vertical-align: top;\n",
       "    }\n",
       "\n",
       "    .dataframe thead th {\n",
       "        text-align: right;\n",
       "    }\n",
       "</style>\n",
       "<table border=\"1\" class=\"dataframe\">\n",
       "  <thead>\n",
       "    <tr style=\"text-align: right;\">\n",
       "      <th></th>\n",
       "      <th>NDVI_gan</th>\n",
       "    </tr>\n",
       "    <tr>\n",
       "      <th>date</th>\n",
       "      <th></th>\n",
       "    </tr>\n",
       "  </thead>\n",
       "  <tbody>\n",
       "    <tr>\n",
       "      <th>2015-11-20</th>\n",
       "      <td>0.149500</td>\n",
       "    </tr>\n",
       "    <tr>\n",
       "      <th>2015-11-25</th>\n",
       "      <td>0.132466</td>\n",
       "    </tr>\n",
       "    <tr>\n",
       "      <th>2015-11-30</th>\n",
       "      <td>0.138057</td>\n",
       "    </tr>\n",
       "    <tr>\n",
       "      <th>2015-12-05</th>\n",
       "      <td>0.154807</td>\n",
       "    </tr>\n",
       "    <tr>\n",
       "      <th>2015-12-10</th>\n",
       "      <td>0.171250</td>\n",
       "    </tr>\n",
       "    <tr>\n",
       "      <th>...</th>\n",
       "      <td>...</td>\n",
       "    </tr>\n",
       "    <tr>\n",
       "      <th>2019-12-09</th>\n",
       "      <td>0.120636</td>\n",
       "    </tr>\n",
       "    <tr>\n",
       "      <th>2019-12-14</th>\n",
       "      <td>0.129034</td>\n",
       "    </tr>\n",
       "    <tr>\n",
       "      <th>2019-12-19</th>\n",
       "      <td>0.149693</td>\n",
       "    </tr>\n",
       "    <tr>\n",
       "      <th>2019-12-24</th>\n",
       "      <td>0.160682</td>\n",
       "    </tr>\n",
       "    <tr>\n",
       "      <th>2019-12-29</th>\n",
       "      <td>0.170830</td>\n",
       "    </tr>\n",
       "  </tbody>\n",
       "</table>\n",
       "<p>301 rows × 1 columns</p>\n",
       "</div>"
      ],
      "text/plain": [
       "            NDVI_gan\n",
       "date                \n",
       "2015-11-20  0.149500\n",
       "2015-11-25  0.132466\n",
       "2015-11-30  0.138057\n",
       "2015-12-05  0.154807\n",
       "2015-12-10  0.171250\n",
       "...              ...\n",
       "2019-12-09  0.120636\n",
       "2019-12-14  0.129034\n",
       "2019-12-19  0.149693\n",
       "2019-12-24  0.160682\n",
       "2019-12-29  0.170830\n",
       "\n",
       "[301 rows x 1 columns]"
      ]
     },
     "execution_count": 5,
     "metadata": {},
     "output_type": "execute_result"
    }
   ],
   "source": [
    "gan_df = pd.DataFrame(data_tuples, columns=['date','NDVI_gan'])\n",
    "gan_df = gan_df.set_index('date')\n",
    "gan_df"
   ]
  },
  {
   "cell_type": "code",
   "execution_count": 6,
   "id": "88454466",
   "metadata": {},
   "outputs": [
    {
     "data": {
      "image/png": "[encoded data removed]",
      "text/plain": [
       "<Figure size 432x288 with 1 Axes>"
      ]
     },
     "metadata": {
      "needs_background": "light"
     },
     "output_type": "display_data"
    }
   ],
   "source": [
    "%matplotlib inline\n",
    "plot = gan_df.plot(marker='.', linestyle='None')\n",
    "fig = plot.get_figure()\n",
    "ax = fig.gca()\n",
    "#fig.savefig(\"./fig_out/\"+cover+\"TS.pdf\", bbox_inches='tight')"
   ]
  }
 ],
 "metadata": {
  "kernelspec": {
   "display_name": "Python 3",
   "language": "python",
   "name": "python3"
  },
  "language_info": {
   "codemirror_mode": {
    "name": "ipython",
    "version": 3
   },
   "file_extension": ".py",
   "mimetype": "text/x-python",
   "name": "python",
   "nbconvert_exporter": "python",
   "pygments_lexer": "ipython3",
   "version": "3.6.13"
  }
 },
 "nbformat": 4,
 "nbformat_minor": 5
}
