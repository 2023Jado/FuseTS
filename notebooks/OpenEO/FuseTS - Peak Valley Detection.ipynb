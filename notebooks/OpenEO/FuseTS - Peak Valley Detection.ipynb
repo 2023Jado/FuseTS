{
 "cells": [
  {
   "cell_type": "markdown",
   "id": "cc5086b5",
   "metadata": {},
   "source": [
    "# FuseTS - Peak-Valley detection in S2 NDVI\n",
    "\n",
    "Welcome to this Jupyter Notebook where we will be working with time series data! Our goal is to download a time series data for a meadow and use the [peak-valley](https://open-eo.github.io/FuseTS/api.html#fusets.peakvalley.peakvalley) detection algorithm from FuseTS to extract insights from the data. Time series analysis is a powerful tool that allows us to understand patterns and trends in data over time, and we will be leveraging this tool to analyze the data for the meadow. With the help of the FuseTS peak-valley detection algorithm, we will be able to identify the highest and lowest points in the data, allowing us to gain a better understanding of the underlying patterns and trends.\n",
    "\n",
    "\n",
    "**Prerequisites**\n",
    "* In this notebook we are using openEO to fetch the time series data for the meadow. You can register for a free trial account on the [openEO Platform](https://openeo.cloud/#plans) website.\n",
    "* jupyter labextension install @jupyter-widgets/jupyterlab-manager, jupyter labextension install @bokeh/jupyter_bokeh@2.0.4"
   ]
  },
  {
   "cell_type": "markdown",
   "id": "ff2bffbe",
   "metadata": {},
   "source": [
    "Lets start with importing the different libraries that we need within this notebook."
   ]
  },
  {
   "cell_type": "code",
   "execution_count": 1,
   "id": "b99cd944",
   "metadata": {
    "tags": []
   },
   "outputs": [],
   "source": [
    "import openeo\n",
    "import xarray"
   ]
  },
  {
   "cell_type": "markdown",
   "id": "07a994e4",
   "metadata": {},
   "source": [
    "### Use `datacube_from_process` to get initial DataCube\n",
    "Get output datacube from process by passing in the process parameters:\n",
    "\n",
    "**Mandatory**\n",
    "- `data`: Initial datacube that contains the data to be processed\n",
    "\n",
    "**Optional**\n",
    "- `drop_thr`: Threshold value for the amplitude of the drop in the input feature\n",
    "- `rec_r`: Threshold value for the amplitude of the recovery, relative to the `drop_delta`\n",
    "- `slope_thr`: Threshold value for the slope where the peak should start"
   ]
  },
  {
   "cell_type": "code",
   "execution_count": 2,
   "id": "4fd93d8c",
   "metadata": {
    "tags": []
   },
   "outputs": [
    {
     "name": "stdout",
     "output_type": "stream",
     "text": [
      "Authenticated using refresh token.\n"
     ]
    }
   ],
   "source": [
    "connection = openeo.connect(\"openeo.vito.be\").authenticate_oidc()\n",
    "service = 'peakvalley'\n",
    "namespace = 'u:bramjanssen'"
   ]
  },
  {
   "cell_type": "code",
   "execution_count": 3,
   "id": "f0368756",
   "metadata": {},
   "outputs": [
    {
     "data": {
      "text/html": [
       "\n",
       "    <script>\n",
       "    if (!window.customElements || !window.customElements.get('openeo-process')) {\n",
       "        var el = document.createElement('script');\n",
       "        el.src = \"https://cdn.jsdelivr.net/npm/@openeo/vue-components@2/assets/openeo.min.js\";\n",
       "        document.head.appendChild(el);\n",
       "\n",
       "        var font = document.createElement('font');\n",
       "        font.as = \"font\";\n",
       "        font.type = \"font/woff2\";\n",
       "        font.crossOrigin = true;\n",
       "        font.href = \"https://use.fontawesome.com/releases/v5.13.0/webfonts/fa-solid-900.woff2\"\n",
       "        document.head.appendChild(font);\n",
       "    }\n",
       "    </script>\n",
       "    <openeo-process>\n",
       "        <script type=\"application/json\">{\"show-graph\": true, \"provide-download\": false, \"process\": {\"description\": \"# Peak Valley\\n\\n## Description\\n\\n\\n\", \"id\": \"peakvalley\", \"parameters\": [{\"description\": \"A data cube.\", \"name\": \"data\", \"schema\": {\"subtype\": \"raster-cube\", \"type\": \"object\"}}, {\"default\": 0.15, \"description\": \"Threshold value for the amplitude of the drop in the input feature\", \"name\": \"drop_thr\", \"optional\": true, \"schema\": {\"type\": \"number\"}}, {\"default\": 1.0, \"description\": \"Threshold value for the amplitude of the recovery, relative to the `drop_delta`\", \"name\": \"rec_r\", \"optional\": true, \"schema\": {\"type\": \"number\"}}, {\"default\": -0.007, \"description\": \"Threshold value for the slope where the peak should start\", \"name\": \"slope_thr\", \"optional\": true, \"schema\": {\"type\": \"number\"}}], \"summary\": \"Detect peaks and valleys in a time series.\"}}</script>\n",
       "    </openeo-process>\n",
       "    "
      ],
      "text/plain": [
       "{'description': '# Peak Valley\\n\\n## Description\\n\\n\\n',\n",
       " 'id': 'peakvalley',\n",
       " 'parameters': [{'description': 'A data cube.',\n",
       "   'name': 'data',\n",
       "   'schema': {'subtype': 'raster-cube', 'type': 'object'}},\n",
       "  {'default': 0.15,\n",
       "   'description': 'Threshold value for the amplitude of the drop in the input feature',\n",
       "   'name': 'drop_thr',\n",
       "   'optional': True,\n",
       "   'schema': {'type': 'number'}},\n",
       "  {'default': 1.0,\n",
       "   'description': 'Threshold value for the amplitude of the recovery, relative to the `drop_delta`',\n",
       "   'name': 'rec_r',\n",
       "   'optional': True,\n",
       "   'schema': {'type': 'number'}},\n",
       "  {'default': -0.007,\n",
       "   'description': 'Threshold value for the slope where the peak should start',\n",
       "   'name': 'slope_thr',\n",
       "   'optional': True,\n",
       "   'schema': {'type': 'number'}}],\n",
       " 'summary': 'Detect peaks and valleys in a time series.'}"
      ]
     },
     "execution_count": 3,
     "metadata": {},
     "output_type": "execute_result"
    }
   ],
   "source": [
    "connection.describe_process(service, namespace=namespace)"
   ]
  },
  {
   "cell_type": "markdown",
   "id": "db800198",
   "metadata": {},
   "source": [
    "Next we define the area of interest, in this case an extent, for which we would like to fetch time series data."
   ]
  },
  {
   "cell_type": "code",
   "execution_count": 4,
   "id": "7f28b415",
   "metadata": {
    "tags": []
   },
   "outputs": [],
   "source": [
    "minx, miny, maxx, maxy = (15.179421073198585, 45.80924633589998, 15.185336903822831, 45.81302555710934)\n",
    "spat_ext = dict(west=minx, east=maxx, north=maxy, south=miny, crs=4326)\n",
    "temp_ext = [\"2021-01-01\", \"2021-12-31\"]"
   ]
  },
  {
   "cell_type": "markdown",
   "id": "ea1fdbac",
   "metadata": {
    "tags": []
   },
   "source": [
    "We will create an openEO process to calculate the NDVI time series for our area of interest. We'll begin by using the SENTINEL2_L2A_SENTINELHUB collection, and apply a cloud masking algorithm to remove any interfering clouds before calculating the NDVI values. "
   ]
  },
  {
   "cell_type": "code",
   "execution_count": 18,
   "id": "a71a918a",
   "metadata": {
    "tags": []
   },
   "outputs": [],
   "source": [
    "s2 = connection.load_collection('SENTINEL2_L2A_SENTINELHUB',\n",
    "                                spatial_extent=spat_ext,\n",
    "                                temporal_extent=temp_ext,\n",
    "                                bands=[\"B04\",\"B08\",\"SCL\"])\n",
    "s2 = s2.process(\"mask_scl_dilation\", data=s2, scl_band_name=\"SCL\")\n",
    "base_ndvi = s2.ndvi(red=\"B04\", nir=\"B08\", target_band='NDVI').band('NDVI')"
   ]
  },
  {
   "cell_type": "code",
   "execution_count": 19,
   "id": "ddcce8fb",
   "metadata": {},
   "outputs": [
    {
     "name": "stderr",
     "output_type": "stream",
     "text": [
      "/home/bramjanssen/.local/lib/python3.6/site-packages/openeo/metadata.py:255: UserWarning: No cube:dimensions metadata\n",
      "  complain(\"No cube:dimensions metadata\")\n"
     ]
    }
   ],
   "source": [
    "peakvalley = connection.datacube_from_process(service, namespace=f'https://openeo.vito.be/openeo/1.1/processes/{namespace}/{service}', data=base_ndvi)"
   ]
  },
  {
   "cell_type": "markdown",
   "id": "327ca780",
   "metadata": {},
   "source": [
    "### Execute job and download result"
   ]
  },
  {
   "cell_type": "code",
   "execution_count": 21,
   "id": "7d8cb719",
   "metadata": {
    "tags": []
   },
   "outputs": [
    {
     "name": "stdout",
     "output_type": "stream",
     "text": [
      "0:00:00 Job 'j-2a11f143e719444f8c3cd85887a14f29': send 'start'\n",
      "0:00:19 Job 'j-2a11f143e719444f8c3cd85887a14f29': queued (progress N/A)\n",
      "0:00:24 Job 'j-2a11f143e719444f8c3cd85887a14f29': queued (progress N/A)\n",
      "0:00:47 Job 'j-2a11f143e719444f8c3cd85887a14f29': queued (progress N/A)\n",
      "0:00:55 Job 'j-2a11f143e719444f8c3cd85887a14f29': queued (progress N/A)\n",
      "0:01:05 Job 'j-2a11f143e719444f8c3cd85887a14f29': queued (progress N/A)\n",
      "0:01:18 Job 'j-2a11f143e719444f8c3cd85887a14f29': queued (progress N/A)\n",
      "0:01:33 Job 'j-2a11f143e719444f8c3cd85887a14f29': queued (progress N/A)\n",
      "0:01:53 Job 'j-2a11f143e719444f8c3cd85887a14f29': running (progress N/A)\n",
      "0:02:22 Job 'j-2a11f143e719444f8c3cd85887a14f29': running (progress N/A)\n",
      "0:02:52 Job 'j-2a11f143e719444f8c3cd85887a14f29': running (progress N/A)\n",
      "0:03:30 Job 'j-2a11f143e719444f8c3cd85887a14f29': running (progress N/A)\n",
      "0:04:17 Job 'j-2a11f143e719444f8c3cd85887a14f29': running (progress N/A)\n",
      "0:05:16 Job 'j-2a11f143e719444f8c3cd85887a14f29': running (progress N/A)\n",
      "0:06:16 Job 'j-2a11f143e719444f8c3cd85887a14f29': finished (progress N/A)\n"
     ]
    },
    {
     "data": {
      "text/plain": [
       "PosixPath('peakvalley.nc')"
      ]
     },
     "execution_count": 21,
     "metadata": {},
     "output_type": "execute_result"
    }
   ],
   "source": [
    "output_file = './peakvalley.nc'\n",
    "peakvalley_job = peakvalley.execute_batch(out_format=\"netcdf\", title=f'FuseTS - Peak Valley Detection', job_options={\n",
    "    'udf-dependency-archives': [\n",
    "         'https://artifactory.vgt.vito.be:443/auxdata-public/ai4food/fusets_venv.zip#tmp/venv',\n",
    "        'https://artifactory.vgt.vito.be:443/auxdata-public/ai4food/fusets.zip#tmp/venv_static'\n",
    "    ]\n",
    "})\n",
    "peakvalley_job.get_results().download_file(output_file)"
   ]
  },
  {
   "cell_type": "markdown",
   "id": "aa9f4743",
   "metadata": {},
   "source": [
    "Now that we have calculated the NDVI time series, we can utilize it to execute the peak valley algorithm that is part of the FuseTS algorithm. The peak valley algorithm is a powerful tool that allows us to detect significant changes in the vegetation patterns over time. "
   ]
  },
  {
   "cell_type": "markdown",
   "id": "aacd33ac",
   "metadata": {},
   "source": [
    "## Explore the results"
   ]
  },
  {
   "cell_type": "code",
   "execution_count": 22,
   "id": "2f1e9e72",
   "metadata": {},
   "outputs": [],
   "source": [
    "ds = xarray.load_dataset(output_file)"
   ]
  },
  {
   "cell_type": "code",
   "execution_count": 24,
   "id": "bd78b972",
   "metadata": {},
   "outputs": [
    {
     "ename": "ModuleNotFoundError",
     "evalue": "No module named 'holoviews'",
     "output_type": "error",
     "traceback": [
      "\u001b[0;31m---------------------------------------------------------------------------\u001b[0m",
      "\u001b[0;31mModuleNotFoundError\u001b[0m                       Traceback (most recent call last)",
      "\u001b[0;32m<ipython-input-24-51dcf26c8a09>\u001b[0m in \u001b[0;36m<module>\u001b[0;34m\u001b[0m\n\u001b[0;32m----> 1\u001b[0;31m \u001b[0;32mimport\u001b[0m \u001b[0mholoviews\u001b[0m \u001b[0;32mas\u001b[0m \u001b[0mhv\u001b[0m\u001b[0;34m\u001b[0m\u001b[0;34m\u001b[0m\u001b[0m\n\u001b[0m\u001b[1;32m      2\u001b[0m \u001b[0;34m\u001b[0m\u001b[0m\n\u001b[1;32m      3\u001b[0m \u001b[0;34m\u001b[0m\u001b[0m\n\u001b[1;32m      4\u001b[0m \u001b[0mhv\u001b[0m\u001b[0;34m.\u001b[0m\u001b[0mextension\u001b[0m\u001b[0;34m(\u001b[0m\u001b[0;34m'bokeh'\u001b[0m\u001b[0;34m)\u001b[0m\u001b[0;34m\u001b[0m\u001b[0;34m\u001b[0m\u001b[0m\n\u001b[1;32m      5\u001b[0m \u001b[0mget_ipython\u001b[0m\u001b[0;34m(\u001b[0m\u001b[0;34m)\u001b[0m\u001b[0;34m.\u001b[0m\u001b[0mrun_line_magic\u001b[0m\u001b[0;34m(\u001b[0m\u001b[0;34m'output'\u001b[0m\u001b[0;34m,\u001b[0m \u001b[0;34m\"holomap='scrubber'\"\u001b[0m\u001b[0;34m)\u001b[0m\u001b[0;34m\u001b[0m\u001b[0;34m\u001b[0m\u001b[0m\n",
      "\u001b[0;31mModuleNotFoundError\u001b[0m: No module named 'holoviews'"
     ]
    }
   ],
   "source": [
    "import holoviews as hv\n",
    "\n",
    "\n",
    "hv.extension('bokeh')\n",
    "%output holomap='scrubber'\n",
    "%opts Image style(cmap='viridis') plot[colorbar=True]\n",
    "%opts Image [width=500, height=400]\n",
    "hv_ds = hv.Dataset(ds)\n",
    "hv_ds.to(hv.Image, ['x', 'y'])"
   ]
  },
  {
   "cell_type": "code",
   "execution_count": null,
   "id": "1fe50b02",
   "metadata": {},
   "outputs": [],
   "source": []
  }
 ],
 "metadata": {
  "kernelspec": {
   "display_name": "Python 3",
   "language": "python",
   "name": "python3"
  },
  "language_info": {
   "codemirror_mode": {
    "name": "ipython",
    "version": 3
   },
   "file_extension": ".py",
   "mimetype": "text/x-python",
   "name": "python",
   "nbconvert_exporter": "python",
   "pygments_lexer": "ipython3",
   "version": "3.6.8"
  },
  "vscode": {
   "interpreter": {
    "hash": "33c20a4d08d84a1eb87b835f70d5565c784b8aa57395721a120453ef33ea65d1"
   }
  }
 },
 "nbformat": 4,
 "nbformat_minor": 5
}
