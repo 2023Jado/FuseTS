{
 "cells": [
  {
   "cell_type": "markdown",
   "id": "65f86a43",
   "metadata": {},
   "source": [
    "# FuseTS - Whittaker example\n",
    "This document displays the Whittaker algorithm, a component of the FuseTS library. The Whittaker algorithm is a smoothing algorithm that is designed to handle time series data. The algorithm is effective in removing noise and other fluctuations from time series data, which can be important when trying to understand trends in the data. "
   ]
  },
  {
   "cell_type": "markdown",
   "id": "1f50e454",
   "metadata": {},
   "source": [
    "## Setting up the OpenEO process\n",
    "The first step includes setting up the OpenEO processing through the [OpenEO Python Client](https://open-eo.github.io/openeo-python-client/). Since the Whittaker algorithm is integrated as an [user defined process](https://open-eo.github.io/openeo-python-client/cookbook/udp_sharing.html), we can use the `datacube_from_process` function to execute the function."
   ]
  },
  {
   "cell_type": "code",
   "execution_count": 1,
   "id": "f21b4d9f",
   "metadata": {},
   "outputs": [],
   "source": [
    "import openeo\n",
    "import json\n",
    "import pandas as pd\n",
    "import matplotlib.pyplot as plt\n",
    "from openeo.rest.conversions import timeseries_json_to_pandas\n",
    "from shapely.geometry import box"
   ]
  },
  {
   "cell_type": "code",
   "execution_count": 2,
   "id": "d31a477c",
   "metadata": {},
   "outputs": [
    {
     "name": "stdout",
     "output_type": "stream",
     "text": [
      "Authenticated using refresh token.\n"
     ]
    }
   ],
   "source": [
    "connection = openeo.connect(\"openeo.vito.be\").authenticate_oidc()\n",
    "service = 'whittaker'\n",
    "namespace = 'u:bramjanssen'"
   ]
  },
  {
   "cell_type": "code",
   "execution_count": 3,
   "id": "a3ca0d8b",
   "metadata": {},
   "outputs": [
    {
     "data": {
      "text/html": [
       "\n",
       "    <script>\n",
       "    if (!window.customElements || !window.customElements.get('openeo-process')) {\n",
       "        var el = document.createElement('script');\n",
       "        el.src = \"https://cdn.jsdelivr.net/npm/@openeo/vue-components@2/assets/openeo.min.js\";\n",
       "        document.head.appendChild(el);\n",
       "\n",
       "        var font = document.createElement('font');\n",
       "        font.as = \"font\";\n",
       "        font.type = \"font/woff2\";\n",
       "        font.crossOrigin = true;\n",
       "        font.href = \"https://use.fontawesome.com/releases/v5.13.0/webfonts/fa-solid-900.woff2\"\n",
       "        document.head.appendChild(font);\n",
       "    }\n",
       "    </script>\n",
       "    <openeo-process>\n",
       "        <script type=\"application/json\">{\"show-graph\": true, \"provide-download\": false, \"process\": {\"description\": \"# Whittaker\\n\\n## Description\\n\\nWhittaker represents a computationally efficient reconstruction method for smoothing and gap-filling of time series.\\nThe main function takes as input two vectors of the same length: the y time series data (e.g. NDVI) and the\\ncorresponding temporal vector (date format) x, comprised between the start and end dates of a satellite image\\ncollection. Missing or null values as well as the cloud-masked values (i.e. NaN), are handled by introducing a\\nvector of 0-1 weights w, with wi = 0 for missing observations and wi=1 otherwise. Following, the Whittaker smoother\\nis applied to the time series profiles, computing therefore a daily smoothing interpolation.\\n\\nWhittaker's fast processing speed was assessed through an initial performance testing by comparing different\\ntime series fitting methods. Average runtime takes 0.0107 seconds to process a single NDVI temporal profile.\\n\\nThe smoother performance can be adjusted by tuning the lambda parameter, which penalizes the time series roughness:\\nthe larger lambda the smoother the time series at the cost of the fit to the data getting worse. We found a lambda of\\n10000 adequate for obtaining more convenient results. A more detailed description of the algorithm can be\\nfound in the original work of Eilers 2003.\\n\\n\\n\\n\", \"id\": \"whittaker\", \"parameters\": [{\"description\": \"A data cube.\", \"name\": \"data\", \"schema\": {\"subtype\": \"raster-cube\", \"type\": \"object\"}}, {\"default\": 10000, \"description\": \"Lambda parameter to change the Whittaker smoothing\", \"name\": \"smoothing_lambda\", \"optional\": true, \"schema\": {\"type\": \"number\"}}], \"summary\": \"Execute a computationally efficient reconstruction method for smoothing and gap-filling of time series.\"}}</script>\n",
       "    </openeo-process>\n",
       "    "
      ],
      "text/plain": [
       "{'description': \"# Whittaker\\n\\n## Description\\n\\nWhittaker represents a computationally efficient reconstruction method for smoothing and gap-filling of time series.\\nThe main function takes as input two vectors of the same length: the y time series data (e.g. NDVI) and the\\ncorresponding temporal vector (date format) x, comprised between the start and end dates of a satellite image\\ncollection. Missing or null values as well as the cloud-masked values (i.e. NaN), are handled by introducing a\\nvector of 0-1 weights w, with wi = 0 for missing observations and wi=1 otherwise. Following, the Whittaker smoother\\nis applied to the time series profiles, computing therefore a daily smoothing interpolation.\\n\\nWhittaker's fast processing speed was assessed through an initial performance testing by comparing different\\ntime series fitting methods. Average runtime takes 0.0107 seconds to process a single NDVI temporal profile.\\n\\nThe smoother performance can be adjusted by tuning the lambda parameter, which penalizes the time series roughness:\\nthe larger lambda the smoother the time series at the cost of the fit to the data getting worse. We found a lambda of\\n10000 adequate for obtaining more convenient results. A more detailed description of the algorithm can be\\nfound in the original work of Eilers 2003.\\n\\n\\n\\n\",\n",
       " 'id': 'whittaker',\n",
       " 'parameters': [{'description': 'A data cube.',\n",
       "   'name': 'data',\n",
       "   'schema': {'subtype': 'raster-cube', 'type': 'object'}},\n",
       "  {'default': 10000,\n",
       "   'description': 'Lambda parameter to change the Whittaker smoothing',\n",
       "   'name': 'smoothing_lambda',\n",
       "   'optional': True,\n",
       "   'schema': {'type': 'number'}}],\n",
       " 'summary': 'Execute a computationally efficient reconstruction method for smoothing and gap-filling of time series.'}"
      ]
     },
     "execution_count": 3,
     "metadata": {},
     "output_type": "execute_result"
    }
   ],
   "source": [
    "connection.describe_process(service, namespace=namespace)"
   ]
  },
  {
   "cell_type": "code",
   "execution_count": 29,
   "id": "e54ca4e7",
   "metadata": {},
   "outputs": [],
   "source": [
    "spat_ext = {\n",
    "          \"type\": \"Polygon\",\n",
    "          \"coordinates\": [\n",
    "            [\n",
    "              [\n",
    "                5.170012098271149,\n",
    "                51.25062964728295\n",
    "              ],\n",
    "              [\n",
    "                5.17085904378298,\n",
    "                51.24882567194015\n",
    "              ],\n",
    "              [\n",
    "                5.17857421368097,\n",
    "                51.2468515482926\n",
    "              ],\n",
    "              [\n",
    "                5.178972704726344,\n",
    "                51.24982704376254\n",
    "              ],\n",
    "              [\n",
    "                5.170012098271149,\n",
    "                51.25062964728295\n",
    "              ]\n",
    "            ]\n",
    "          ]\n",
    "        }\n",
    "temp_ext = [\"2022-01-01\",\"2022-12-31\"]\n"
   ]
  },
  {
   "cell_type": "markdown",
   "id": "70d18848",
   "metadata": {},
   "source": [
    "One of the parameters in Whittaker services is known as Lambda. This parameter affects the level of smoothing performed by the service. A larger value of Lambda results in a smoother time series, but at the expense of a poorer fit to the data."
   ]
  },
  {
   "cell_type": "code",
   "execution_count": 30,
   "id": "5af55cb6",
   "metadata": {},
   "outputs": [],
   "source": [
    "smoothing_lambda = 10000"
   ]
  },
  {
   "cell_type": "markdown",
   "id": "04effacf",
   "metadata": {},
   "source": [
    "To begin, we calculate the base NDVI data cube. In the subsequent steps, we utilize this data cube to implement Whittaker smoothing. Finally, we compute time series for both the base NDVI and the smoothed version."
   ]
  },
  {
   "cell_type": "code",
   "execution_count": 36,
   "id": "c6754bd6",
   "metadata": {},
   "outputs": [],
   "source": [
    "base = connection.load_collection('SENTINEL2_L2A_SENTINELHUB',\n",
    "                                spatial_extent=spat_ext,\n",
    "                                temporal_extent=temp_ext,\n",
    "                                bands=[\"B04\",\"B08\",\"SCL\"])\n",
    "base_cloudmasked = base.process(\"mask_scl_dilation\", data=base, scl_band_name=\"SCL\")\n",
    "base_ndvi = base_cloudmasked.ndvi(red=\"B04\", nir=\"B08\")"
   ]
  },
  {
   "cell_type": "code",
   "execution_count": 37,
   "id": "2fa26b02",
   "metadata": {},
   "outputs": [
    {
     "name": "stderr",
     "output_type": "stream",
     "text": [
      "/Users/bram/VITO/FuseTS/venv_py10/lib/python3.10/site-packages/openeo/metadata.py:255: UserWarning: No cube:dimensions metadata\n",
      "  complain(\"No cube:dimensions metadata\")\n"
     ]
    }
   ],
   "source": [
    "whittaker = connection.datacube_from_process(service, namespace=f'https://openeo.vito.be/openeo/1.1/processes/{namespace}/{service}', data=base_ndvi, smoothing_lambda=smoothing_lambda)"
   ]
  },
  {
   "cell_type": "code",
   "execution_count": 38,
   "id": "b88bead5",
   "metadata": {},
   "outputs": [],
   "source": [
    "base_ndvi = base_ndvi.aggregate_spatial(spat_ext, reducer='mean')\n",
    "whittaker = whittaker.aggregate_spatial(spat_ext, reducer='mean')"
   ]
  },
  {
   "cell_type": "code",
   "execution_count": 39,
   "id": "b79b9012",
   "metadata": {},
   "outputs": [
    {
     "name": "stdout",
     "output_type": "stream",
     "text": [
      "0:00:00 Job 'j-3e6c5aa9d3764ce7ac35b9d67944016d': send 'start'\n",
      "0:00:18 Job 'j-3e6c5aa9d3764ce7ac35b9d67944016d': queued (progress N/A)\n",
      "0:00:23 Job 'j-3e6c5aa9d3764ce7ac35b9d67944016d': queued (progress N/A)\n",
      "0:00:29 Job 'j-3e6c5aa9d3764ce7ac35b9d67944016d': queued (progress N/A)\n",
      "0:00:37 Job 'j-3e6c5aa9d3764ce7ac35b9d67944016d': queued (progress N/A)\n",
      "0:00:47 Job 'j-3e6c5aa9d3764ce7ac35b9d67944016d': queued (progress N/A)\n",
      "0:01:00 Job 'j-3e6c5aa9d3764ce7ac35b9d67944016d': queued (progress N/A)\n",
      "0:01:15 Job 'j-3e6c5aa9d3764ce7ac35b9d67944016d': queued (progress N/A)\n",
      "0:01:34 Job 'j-3e6c5aa9d3764ce7ac35b9d67944016d': queued (progress N/A)\n",
      "0:01:58 Job 'j-3e6c5aa9d3764ce7ac35b9d67944016d': queued (progress N/A)\n",
      "0:02:28 Job 'j-3e6c5aa9d3764ce7ac35b9d67944016d': running (progress N/A)\n",
      "0:03:13 Job 'j-3e6c5aa9d3764ce7ac35b9d67944016d': running (progress N/A)\n",
      "0:03:59 Job 'j-3e6c5aa9d3764ce7ac35b9d67944016d': running (progress N/A)\n",
      "0:04:58 Job 'j-3e6c5aa9d3764ce7ac35b9d67944016d': running (progress N/A)\n",
      "0:05:58 Job 'j-3e6c5aa9d3764ce7ac35b9d67944016d': running (progress N/A)\n",
      "0:06:58 Job 'j-3e6c5aa9d3764ce7ac35b9d67944016d': running (progress N/A)\n",
      "0:07:59 Job 'j-3e6c5aa9d3764ce7ac35b9d67944016d': running (progress N/A)\n",
      "0:08:59 Job 'j-3e6c5aa9d3764ce7ac35b9d67944016d': finished (progress N/A)\n"
     ]
    },
    {
     "data": {
      "text/plain": [
       "PosixPath('whittaker.json')"
      ]
     },
     "execution_count": 39,
     "metadata": {},
     "output_type": "execute_result"
    }
   ],
   "source": [
    "whittaker_job = whittaker.execute_batch(out_format=\"json\", title=f'AI4FOOD - Whittaker', job_options={\n",
    "    'udf-dependency-archives': [\n",
    "         'https://artifactory.vgt.vito.be:443/auxdata-public/ai4food/fusets_venv.zip#tmp/venv',\n",
    "        'https://artifactory.vgt.vito.be:443/auxdata-public/ai4food/fusets.zip#tmp/venv_static'\n",
    "    ]\n",
    "})\n",
    "whittaker_job.get_results().download_file('./whittaker.json')"
   ]
  },
  {
   "cell_type": "code",
   "execution_count": 40,
   "id": "81c8a00a",
   "metadata": {},
   "outputs": [],
   "source": [
    "base_ndvi.download('./base.json', format='json')"
   ]
  },
  {
   "cell_type": "markdown",
   "id": "6898abb9",
   "metadata": {},
   "source": [
    "## Comparing the results\n",
    "Having obtained both the base NDVI and the smoothed version, we can now proceed to compare the outcomes."
   ]
  },
  {
   "cell_type": "code",
   "execution_count": 43,
   "id": "d484d34b",
   "metadata": {},
   "outputs": [
    {
     "data": {
      "text/html": [
       "<div>\n",
       "<style scoped>\n",
       "    .dataframe tbody tr th:only-of-type {\n",
       "        vertical-align: middle;\n",
       "    }\n",
       "\n",
       "    .dataframe tbody tr th {\n",
       "        vertical-align: top;\n",
       "    }\n",
       "\n",
       "    .dataframe thead th {\n",
       "        text-align: right;\n",
       "    }\n",
       "</style>\n",
       "<table border=\"1\" class=\"dataframe\">\n",
       "  <thead>\n",
       "    <tr style=\"text-align: right;\">\n",
       "      <th></th>\n",
       "      <th>Raw NDVI</th>\n",
       "      <th>Whittaker NDVI</th>\n",
       "    </tr>\n",
       "    <tr>\n",
       "      <th>date</th>\n",
       "      <th></th>\n",
       "      <th></th>\n",
       "    </tr>\n",
       "  </thead>\n",
       "  <tbody>\n",
       "    <tr>\n",
       "      <th>2022-02-24 00:00:00+00:00</th>\n",
       "      <td>0.728168</td>\n",
       "      <td>0.723309</td>\n",
       "    </tr>\n",
       "    <tr>\n",
       "      <th>2022-03-03 00:00:00+00:00</th>\n",
       "      <td>0.706112</td>\n",
       "      <td>0.680744</td>\n",
       "    </tr>\n",
       "    <tr>\n",
       "      <th>2022-03-06 00:00:00+00:00</th>\n",
       "      <td>0.656712</td>\n",
       "      <td>0.662565</td>\n",
       "    </tr>\n",
       "    <tr>\n",
       "      <th>2022-03-08 00:00:00+00:00</th>\n",
       "      <td>0.650107</td>\n",
       "      <td>0.650508</td>\n",
       "    </tr>\n",
       "    <tr>\n",
       "      <th>2022-03-18 00:00:00+00:00</th>\n",
       "      <td>0.591761</td>\n",
       "      <td>0.591768</td>\n",
       "    </tr>\n",
       "    <tr>\n",
       "      <th>2022-03-21 00:00:00+00:00</th>\n",
       "      <td>0.540323</td>\n",
       "      <td>0.574894</td>\n",
       "    </tr>\n",
       "    <tr>\n",
       "      <th>2022-03-23 00:00:00+00:00</th>\n",
       "      <td>0.548298</td>\n",
       "      <td>0.563897</td>\n",
       "    </tr>\n",
       "    <tr>\n",
       "      <th>2022-03-26 00:00:00+00:00</th>\n",
       "      <td>0.539811</td>\n",
       "      <td>0.547767</td>\n",
       "    </tr>\n",
       "    <tr>\n",
       "      <th>2022-03-28 00:00:00+00:00</th>\n",
       "      <td>0.513666</td>\n",
       "      <td>0.537229</td>\n",
       "    </tr>\n",
       "    <tr>\n",
       "      <th>2022-04-10 00:00:00+00:00</th>\n",
       "      <td>NaN</td>\n",
       "      <td>0.470214</td>\n",
       "    </tr>\n",
       "    <tr>\n",
       "      <th>2022-04-17 00:00:00+00:00</th>\n",
       "      <td>0.580073</td>\n",
       "      <td>0.432306</td>\n",
       "    </tr>\n",
       "    <tr>\n",
       "      <th>2022-04-20 00:00:00+00:00</th>\n",
       "      <td>0.559126</td>\n",
       "      <td>0.415079</td>\n",
       "    </tr>\n",
       "    <tr>\n",
       "      <th>2022-04-27 00:00:00+00:00</th>\n",
       "      <td>0.295786</td>\n",
       "      <td>0.374390</td>\n",
       "    </tr>\n",
       "    <tr>\n",
       "      <th>2022-05-02 00:00:00+00:00</th>\n",
       "      <td>0.303367</td>\n",
       "      <td>0.348161</td>\n",
       "    </tr>\n",
       "    <tr>\n",
       "      <th>2022-05-07 00:00:00+00:00</th>\n",
       "      <td>0.277021</td>\n",
       "      <td>0.326688</td>\n",
       "    </tr>\n",
       "    <tr>\n",
       "      <th>2022-05-15 00:00:00+00:00</th>\n",
       "      <td>0.292744</td>\n",
       "      <td>0.305490</td>\n",
       "    </tr>\n",
       "    <tr>\n",
       "      <th>2022-05-17 00:00:00+00:00</th>\n",
       "      <td>0.249943</td>\n",
       "      <td>0.303062</td>\n",
       "    </tr>\n",
       "    <tr>\n",
       "      <th>2022-05-22 00:00:00+00:00</th>\n",
       "      <td>NaN</td>\n",
       "      <td>0.302391</td>\n",
       "    </tr>\n",
       "    <tr>\n",
       "      <th>2022-06-11 00:00:00+00:00</th>\n",
       "      <td>0.279599</td>\n",
       "      <td>0.376253</td>\n",
       "    </tr>\n",
       "    <tr>\n",
       "      <th>2022-06-14 00:00:00+00:00</th>\n",
       "      <td>0.304299</td>\n",
       "      <td>0.397744</td>\n",
       "    </tr>\n",
       "    <tr>\n",
       "      <th>2022-07-19 00:00:00+00:00</th>\n",
       "      <td>0.742497</td>\n",
       "      <td>0.690841</td>\n",
       "    </tr>\n",
       "    <tr>\n",
       "      <th>2022-07-24 00:00:00+00:00</th>\n",
       "      <td>0.799173</td>\n",
       "      <td>0.711503</td>\n",
       "    </tr>\n",
       "    <tr>\n",
       "      <th>2022-07-29 00:00:00+00:00</th>\n",
       "      <td>0.855594</td>\n",
       "      <td>0.720397</td>\n",
       "    </tr>\n",
       "    <tr>\n",
       "      <th>2022-08-03 00:00:00+00:00</th>\n",
       "      <td>0.862342</td>\n",
       "      <td>0.716941</td>\n",
       "    </tr>\n",
       "    <tr>\n",
       "      <th>2022-08-05 00:00:00+00:00</th>\n",
       "      <td>NaN</td>\n",
       "      <td>0.712266</td>\n",
       "    </tr>\n",
       "    <tr>\n",
       "      <th>2022-08-10 00:00:00+00:00</th>\n",
       "      <td>0.845780</td>\n",
       "      <td>0.693640</td>\n",
       "    </tr>\n",
       "    <tr>\n",
       "      <th>2022-08-13 00:00:00+00:00</th>\n",
       "      <td>0.852928</td>\n",
       "      <td>0.678673</td>\n",
       "    </tr>\n",
       "    <tr>\n",
       "      <th>2022-08-18 00:00:00+00:00</th>\n",
       "      <td>NaN</td>\n",
       "      <td>0.650733</td>\n",
       "    </tr>\n",
       "    <tr>\n",
       "      <th>2022-08-20 00:00:00+00:00</th>\n",
       "      <td>0.436148</td>\n",
       "      <td>0.639758</td>\n",
       "    </tr>\n",
       "    <tr>\n",
       "      <th>2022-08-23 00:00:00+00:00</th>\n",
       "      <td>0.296050</td>\n",
       "      <td>0.624884</td>\n",
       "    </tr>\n",
       "    <tr>\n",
       "      <th>2022-08-25 00:00:00+00:00</th>\n",
       "      <td>NaN</td>\n",
       "      <td>0.616618</td>\n",
       "    </tr>\n",
       "    <tr>\n",
       "      <th>2022-08-28 00:00:00+00:00</th>\n",
       "      <td>0.288203</td>\n",
       "      <td>0.607235</td>\n",
       "    </tr>\n",
       "    <tr>\n",
       "      <th>2022-09-02 00:00:00+00:00</th>\n",
       "      <td>NaN</td>\n",
       "      <td>0.600362</td>\n",
       "    </tr>\n",
       "    <tr>\n",
       "      <th>2022-09-12 00:00:00+00:00</th>\n",
       "      <td>0.535185</td>\n",
       "      <td>0.615135</td>\n",
       "    </tr>\n",
       "    <tr>\n",
       "      <th>2022-09-19 00:00:00+00:00</th>\n",
       "      <td>NaN</td>\n",
       "      <td>0.642660</td>\n",
       "    </tr>\n",
       "    <tr>\n",
       "      <th>2022-09-22 00:00:00+00:00</th>\n",
       "      <td>0.778996</td>\n",
       "      <td>0.657076</td>\n",
       "    </tr>\n",
       "    <tr>\n",
       "      <th>2022-09-29 00:00:00+00:00</th>\n",
       "      <td>0.761869</td>\n",
       "      <td>0.693489</td>\n",
       "    </tr>\n",
       "    <tr>\n",
       "      <th>2022-10-09 00:00:00+00:00</th>\n",
       "      <td>0.826307</td>\n",
       "      <td>0.746344</td>\n",
       "    </tr>\n",
       "    <tr>\n",
       "      <th>2022-10-12 00:00:00+00:00</th>\n",
       "      <td>0.778026</td>\n",
       "      <td>0.761172</td>\n",
       "    </tr>\n",
       "    <tr>\n",
       "      <th>2022-10-29 00:00:00+00:00</th>\n",
       "      <td>0.823405</td>\n",
       "      <td>0.831546</td>\n",
       "    </tr>\n",
       "    <tr>\n",
       "      <th>2022-11-01 00:00:00+00:00</th>\n",
       "      <td>0.860648</td>\n",
       "      <td>0.841581</td>\n",
       "    </tr>\n",
       "    <tr>\n",
       "      <th>2022-11-13 00:00:00+00:00</th>\n",
       "      <td>0.891409</td>\n",
       "      <td>0.874825</td>\n",
       "    </tr>\n",
       "    <tr>\n",
       "      <th>2022-12-06 00:00:00+00:00</th>\n",
       "      <td>0.583150</td>\n",
       "      <td>0.917186</td>\n",
       "    </tr>\n",
       "  </tbody>\n",
       "</table>\n",
       "</div>"
      ],
      "text/plain": [
       "                           Raw NDVI  Whittaker NDVI\n",
       "date                                               \n",
       "2022-02-24 00:00:00+00:00  0.728168        0.723309\n",
       "2022-03-03 00:00:00+00:00  0.706112        0.680744\n",
       "2022-03-06 00:00:00+00:00  0.656712        0.662565\n",
       "2022-03-08 00:00:00+00:00  0.650107        0.650508\n",
       "2022-03-18 00:00:00+00:00  0.591761        0.591768\n",
       "2022-03-21 00:00:00+00:00  0.540323        0.574894\n",
       "2022-03-23 00:00:00+00:00  0.548298        0.563897\n",
       "2022-03-26 00:00:00+00:00  0.539811        0.547767\n",
       "2022-03-28 00:00:00+00:00  0.513666        0.537229\n",
       "2022-04-10 00:00:00+00:00       NaN        0.470214\n",
       "2022-04-17 00:00:00+00:00  0.580073        0.432306\n",
       "2022-04-20 00:00:00+00:00  0.559126        0.415079\n",
       "2022-04-27 00:00:00+00:00  0.295786        0.374390\n",
       "2022-05-02 00:00:00+00:00  0.303367        0.348161\n",
       "2022-05-07 00:00:00+00:00  0.277021        0.326688\n",
       "2022-05-15 00:00:00+00:00  0.292744        0.305490\n",
       "2022-05-17 00:00:00+00:00  0.249943        0.303062\n",
       "2022-05-22 00:00:00+00:00       NaN        0.302391\n",
       "2022-06-11 00:00:00+00:00  0.279599        0.376253\n",
       "2022-06-14 00:00:00+00:00  0.304299        0.397744\n",
       "2022-07-19 00:00:00+00:00  0.742497        0.690841\n",
       "2022-07-24 00:00:00+00:00  0.799173        0.711503\n",
       "2022-07-29 00:00:00+00:00  0.855594        0.720397\n",
       "2022-08-03 00:00:00+00:00  0.862342        0.716941\n",
       "2022-08-05 00:00:00+00:00       NaN        0.712266\n",
       "2022-08-10 00:00:00+00:00  0.845780        0.693640\n",
       "2022-08-13 00:00:00+00:00  0.852928        0.678673\n",
       "2022-08-18 00:00:00+00:00       NaN        0.650733\n",
       "2022-08-20 00:00:00+00:00  0.436148        0.639758\n",
       "2022-08-23 00:00:00+00:00  0.296050        0.624884\n",
       "2022-08-25 00:00:00+00:00       NaN        0.616618\n",
       "2022-08-28 00:00:00+00:00  0.288203        0.607235\n",
       "2022-09-02 00:00:00+00:00       NaN        0.600362\n",
       "2022-09-12 00:00:00+00:00  0.535185        0.615135\n",
       "2022-09-19 00:00:00+00:00       NaN        0.642660\n",
       "2022-09-22 00:00:00+00:00  0.778996        0.657076\n",
       "2022-09-29 00:00:00+00:00  0.761869        0.693489\n",
       "2022-10-09 00:00:00+00:00  0.826307        0.746344\n",
       "2022-10-12 00:00:00+00:00  0.778026        0.761172\n",
       "2022-10-29 00:00:00+00:00  0.823405        0.831546\n",
       "2022-11-01 00:00:00+00:00  0.860648        0.841581\n",
       "2022-11-13 00:00:00+00:00  0.891409        0.874825\n",
       "2022-12-06 00:00:00+00:00  0.583150        0.917186"
      ]
     },
     "execution_count": 43,
     "metadata": {},
     "output_type": "execute_result"
    }
   ],
   "source": [
    "cubes_dfs = []\n",
    "cols = ['Raw NDVI', 'Whittaker NDVI']\n",
    "for result in ['base.json', 'whittaker.json']:\n",
    "    with open(result, 'r') as result_file:\n",
    "        df = timeseries_json_to_pandas(json.load(result_file))\n",
    "        df.index = pd.to_datetime(df.index)\n",
    "        cubes_dfs.append(df)    \n",
    "        result_file.close()\n",
    "joined_df = pd.concat(cubes_dfs, axis=1)\n",
    "joined_df = joined_df.rename(columns={0: cols[0], 1: cols[1]})\n",
    "joined_df"
   ]
  },
  {
   "cell_type": "code",
   "execution_count": 50,
   "id": "2532a9b5",
   "metadata": {},
   "outputs": [
    {
     "data": {
      "text/plain": [
       "<matplotlib.legend.Legend at 0x126f999f0>"
      ]
     },
     "execution_count": 50,
     "metadata": {},
     "output_type": "execute_result"
    },
    {
     "data": {
      "image/png": "[encoded data removed]",
      "text/plain": [
       "<Figure size 1600x600 with 1 Axes>"
      ]
     },
     "metadata": {},
     "output_type": "display_data"
    }
   ],
   "source": [
    "plt.figure(figsize= (16,6))\n",
    "for col in cols:\n",
    "    values = joined_df[~joined_df[col].isna()]\n",
    "    plt.plot(values.index, values[col], '-', label=col)\n",
    "plt.ylabel ('NDVI')\n",
    "plt.grid(True)\n",
    "plt.legend()"
   ]
  },
  {
   "cell_type": "code",
   "execution_count": null,
   "id": "e8efe7c7",
   "metadata": {},
   "outputs": [],
   "source": []
  }
 ],
 "metadata": {
  "kernelspec": {
   "display_name": "Python 3 (ipykernel)",
   "language": "python",
   "name": "python3"
  },
  "language_info": {
   "codemirror_mode": {
    "name": "ipython",
    "version": 3
   },
   "file_extension": ".py",
   "mimetype": "text/x-python",
   "name": "python",
   "nbconvert_exporter": "python",
   "pygments_lexer": "ipython3",
   "version": "3.10.6"
  }
 },
 "nbformat": 4,
 "nbformat_minor": 5
}
