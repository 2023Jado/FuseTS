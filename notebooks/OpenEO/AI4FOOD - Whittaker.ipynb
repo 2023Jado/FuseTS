{
 "cells": [
  {
   "cell_type": "markdown",
   "id": "e744ed83",
   "metadata": {},
   "source": [
    "# FuseTS - Whittaker example\n",
    "This document displays the Whittaker algorithm, a component of the FuseTS library. The Whittaker algorithm is a smoothing algorithm that is designed to handle time series data. The algorithm is effective in removing noise and other fluctuations from time series data, which can be important when trying to understand trends in the data. "
   ]
  },
  {
   "cell_type": "markdown",
   "id": "c71f1b41",
   "metadata": {},
   "source": [
    "## Setting up the OpenEO process\n",
    "The first step includes setting up the OpenEO processing through the [OpenEO Python Client](https://open-eo.github.io/openeo-python-client/). Since the Whittaker algorithm is integrated as an [user defined process](https://open-eo.github.io/openeo-python-client/cookbook/udp_sharing.html), we can use the `datacube_from_process` function to execute the function."
   ]
  },
  {
   "cell_type": "code",
   "execution_count": 1,
   "id": "0a1fcf20",
   "metadata": {},
   "outputs": [],
   "source": [
    "import openeo\n",
    "import json\n",
    "import pandas as pd\n",
    "import matplotlib.pyplot as plt\n",
    "from openeo.rest.conversions import timeseries_json_to_pandas\n",
    "from shapely.geometry import box"
   ]
  },
  {
   "cell_type": "code",
   "execution_count": 2,
   "id": "a8e206fe",
   "metadata": {},
   "outputs": [
    {
     "name": "stdout",
     "output_type": "stream",
     "text": [
      "To authenticate: visit https://aai.egi.eu/device?user_code=BWJT-JVTT .\n",
      "Authorized successfully.\n",
      "Authenticated using device code flow.\n"
     ]
    }
   ],
   "source": [
    "connection = openeo.connect(\"openeo.vito.be\").authenticate_oidc()\n",
    "service = 'whittaker'\n",
    "namespace = 'u:bramjanssen'"
   ]
  },
  {
   "cell_type": "code",
   "execution_count": 3,
   "id": "95823b53",
   "metadata": {},
   "outputs": [
    {
     "data": {
      "text/html": [
       "\n",
       "    <script>\n",
       "    if (!window.customElements || !window.customElements.get('openeo-process')) {\n",
       "        var el = document.createElement('script');\n",
       "        el.src = \"https://cdn.jsdelivr.net/npm/@openeo/vue-components@2/assets/openeo.min.js\";\n",
       "        document.head.appendChild(el);\n",
       "\n",
       "        var font = document.createElement('font');\n",
       "        font.as = \"font\";\n",
       "        font.type = \"font/woff2\";\n",
       "        font.crossOrigin = true;\n",
       "        font.href = \"https://use.fontawesome.com/releases/v5.13.0/webfonts/fa-solid-900.woff2\"\n",
       "        document.head.appendChild(font);\n",
       "    }\n",
       "    </script>\n",
       "    <openeo-process>\n",
       "        <script type=\"application/json\">{\"show-graph\": true, \"provide-download\": false, \"process\": {\"description\": \"# Whittaker\\n\\n## Description\\n\\nWhittaker represents a computationally efficient reconstruction method for smoothing and gap-filling of time series.\\nThe main function takes as input two vectors of the same length: the y time series data (e.g. NDVI) and the\\ncorresponding temporal vector (date format) x, comprised between the start and end dates of a satellite image\\ncollection. Missing or null values as well as the cloud-masked values (i.e. NaN), are handled by introducing a\\nvector of 0-1 weights w, with wi = 0 for missing observations and wi=1 otherwise. Following, the Whittaker smoother\\nis applied to the time series profiles, computing therefore a daily smoothing interpolation.\\n\\nWhittaker's fast processing speed was assessed through an initial performance testing by comparing different\\ntime series fitting methods. Average runtime takes 0.0107 seconds to process a single NDVI temporal profile.\\n\\nThe smoother performance can be adjusted by tuning the lambda parameter, which penalizes the time series roughness:\\nthe larger lambda the smoother the time series at the cost of the fit to the data getting worse. We found a lambda of\\n10000 adequate for obtaining more convenient results. A more detailed description of the algorithm can be\\nfound in the original work of Eilers 2003.\\n\\n\\n\\n\", \"id\": \"whittaker\", \"parameters\": [{\"description\": \"A data cube.\", \"name\": \"data\", \"schema\": {\"subtype\": \"raster-cube\", \"type\": \"object\"}}, {\"default\": 10000, \"description\": \"Lambda parameter to change the Whittaker smoothing\", \"name\": \"smoothing_lambda\", \"optional\": true, \"schema\": {\"type\": \"number\"}}], \"summary\": \"Execute a computationally efficient reconstruction method for smoothing and gap-filling of time series.\"}}</script>\n",
       "    </openeo-process>\n",
       "    "
      ],
      "text/plain": [
       "{'description': \"# Whittaker\\n\\n## Description\\n\\nWhittaker represents a computationally efficient reconstruction method for smoothing and gap-filling of time series.\\nThe main function takes as input two vectors of the same length: the y time series data (e.g. NDVI) and the\\ncorresponding temporal vector (date format) x, comprised between the start and end dates of a satellite image\\ncollection. Missing or null values as well as the cloud-masked values (i.e. NaN), are handled by introducing a\\nvector of 0-1 weights w, with wi = 0 for missing observations and wi=1 otherwise. Following, the Whittaker smoother\\nis applied to the time series profiles, computing therefore a daily smoothing interpolation.\\n\\nWhittaker's fast processing speed was assessed through an initial performance testing by comparing different\\ntime series fitting methods. Average runtime takes 0.0107 seconds to process a single NDVI temporal profile.\\n\\nThe smoother performance can be adjusted by tuning the lambda parameter, which penalizes the time series roughness:\\nthe larger lambda the smoother the time series at the cost of the fit to the data getting worse. We found a lambda of\\n10000 adequate for obtaining more convenient results. A more detailed description of the algorithm can be\\nfound in the original work of Eilers 2003.\\n\\n\\n\\n\",\n",
       " 'id': 'whittaker',\n",
       " 'parameters': [{'description': 'A data cube.',\n",
       "   'name': 'data',\n",
       "   'schema': {'subtype': 'raster-cube', 'type': 'object'}},\n",
       "  {'default': 10000,\n",
       "   'description': 'Lambda parameter to change the Whittaker smoothing',\n",
       "   'name': 'smoothing_lambda',\n",
       "   'optional': True,\n",
       "   'schema': {'type': 'number'}}],\n",
       " 'summary': 'Execute a computationally efficient reconstruction method for smoothing and gap-filling of time series.'}"
      ]
     },
     "execution_count": 3,
     "metadata": {},
     "output_type": "execute_result"
    }
   ],
   "source": [
    "connection.describe_process(service, namespace=namespace)"
   ]
  },
  {
   "cell_type": "code",
   "execution_count": 4,
   "id": "c67cf0a1",
   "metadata": {},
   "outputs": [],
   "source": [
    "spat_ext = {\n",
    "          \"type\": \"Polygon\",\n",
    "          \"coordinates\": [\n",
    "            [\n",
    "              [\n",
    "                5.170012098271149,\n",
    "                51.25062964728295\n",
    "              ],\n",
    "              [\n",
    "                5.17085904378298,\n",
    "                51.24882567194015\n",
    "              ],\n",
    "              [\n",
    "                5.17857421368097,\n",
    "                51.2468515482926\n",
    "              ],\n",
    "              [\n",
    "                5.178972704726344,\n",
    "                51.24982704376254\n",
    "              ],\n",
    "              [\n",
    "                5.170012098271149,\n",
    "                51.25062964728295\n",
    "              ]\n",
    "            ]\n",
    "          ]\n",
    "        }\n",
    "temp_ext = [\"2023-01-01\",\"2023-03-31\"]\n"
   ]
  },
  {
   "cell_type": "code",
   "execution_count": 5,
   "id": "e51ad8cf",
   "metadata": {},
   "outputs": [],
   "source": [
    "smoothing_lambda = 1337"
   ]
  },
  {
   "cell_type": "code",
   "execution_count": 6,
   "id": "fc3c7234",
   "metadata": {},
   "outputs": [],
   "source": [
    "base = connection.load_collection('SENTINEL2_L2A_SENTINELHUB',\n",
    "                                spatial_extent=spat_ext,\n",
    "                                temporal_extent=temp_ext,\n",
    "                                bands=[\"B04\",\"B08\",\"SCL\"])\n",
    "base_cloudmasked = base.process(\"mask_scl_dilation\", data=base, scl_band_name=\"SCL\")\n",
    "base_ndvi = base_cloudmasked.ndvi(red=\"B04\", nir=\"B08\")"
   ]
  },
  {
   "cell_type": "code",
   "execution_count": 7,
   "id": "caa7e61b",
   "metadata": {},
   "outputs": [
    {
     "name": "stderr",
     "output_type": "stream",
     "text": [
      "/Users/bram/VITO/FuseTS/venv_py10/lib/python3.10/site-packages/openeo/metadata.py:255: UserWarning: No cube:dimensions metadata\n",
      "  complain(\"No cube:dimensions metadata\")\n"
     ]
    }
   ],
   "source": [
    "whittaker = connection.datacube_from_process(service, namespace=f'https://openeo.vito.be/openeo/1.1/processes/{namespace}/{service}', data=base_ndvi, smoothing_lambda=smoothing_lambda)"
   ]
  },
  {
   "cell_type": "code",
   "execution_count": 8,
   "id": "c79bad20",
   "metadata": {},
   "outputs": [
    {
     "name": "stderr",
     "output_type": "stream",
     "text": [
      "/var/folders/hf/wgxwy3qs3hl5d0fypwhfb0l80000gn/T/ipykernel_4805/2148284094.py:1: UserDeprecationWarning: Call to deprecated method polygonal_mean_timeseries. (Use `aggregate_spatial` with reducer ``'mean'``.) -- Deprecated since version 0.10.0.\n",
      "  base_ndvi = base_ndvi.polygonal_mean_timeseries(spat_ext)\n",
      "/var/folders/hf/wgxwy3qs3hl5d0fypwhfb0l80000gn/T/ipykernel_4805/2148284094.py:2: UserDeprecationWarning: Call to deprecated method polygonal_mean_timeseries. (Use `aggregate_spatial` with reducer ``'mean'``.) -- Deprecated since version 0.10.0.\n",
      "  whittaker = whittaker.polygonal_mean_timeseries(spat_ext)\n"
     ]
    }
   ],
   "source": [
    "base_ndvi = base_ndvi.polygonal_mean_timeseries(spat_ext)\n",
    "whittaker = whittaker.polygonal_mean_timeseries(spat_ext)"
   ]
  },
  {
   "cell_type": "code",
   "execution_count": null,
   "id": "07cbe856",
   "metadata": {},
   "outputs": [
    {
     "name": "stdout",
     "output_type": "stream",
     "text": [
      "0:00:00 Job 'j-39a09225be5845bab1b8c3500f581a7b': send 'start'\n",
      "0:00:20 Job 'j-39a09225be5845bab1b8c3500f581a7b': queued (progress N/A)\n",
      "0:00:40 Job 'j-39a09225be5845bab1b8c3500f581a7b': queued (progress N/A)\n",
      "0:00:46 Job 'j-39a09225be5845bab1b8c3500f581a7b': queued (progress N/A)\n",
      "0:00:54 Job 'j-39a09225be5845bab1b8c3500f581a7b': queued (progress N/A)\n",
      "0:01:05 Job 'j-39a09225be5845bab1b8c3500f581a7b': queued (progress N/A)\n",
      "0:01:17 Job 'j-39a09225be5845bab1b8c3500f581a7b': queued (progress N/A)\n",
      "0:01:33 Job 'j-39a09225be5845bab1b8c3500f581a7b': queued (progress N/A)\n",
      "0:01:52 Job 'j-39a09225be5845bab1b8c3500f581a7b': queued (progress N/A)\n"
     ]
    }
   ],
   "source": [
    "whittaker_job = whittaker.execute_batch(out_format=\"json\", title=f'AI4FOOD - Whittaker', job_options={\n",
    "    'udf-dependency-archives': [\n",
    "         'https://artifactory.vgt.vito.be:443/auxdata-public/ai4food/fusets_venv.zip#tmp/venv',\n",
    "        'https://artifactory.vgt.vito.be:443/auxdata-public/ai4food/fusets.zip#tmp/venv_static'\n",
    "    ]\n",
    "})\n",
    "whittaker_job.get_results().download_file('./whittaker.json')"
   ]
  },
  {
   "cell_type": "code",
   "execution_count": null,
   "id": "6de9c151",
   "metadata": {},
   "outputs": [],
   "source": [
    "base_ndvi.download('./base.json', format='json')"
   ]
  },
  {
   "cell_type": "code",
   "execution_count": null,
   "id": "960ccd57",
   "metadata": {},
   "outputs": [],
   "source": []
  },
  {
   "cell_type": "code",
   "execution_count": null,
   "id": "978908dd",
   "metadata": {},
   "outputs": [],
   "source": [
    "cubes_dfs = []\n",
    "cols = ['Raw NDVI', 'Whittaker NDVI']\n",
    "for result in ['base.json', 'result.json']:\n",
    "    with open(result, 'r') as result_file:\n",
    "        df = timeseries_json_to_pandas(json.load(result_file))\n",
    "        df.index = pd.to_datetime(df.index)\n",
    "        cubes_dfs.append(df)    \n",
    "        result_file.close()\n",
    "joined_df = pd.concat(cubes_dfs, axis=1)\n",
    "joined_df = joined_df.rename(columns={0: cols[0], 1: cols[1]})"
   ]
  },
  {
   "cell_type": "code",
   "execution_count": null,
   "id": "02403ca8",
   "metadata": {},
   "outputs": [],
   "source": [
    "plt.figure(figsize= (16,6))\n",
    "for col in cols:\n",
    "    plt.plot(joined_df.index, joined_df[col], 'o', label=col)\n",
    "plt.ylabel ('NDVI')\n",
    "plt.grid(True)\n",
    "plt.legend()"
   ]
  },
  {
   "cell_type": "code",
   "execution_count": null,
   "id": "adf64f40",
   "metadata": {},
   "outputs": [],
   "source": []
  }
 ],
 "metadata": {
  "kernelspec": {
   "display_name": "Python 3 (ipykernel)",
   "language": "python",
   "name": "python3"
  },
  "language_info": {
   "codemirror_mode": {
    "name": "ipython",
    "version": 3
   },
   "file_extension": ".py",
   "mimetype": "text/x-python",
   "name": "python",
   "nbconvert_exporter": "python",
   "pygments_lexer": "ipython3",
   "version": "3.10.6"
  }
 },
 "nbformat": 4,
 "nbformat_minor": 5
}
