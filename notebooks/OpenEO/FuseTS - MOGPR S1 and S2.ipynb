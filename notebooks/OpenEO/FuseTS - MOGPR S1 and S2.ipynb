{
 "cells": [
  {
   "cell_type": "markdown",
   "id": "3d58e2f2",
   "metadata": {
    "id": "3d58e2f2"
   },
   "source": [
    "# FuseTS - S1 and S2 data fusion using MOGPR\n",
    "\n",
    "In this notebook, we'll demonstrate how to use openEO's diverse capabilities to build a workflow for fusing data. In this particular case, we'll integrate both FuseTS's MOGPR service to fuse a datacube that contains multiple data sources. In this example, we'll be chosing Sentinel 2 NDVI and S1 Coherence data.\n",
    "\n",
    "**Prerequisites**\n",
    "- In this notebook, we utilize openEO to retrieve time series data. To leverage the full range of openEO features, you can create a free trial account on the [openEO Platform](https://docs.openeo.cloud/join/free_trial.html) and receive 1000 free credits, enabling you to execute the functionalities showcased in this notebook.\n"
   ]
  },
  {
   "cell_type": "markdown",
   "id": "9b7f006d",
   "metadata": {
    "id": "9b7f006d"
   },
   "source": [
    "Lets start with importing the different libraries that we need within this notebook.\n"
   ]
  },
  {
   "cell_type": "markdown",
   "id": "1f517e4f-229f-4d85-9f1e-9f43d614a6cb",
   "metadata": {
    "id": "1f517e4f-229f-4d85-9f1e-9f43d614a6cb"
   },
   "source": [
    "## Setting up the environment\n",
    "\n",
    "First of all we need to make sure that all our dependencies are correctly installed.\n"
   ]
  },
  {
   "cell_type": "code",
   "execution_count": 1,
   "id": "47aa953d",
   "metadata": {
    "id": "47aa953d"
   },
   "outputs": [
    {
     "name": "stdout",
     "output_type": "stream",
     "text": [
      "Requirement already satisfied: openeo in /Users/bramjanssen/projects/vito/FuseTS/venv_clean_v2/lib/python3.8/site-packages (0.22.0)\n",
      "Requirement already satisfied: pandas>0.20.0 in /Users/bramjanssen/projects/vito/FuseTS/venv_clean_v2/lib/python3.8/site-packages (from openeo) (2.0.3)\n",
      "Requirement already satisfied: requests>=2.26.0 in /Users/bramjanssen/projects/vito/FuseTS/venv_clean_v2/lib/python3.8/site-packages (from openeo) (2.31.0)\n",
      "Requirement already satisfied: deprecated>=1.2.12 in /Users/bramjanssen/projects/vito/FuseTS/venv_clean_v2/lib/python3.8/site-packages (from openeo) (1.2.14)\n",
      "Requirement already satisfied: shapely>=1.6.4 in /Users/bramjanssen/projects/vito/FuseTS/venv_clean_v2/lib/python3.8/site-packages (from openeo) (2.0.1)\n",
      "Requirement already satisfied: numpy>=1.17.0 in /Users/bramjanssen/projects/vito/FuseTS/venv_clean_v2/lib/python3.8/site-packages (from openeo) (1.23.5)\n",
      "Requirement already satisfied: xarray>=0.12.3 in /Users/bramjanssen/projects/vito/FuseTS/venv_clean_v2/lib/python3.8/site-packages (from openeo) (2023.1.0)\n",
      "Requirement already satisfied: wrapt<2,>=1.10 in /Users/bramjanssen/projects/vito/FuseTS/venv_clean_v2/lib/python3.8/site-packages (from deprecated>=1.2.12->openeo) (1.15.0)\n",
      "Requirement already satisfied: pytz>=2020.1 in /Users/bramjanssen/projects/vito/FuseTS/venv_clean_v2/lib/python3.8/site-packages (from pandas>0.20.0->openeo) (2023.3)\n",
      "Requirement already satisfied: tzdata>=2022.1 in /Users/bramjanssen/projects/vito/FuseTS/venv_clean_v2/lib/python3.8/site-packages (from pandas>0.20.0->openeo) (2023.3)\n",
      "Requirement already satisfied: python-dateutil>=2.8.2 in /Users/bramjanssen/projects/vito/FuseTS/venv_clean_v2/lib/python3.8/site-packages (from pandas>0.20.0->openeo) (2.8.2)\n",
      "Requirement already satisfied: charset-normalizer<4,>=2 in /Users/bramjanssen/projects/vito/FuseTS/venv_clean_v2/lib/python3.8/site-packages (from requests>=2.26.0->openeo) (3.2.0)\n",
      "Requirement already satisfied: urllib3<3,>=1.21.1 in /Users/bramjanssen/projects/vito/FuseTS/venv_clean_v2/lib/python3.8/site-packages (from requests>=2.26.0->openeo) (2.0.4)\n",
      "Requirement already satisfied: idna<4,>=2.5 in /Users/bramjanssen/projects/vito/FuseTS/venv_clean_v2/lib/python3.8/site-packages (from requests>=2.26.0->openeo) (3.4)\n",
      "Requirement already satisfied: certifi>=2017.4.17 in /Users/bramjanssen/projects/vito/FuseTS/venv_clean_v2/lib/python3.8/site-packages (from requests>=2.26.0->openeo) (2023.7.22)\n",
      "Requirement already satisfied: packaging>=21.3 in /Users/bramjanssen/projects/vito/FuseTS/venv_clean_v2/lib/python3.8/site-packages (from xarray>=0.12.3->openeo) (23.1)\n",
      "Requirement already satisfied: six>=1.5 in /Users/bramjanssen/projects/vito/FuseTS/venv_clean_v2/lib/python3.8/site-packages (from python-dateutil>=2.8.2->pandas>0.20.0->openeo) (1.16.0)\n",
      "\n",
      "\u001b[1m[\u001b[0m\u001b[34;49mnotice\u001b[0m\u001b[1;39;49m]\u001b[0m\u001b[39;49m A new release of pip available: \u001b[0m\u001b[31;49m22.3.1\u001b[0m\u001b[39;49m -> \u001b[0m\u001b[32;49m23.3.1\u001b[0m\n",
      "\u001b[1m[\u001b[0m\u001b[34;49mnotice\u001b[0m\u001b[1;39;49m]\u001b[0m\u001b[39;49m To update, run: \u001b[0m\u001b[32;49mpip install --upgrade pip\u001b[0m\n"
     ]
    }
   ],
   "source": [
    "!pip install openeo"
   ]
  },
  {
   "cell_type": "code",
   "execution_count": 32,
   "id": "35b24fd9",
   "metadata": {
    "id": "35b24fd9",
    "tags": []
   },
   "outputs": [],
   "source": [
    "import json\n",
    "import warnings\n",
    "\n",
    "import numpy as np\n",
    "import pandas as pd\n",
    "from array import array\n",
    "\n",
    "import openeo\n",
    "\n",
    "import xarray\n",
    "\n",
    "import matplotlib.pyplot as plt\n",
    "\n",
    "from ipyleaflet import GeoJSON, Map, basemaps\n",
    "\n",
    "warnings.filterwarnings(\"ignore\")"
   ]
  },
  {
   "cell_type": "markdown",
   "id": "69bbf07b-97d9-4873-b8e6-d0eb2b63f6c9",
   "metadata": {},
   "source": [
    "# Exploring the area of interest\n",
    "In this first part, we will explore the area of interest that will be used for calculating the phenology metrics."
   ]
  },
  {
   "cell_type": "code",
   "execution_count": 3,
   "id": "37b1970f",
   "metadata": {
    "id": "37b1970f",
    "tags": []
   },
   "outputs": [],
   "source": [
    "year = 2023\n",
    "spat_ext = {\n",
    "    \"type\": \"Polygon\",\n",
    "    \"coordinates\": [\n",
    "        [\n",
    "            [\n",
    "                5.170012098271149,\n",
    "                51.25062964728295\n",
    "            ],\n",
    "            [\n",
    "                5.17085904378298,\n",
    "                51.24882567194015\n",
    "            ],\n",
    "            [\n",
    "                5.17857421368097,\n",
    "                51.2468515482926\n",
    "            ],\n",
    "            [\n",
    "                5.178972704726344,\n",
    "                51.24982704376254\n",
    "            ],\n",
    "            [\n",
    "                5.170012098271149,\n",
    "                51.25062964728295\n",
    "            ]\n",
    "        ]\n",
    "    ]\n",
    "}\n",
    "temp_ext = [f\"{year}-01-01\", f\"{year}-03-01\"]"
   ]
  },
  {
   "cell_type": "markdown",
   "id": "2ebb96d4",
   "metadata": {
    "id": "2ebb96d4"
   },
   "source": [
    "Plot the area to see what we're working with.\n"
   ]
  },
  {
   "cell_type": "code",
   "execution_count": 4,
   "id": "b2bf0d05",
   "metadata": {
    "colab": {
     "base_uri": "https://localhost:8080/",
     "height": 421,
     "referenced_widgets": [
      "ae380de71eee4a5db3f93b4d72391c55",
      "5bde1dfbad6a4c38bdeec7f198292be2",
      "4dea090226fb4def9909b02d5a79f92a",
      "1c42eea0ba6f4a00b594b7317991a774",
      "a6b2219658314282b9714ead2b5bcbb8",
      "fa72b583a1fd4247911a5500ec07dc62",
      "7dfc8a56f36447f388cd7450ad0f209e",
      "075be31fc63941ab8c7f3c0ac8ee27d4",
      "78e3180acb034052bdfe52ecbcde3dd2"
     ]
    },
    "id": "b2bf0d05",
    "outputId": "2418e4e3-34fe-4903-e217-9cd4f999dbe6"
   },
   "outputs": [
    {
     "data": {
      "application/vnd.jupyter.widget-view+json": {
       "model_id": "e42ba8cc8a8b47b3a46250eea2c1c908",
       "version_major": 2,
       "version_minor": 0
      },
      "text/plain": [
       "Map(center=[51.249352711712234, 5.173686031746518], controls=(ZoomControl(options=['position', 'zoom_in_text',…"
      ]
     },
     "execution_count": 4,
     "metadata": {},
     "output_type": "execute_result"
    }
   ],
   "source": [
    "center = np.mean(spat_ext[\"coordinates\"][0], axis=0).tolist()[::-1]\n",
    "zoom = 16\n",
    "\n",
    "m = Map(basemap=basemaps.Esri.WorldImagery, center=center, zoom=zoom)\n",
    "g = GeoJSON(\n",
    "    data=spat_ext,\n",
    "    style={\n",
    "        \"color\": \"red\",\n",
    "        \"opacity\": 1,\n",
    "        \"weight\": 1.9,\n",
    "        \"dashArray\": \"9\",\n",
    "        \"fillOpacity\": 0.5,\n",
    "    },\n",
    ")\n",
    "m.add(g)\n",
    "m"
   ]
  },
  {
   "cell_type": "markdown",
   "id": "19e8133f-8b24-45df-9c5d-f5bd92f78e46",
   "metadata": {},
   "source": [
    "# Setting up connection with openEO\n",
    "\n",
    "The first step in setting up the workflow, is creating a connection with openEO. "
   ]
  },
  {
   "cell_type": "code",
   "execution_count": 5,
   "id": "25dd29b3-856b-4b47-b814-834036262ce2",
   "metadata": {},
   "outputs": [
    {
     "name": "stdout",
     "output_type": "stream",
     "text": [
      "Authenticated using refresh token.\n"
     ]
    }
   ],
   "source": [
    "connection = openeo.connect(\"openeo.vito.be\").authenticate_oidc()"
   ]
  },
  {
   "cell_type": "markdown",
   "id": "4b83aa34-29f6-482b-b805-a43cb39d30c4",
   "metadata": {},
   "source": [
    "# Executing the MOGPR function"
   ]
  },
  {
   "cell_type": "code",
   "execution_count": 6,
   "id": "04c3233f-32c6-4ad5-9de1-fa4dad0fd60b",
   "metadata": {},
   "outputs": [],
   "source": [
    "service = 'mogpr_s1_s2'\n",
    "namespace = 'u:fusets'"
   ]
  },
  {
   "cell_type": "code",
   "execution_count": 7,
   "id": "a0aae336-216f-4829-ba17-a4b6bb710c4b",
   "metadata": {},
   "outputs": [
    {
     "data": {
      "text/html": [
       "\n",
       "    <script>\n",
       "    if (!window.customElements || !window.customElements.get('openeo-process')) {\n",
       "        var el = document.createElement('script');\n",
       "        el.src = \"https://cdn.jsdelivr.net/npm/@openeo/vue-components@2/assets/openeo.min.js\";\n",
       "        document.head.appendChild(el);\n",
       "\n",
       "        var font = document.createElement('font');\n",
       "        font.as = \"font\";\n",
       "        font.type = \"font/woff2\";\n",
       "        font.crossOrigin = true;\n",
       "        font.href = \"https://use.fontawesome.com/releases/v5.13.0/webfonts/fa-solid-900.woff2\"\n",
       "        document.head.appendChild(font);\n",
       "    }\n",
       "    </script>\n",
       "    <openeo-process>\n",
       "        <script type=\"application/json\">{\"show-graph\": true, \"provide-download\": false, \"process\": {\"description\": \"# Sentinel-1 and Sentinel-2 data fusion through multi output gaussian process regression\\n\\n## Description\\n\\nCompute a temporal dense timeseries based on the fusion of Sentinel-1 (S1) and Sentinel-2 (S2) using MOGPR. \\n\\n## Parameters\\n| Name | Description | Type | Default |\\n|---|---|---|---------|\\n| polygon | Polygon representing the AOI on which to apply the data fusion | GeoJSON |         | \\n| date | Date range for which to apply the data fusion | Array |         |\\n| s1_collection | S1 data collection to use for the fusion | Text | RVI     |\\n| s2_collection | S2 data collection to use for fusing the data | Text | NDVI       | \\n\\n### Supported collections\\n\\n#### Sentinel-1\\n\\n* RVI\\n* GRD\\n* GAMMA0\\n* COHERENCE (only Europe)\\n\\n#### Sentinel-2\\n\\n* NDVI\\n* FAPAR\\n* LAI\\n* FCOVER\\n* EVI\\n* CCC\\n* CWC\\n\\n\\n## Usage\\n\\nUsage examples for the MOGPR process.\\n\\n### Python\\n\\nThis code example highlights the usage of the MOGPR process in an OpenEO batch job.\\nThe result of this batch job will consist of individual GeoTIFF files per date.\\nGenerating multiple GeoTIFF files as output is only possible in a batch job.\\n\\n```python\\nimport openeo\\n\\n## Setup of parameters\\nminx, miny, maxx, maxy = (15.179421073198585, 45.80924633589998, 15.185336903822831, 45.81302555710934)\\nspat_ext = dict(west=minx, east=maxx, north=maxy, south=miny, crs=4326)\\ntemp_ext = [\\\"2021-01-01\\\", \\\"2021-12-31\\\"]\\n\\n## Setup connection to openEO\\nconnection = openeo.connect(\\\"openeo.vito.be\\\").authenticate_oidc()\\nservice = 'mogpr_s1_s2'\\nnamespace = 'u:fusets'\\n\\nmogpr = connection.datacube_from_process(service,\\n                                         namespace=f'https://openeo.vito.be/openeo/1.1/processes/{namespace}/{service}',\\n                                         polygon=spat_ext, date=temp_ext)\\n\\nmogpr.execute_batch('./result_mogpr_s1_s2.nc', title=f'FuseTS - MOGPR S1 S2', job_options={\\n    'udf-dependency-archives': [\\n        'https://artifactory.vgt.vito.be:443/artifactory/auxdata-public/ai4food/fusets_venv.zip#tmp/venv',\\n        'https://artifactory.vgt.vito.be:443/artifactory/auxdata-public/ai4food/fusets.zip#tmp/venv_static'\\n    ],\\n    'executor-memory': '8g'\\n})\\n\\n```\\n\\n## Limitations\\n\\nThe spatial extent is limited to a maximum size equal to a Sentinel-2 MGRS tile (100 km x 100 km).\\n\\n## Configuration & Resource Usage\\nThe executor memory defaults to 5 GB. You can increase the executor memory by specifying it as a job option, eg:\\n\\n```python\\njob = cube.execute_batch(out_format=\\\"GTIFF\\\", job_options={\\\"executor-memory\\\": \\\"8g\\\"})\\n```\\n\", \"id\": \"mogpr_s1_s2\", \"parameters\": [{\"description\": \"Polygon representing the AOI on which to apply the data fusion\", \"name\": \"polygon\", \"schema\": {\"subtype\": \"geojson\", \"type\": \"object\"}}, {\"description\": \"Date range for which to apply the data fusion\", \"name\": \"date\", \"schema\": {\"examples\": [[\"2015-01-01T00:00:00Z\", \"2016-01-01T00:00:00Z\"], [\"2015-01-01\", \"2016-01-01\"]], \"items\": {\"anyOf\": [{\"format\": \"date-time\", \"subtype\": \"date-time\", \"type\": \"string\"}, {\"format\": \"date\", \"subtype\": \"date\", \"type\": \"string\"}, {\"maxLength\": 4, \"minLength\": 4, \"pattern\": \"^\\\\d{4}$\", \"subtype\": \"year\", \"type\": \"string\"}, {\"type\": \"null\"}]}, \"maxItems\": 2, \"minItems\": 2, \"subtype\": \"temporal-interval\", \"type\": \"array\"}}, {\"default\": \"RVI\", \"description\": \"S1 data collection to use for fusing the data\", \"name\": \"s1_collection\", \"optional\": true, \"schema\": {\"enum\": [\"RVI\", \"GRD\", \"GAMMA0\", \"COHERENCE\"], \"type\": \"string\"}}, {\"default\": \"NDVI\", \"description\": \"S2 data collection to use for fusing the data\", \"name\": \"s2_collection\", \"optional\": true, \"schema\": {\"enum\": [\"NDVI\", \"FAPAR\", \"LAI\", \"FCOVER\", \"EVI\", \"CCC\", \"CWC\"], \"type\": \"string\"}}], \"summary\": \"Integrates timeseries in data cube using multi-output gaussian process regression with a specific focus on fusing S1 and S2 data.\"}}</script>\n",
       "    </openeo-process>\n",
       "    "
      ],
      "text/plain": [
       "{'description': '# Sentinel-1 and Sentinel-2 data fusion through multi output gaussian process regression\\n\\n## Description\\n\\nCompute a temporal dense timeseries based on the fusion of Sentinel-1 (S1) and Sentinel-2 (S2) using MOGPR. \\n\\n## Parameters\\n| Name | Description | Type | Default |\\n|---|---|---|---------|\\n| polygon | Polygon representing the AOI on which to apply the data fusion | GeoJSON |         | \\n| date | Date range for which to apply the data fusion | Array |         |\\n| s1_collection | S1 data collection to use for the fusion | Text | RVI     |\\n| s2_collection | S2 data collection to use for fusing the data | Text | NDVI       | \\n\\n### Supported collections\\n\\n#### Sentinel-1\\n\\n* RVI\\n* GRD\\n* GAMMA0\\n* COHERENCE (only Europe)\\n\\n#### Sentinel-2\\n\\n* NDVI\\n* FAPAR\\n* LAI\\n* FCOVER\\n* EVI\\n* CCC\\n* CWC\\n\\n\\n## Usage\\n\\nUsage examples for the MOGPR process.\\n\\n### Python\\n\\nThis code example highlights the usage of the MOGPR process in an OpenEO batch job.\\nThe result of this batch job will consist of individual GeoTIFF files per date.\\nGenerating multiple GeoTIFF files as output is only possible in a batch job.\\n\\n```python\\nimport openeo\\n\\n## Setup of parameters\\nminx, miny, maxx, maxy = (15.179421073198585, 45.80924633589998, 15.185336903822831, 45.81302555710934)\\nspat_ext = dict(west=minx, east=maxx, north=maxy, south=miny, crs=4326)\\ntemp_ext = [\"2021-01-01\", \"2021-12-31\"]\\n\\n## Setup connection to openEO\\nconnection = openeo.connect(\"openeo.vito.be\").authenticate_oidc()\\nservice = \\'mogpr_s1_s2\\'\\nnamespace = \\'u:fusets\\'\\n\\nmogpr = connection.datacube_from_process(service,\\n                                         namespace=f\\'https://openeo.vito.be/openeo/1.1/processes/{namespace}/{service}\\',\\n                                         polygon=spat_ext, date=temp_ext)\\n\\nmogpr.execute_batch(\\'./result_mogpr_s1_s2.nc\\', title=f\\'FuseTS - MOGPR S1 S2\\', job_options={\\n    \\'udf-dependency-archives\\': [\\n        \\'https://artifactory.vgt.vito.be:443/artifactory/auxdata-public/ai4food/fusets_venv.zip#tmp/venv\\',\\n        \\'https://artifactory.vgt.vito.be:443/artifactory/auxdata-public/ai4food/fusets.zip#tmp/venv_static\\'\\n    ],\\n    \\'executor-memory\\': \\'8g\\'\\n})\\n\\n```\\n\\n## Limitations\\n\\nThe spatial extent is limited to a maximum size equal to a Sentinel-2 MGRS tile (100 km x 100 km).\\n\\n## Configuration & Resource Usage\\nThe executor memory defaults to 5 GB. You can increase the executor memory by specifying it as a job option, eg:\\n\\n```python\\njob = cube.execute_batch(out_format=\"GTIFF\", job_options={\"executor-memory\": \"8g\"})\\n```\\n',\n",
       " 'id': 'mogpr_s1_s2',\n",
       " 'parameters': [{'description': 'Polygon representing the AOI on which to apply the data fusion',\n",
       "   'name': 'polygon',\n",
       "   'schema': {'subtype': 'geojson', 'type': 'object'}},\n",
       "  {'description': 'Date range for which to apply the data fusion',\n",
       "   'name': 'date',\n",
       "   'schema': {'examples': [['2015-01-01T00:00:00Z', '2016-01-01T00:00:00Z'],\n",
       "     ['2015-01-01', '2016-01-01']],\n",
       "    'items': {'anyOf': [{'format': 'date-time',\n",
       "       'subtype': 'date-time',\n",
       "       'type': 'string'},\n",
       "      {'format': 'date', 'subtype': 'date', 'type': 'string'},\n",
       "      {'maxLength': 4,\n",
       "       'minLength': 4,\n",
       "       'pattern': '^\\\\d{4}$',\n",
       "       'subtype': 'year',\n",
       "       'type': 'string'},\n",
       "      {'type': 'null'}]},\n",
       "    'maxItems': 2,\n",
       "    'minItems': 2,\n",
       "    'subtype': 'temporal-interval',\n",
       "    'type': 'array'}},\n",
       "  {'default': 'RVI',\n",
       "   'description': 'S1 data collection to use for fusing the data',\n",
       "   'name': 's1_collection',\n",
       "   'optional': True,\n",
       "   'schema': {'enum': ['RVI', 'GRD', 'GAMMA0', 'COHERENCE'],\n",
       "    'type': 'string'}},\n",
       "  {'default': 'NDVI',\n",
       "   'description': 'S2 data collection to use for fusing the data',\n",
       "   'name': 's2_collection',\n",
       "   'optional': True,\n",
       "   'schema': {'enum': ['NDVI', 'FAPAR', 'LAI', 'FCOVER', 'EVI', 'CCC', 'CWC'],\n",
       "    'type': 'string'}}],\n",
       " 'summary': 'Integrates timeseries in data cube using multi-output gaussian process regression with a specific focus on fusing S1 and S2 data.'}"
      ]
     },
     "execution_count": 7,
     "metadata": {},
     "output_type": "execute_result"
    }
   ],
   "source": [
    "connection.describe_process(service, namespace=namespace)"
   ]
  },
  {
   "cell_type": "code",
   "execution_count": 8,
   "id": "77b3f539-b919-43fb-b7c5-31c2853c4c7c",
   "metadata": {},
   "outputs": [],
   "source": [
    "mogpr = connection.datacube_from_process(service,\n",
    "                                         namespace=f'https://openeo.vito.be/openeo/1.1/processes/{namespace}/{service}',\n",
    "                                         polygon=spat_ext, date=temp_ext, s1_collection='COHERENCE', s2_collection='NDVI')"
   ]
  },
  {
   "cell_type": "markdown",
   "id": "1bdea476-661e-4271-a118-776a6c8fb6aa",
   "metadata": {},
   "source": [
    "# Downloading the results\n",
    "Now that we've setup our workflow, we can now download the results by starting an openEO batch job."
   ]
  },
  {
   "cell_type": "code",
   "execution_count": 9,
   "id": "632a7088-67c2-4f89-95ff-813e4587f2be",
   "metadata": {},
   "outputs": [],
   "source": [
    "mogpr_output_file = './mogpr-s1-s2.nc'"
   ]
  },
  {
   "cell_type": "code",
   "execution_count": 10,
   "id": "db4ac328-5413-4304-b1a5-b1c6dd6710fc",
   "metadata": {
    "scrolled": true
   },
   "outputs": [
    {
     "name": "stdout",
     "output_type": "stream",
     "text": [
      "0:00:00 Job 'j-231221f6753f4aefb8d1f59aa499f74e': send 'start'\n",
      "0:00:27 Job 'j-231221f6753f4aefb8d1f59aa499f74e': queued (progress N/A)\n",
      "0:00:32 Job 'j-231221f6753f4aefb8d1f59aa499f74e': queued (progress N/A)\n",
      "0:00:39 Job 'j-231221f6753f4aefb8d1f59aa499f74e': queued (progress N/A)\n",
      "0:00:47 Job 'j-231221f6753f4aefb8d1f59aa499f74e': queued (progress N/A)\n",
      "0:00:57 Job 'j-231221f6753f4aefb8d1f59aa499f74e': queued (progress N/A)\n",
      "0:01:10 Job 'j-231221f6753f4aefb8d1f59aa499f74e': queued (progress N/A)\n",
      "0:01:25 Job 'j-231221f6753f4aefb8d1f59aa499f74e': queued (progress N/A)\n",
      "0:01:45 Job 'j-231221f6753f4aefb8d1f59aa499f74e': queued (progress N/A)\n",
      "0:02:09 Job 'j-231221f6753f4aefb8d1f59aa499f74e': queued (progress N/A)\n",
      "0:02:39 Job 'j-231221f6753f4aefb8d1f59aa499f74e': running (progress N/A)\n",
      "0:03:17 Job 'j-231221f6753f4aefb8d1f59aa499f74e': running (progress N/A)\n",
      "0:04:04 Job 'j-231221f6753f4aefb8d1f59aa499f74e': running (progress N/A)\n",
      "0:05:02 Job 'j-231221f6753f4aefb8d1f59aa499f74e': running (progress N/A)\n",
      "0:06:03 Job 'j-231221f6753f4aefb8d1f59aa499f74e': running (progress N/A)\n",
      "0:07:03 Job 'j-231221f6753f4aefb8d1f59aa499f74e': running (progress N/A)\n",
      "0:08:03 Job 'j-231221f6753f4aefb8d1f59aa499f74e': running (progress N/A)\n",
      "0:09:04 Job 'j-231221f6753f4aefb8d1f59aa499f74e': running (progress N/A)\n",
      "0:10:04 Job 'j-231221f6753f4aefb8d1f59aa499f74e': running (progress N/A)\n",
      "0:11:05 Job 'j-231221f6753f4aefb8d1f59aa499f74e': running (progress N/A)\n",
      "0:12:05 Job 'j-231221f6753f4aefb8d1f59aa499f74e': running (progress N/A)\n",
      "0:13:05 Job 'j-231221f6753f4aefb8d1f59aa499f74e': running (progress N/A)\n",
      "0:14:06 Job 'j-231221f6753f4aefb8d1f59aa499f74e': running (progress N/A)\n",
      "0:15:06 Job 'j-231221f6753f4aefb8d1f59aa499f74e': running (progress N/A)\n",
      "0:16:07 Job 'j-231221f6753f4aefb8d1f59aa499f74e': running (progress N/A)\n",
      "0:17:07 Job 'j-231221f6753f4aefb8d1f59aa499f74e': running (progress N/A)\n",
      "0:18:07 Job 'j-231221f6753f4aefb8d1f59aa499f74e': running (progress N/A)\n",
      "0:19:07 Job 'j-231221f6753f4aefb8d1f59aa499f74e': running (progress N/A)\n",
      "0:20:08 Job 'j-231221f6753f4aefb8d1f59aa499f74e': running (progress N/A)\n",
      "0:21:08 Job 'j-231221f6753f4aefb8d1f59aa499f74e': running (progress N/A)\n",
      "0:22:08 Job 'j-231221f6753f4aefb8d1f59aa499f74e': running (progress N/A)\n",
      "0:23:08 Job 'j-231221f6753f4aefb8d1f59aa499f74e': running (progress N/A)\n",
      "0:24:09 Job 'j-231221f6753f4aefb8d1f59aa499f74e': running (progress N/A)\n",
      "0:25:09 Job 'j-231221f6753f4aefb8d1f59aa499f74e': running (progress N/A)\n",
      "0:26:09 Job 'j-231221f6753f4aefb8d1f59aa499f74e': running (progress N/A)\n",
      "0:27:09 Job 'j-231221f6753f4aefb8d1f59aa499f74e': running (progress N/A)\n",
      "0:28:10 Job 'j-231221f6753f4aefb8d1f59aa499f74e': running (progress N/A)\n",
      "0:29:10 Job 'j-231221f6753f4aefb8d1f59aa499f74e': running (progress N/A)\n",
      "0:30:10 Job 'j-231221f6753f4aefb8d1f59aa499f74e': running (progress N/A)\n",
      "0:31:11 Job 'j-231221f6753f4aefb8d1f59aa499f74e': running (progress N/A)\n",
      "0:32:12 Job 'j-231221f6753f4aefb8d1f59aa499f74e': running (progress N/A)\n",
      "0:33:12 Job 'j-231221f6753f4aefb8d1f59aa499f74e': running (progress N/A)\n",
      "0:34:13 Job 'j-231221f6753f4aefb8d1f59aa499f74e': running (progress N/A)\n",
      "0:35:13 Job 'j-231221f6753f4aefb8d1f59aa499f74e': running (progress N/A)\n",
      "0:36:13 Job 'j-231221f6753f4aefb8d1f59aa499f74e': running (progress N/A)\n",
      "0:37:14 Job 'j-231221f6753f4aefb8d1f59aa499f74e': running (progress N/A)\n",
      "0:38:14 Job 'j-231221f6753f4aefb8d1f59aa499f74e': running (progress N/A)\n",
      "0:39:15 Job 'j-231221f6753f4aefb8d1f59aa499f74e': running (progress N/A)\n",
      "0:40:15 Job 'j-231221f6753f4aefb8d1f59aa499f74e': running (progress N/A)\n",
      "0:41:16 Job 'j-231221f6753f4aefb8d1f59aa499f74e': running (progress N/A)\n",
      "0:42:16 Job 'j-231221f6753f4aefb8d1f59aa499f74e': running (progress N/A)\n",
      "0:43:16 Job 'j-231221f6753f4aefb8d1f59aa499f74e': running (progress N/A)\n",
      "0:44:17 Job 'j-231221f6753f4aefb8d1f59aa499f74e': running (progress N/A)\n",
      "0:45:18 Job 'j-231221f6753f4aefb8d1f59aa499f74e': running (progress N/A)\n",
      "0:46:19 Job 'j-231221f6753f4aefb8d1f59aa499f74e': running (progress N/A)\n",
      "0:47:19 Job 'j-231221f6753f4aefb8d1f59aa499f74e': running (progress N/A)\n",
      "0:48:20 Job 'j-231221f6753f4aefb8d1f59aa499f74e': running (progress N/A)\n",
      "0:49:20 Job 'j-231221f6753f4aefb8d1f59aa499f74e': finished (progress N/A)\n"
     ]
    }
   ],
   "source": [
    "mogpr_job = mogpr.execute_batch(mogpr_output_file, out_format=\"netcdf\",\n",
    "                                title=f'FuseTS - MOGPR - S1/S2 Data Fusion', job_options={\n",
    "        'executor-memory': '8g',\n",
    "        'udf-dependency-archives': [ \n",
    "            'https://artifactory.vgt.vito.be:443/artifactory/auxdata-public/ai4food/fusets_venv.zip#tmp/venv',\n",
    "            'https://artifactory.vgt.vito.be:443/artifactory/auxdata-public/ai4food/fusets.zip#tmp/venv_static'\n",
    "        ]\n",
    "    })"
   ]
  },
  {
   "cell_type": "markdown",
   "id": "3235c845-50fa-484d-85c3-1695d6ef88b5",
   "metadata": {},
   "source": [
    "# Explore the results¶"
   ]
  },
  {
   "cell_type": "code",
   "execution_count": 14,
   "id": "ec95ceb1-9027-4305-a40a-6bcf9905c7a2",
   "metadata": {},
   "outputs": [],
   "source": [
    "cubes_dfs = []\n",
    "ds = xarray.load_dataset(mogpr_output_file)\n",
    "for var in ds.data_vars.items():\n",
    "    if var[0] != 'crs':\n",
    "        var_df = var[1].mean(dim=['x', 'y'])\n",
    "        var_df = var_df.to_dataframe()\n",
    "        var_df.index = pd.to_datetime(var_df.index)\n",
    "        var_df['date'] = var_df.index.date\n",
    "        var_df = var_df.set_index('date')\n",
    "        cubes_dfs.append(var_df)\n",
    "\n",
    "joined_df = pd.concat(cubes_dfs, axis=1)"
   ]
  },
  {
   "cell_type": "code",
   "execution_count": 52,
   "id": "8826c305-1f4c-481f-88aa-291d80e38448",
   "metadata": {},
   "outputs": [
    {
     "data": {
      "text/plain": [
       "<matplotlib.legend.Legend at 0x11339ae80>"
      ]
     },
     "execution_count": 52,
     "metadata": {},
     "output_type": "execute_result"
    },
    {
     "data": {
      "image/png": "[encoded data removed]",
      "text/plain": [
       "<Figure size 1600x600 with 2 Axes>"
      ]
     },
     "metadata": {},
     "output_type": "display_data"
    }
   ],
   "source": [
    "fig, ax = plt.subplots(figsize=(16, 6))\n",
    "ndvi_ax = ax.twinx()\n",
    "ax.set_ylabel(\"VV & VH\")\n",
    "ndvi_ax.set_ylabel(\"NDVI\")\n",
    "ndvi_ax.set_ylim(-0.08, 0.92)\n",
    "plots = []\n",
    "for col in joined_df.columns.values:\n",
    "    values = joined_df[~joined_df[col].isna()]\n",
    "    if col.lower() == 'ndvi':\n",
    "        ndvi_ax.plot(values.index, values[col], 'go-', label=col)\n",
    "    else:\n",
    "        ax.plot(values.index, values[col], 'o-', label=col)\n",
    "        \n",
    "handles, labels = ax.get_legend_handles_labels()\n",
    "ndvi_handles, ndvi_labels = ndvi_ax.get_legend_handles_labels()\n",
    "ax.legend(handles + ndvi_handles, labels + ndvi_labels)"
   ]
  },
  {
   "cell_type": "code",
   "execution_count": null,
   "id": "8dd182d1-8865-4d7f-a924-1786bfff7634",
   "metadata": {},
   "outputs": [],
   "source": []
  }
 ],
 "metadata": {
  "colab": {
   "provenance": []
  },
  "kernelspec": {
   "display_name": "Python 3 (ipykernel)",
   "language": "python",
   "name": "python3"
  },
  "language_info": {
   "codemirror_mode": {
    "name": "ipython",
    "version": 3
   },
   "file_extension": ".py",
   "mimetype": "text/x-python",
   "name": "python",
   "nbconvert_exporter": "python",
   "pygments_lexer": "ipython3",
   "version": "3.8.17"
  },
  "vscode": {
   "interpreter": {
    "hash": "5c03b434e59eed88f0de80727dd778a0649e6474303457c247ef449eabdd7cac"
   }
  },
  "widgets": {
   "application/vnd.jupyter.widget-state+json": {
    "075be31fc63941ab8c7f3c0ac8ee27d4": {
     "model_module": "@jupyter-widgets/base",
     "model_module_version": "1.2.0",
     "model_name": "LayoutModel",
     "state": {
      "_model_module": "@jupyter-widgets/base",
      "_model_module_version": "1.2.0",
      "_model_name": "LayoutModel",
      "_view_count": null,
      "_view_module": "@jupyter-widgets/base",
      "_view_module_version": "1.2.0",
      "_view_name": "LayoutView",
      "align_content": null,
      "align_items": null,
      "align_self": null,
      "border": null,
      "bottom": null,
      "display": null,
      "flex": null,
      "flex_flow": null,
      "grid_area": null,
      "grid_auto_columns": null,
      "grid_auto_flow": null,
      "grid_auto_rows": null,
      "grid_column": null,
      "grid_gap": null,
      "grid_row": null,
      "grid_template_areas": null,
      "grid_template_columns": null,
      "grid_template_rows": null,
      "height": null,
      "justify_content": null,
      "justify_items": null,
      "left": null,
      "margin": null,
      "max_height": null,
      "max_width": null,
      "min_height": null,
      "min_width": null,
      "object_fit": null,
      "object_position": null,
      "order": null,
      "overflow": null,
      "overflow_x": null,
      "overflow_y": null,
      "padding": null,
      "right": null,
      "top": null,
      "visibility": null,
      "width": null
     }
    },
    "1c42eea0ba6f4a00b594b7317991a774": {
     "model_module": "jupyter-leaflet",
     "model_module_version": "^0.17",
     "model_name": "LeafletMapStyleModel",
     "state": {
      "_model_module": "jupyter-leaflet",
      "_model_module_version": "^0.17",
      "_model_name": "LeafletMapStyleModel",
      "_view_count": null,
      "_view_module": "@jupyter-widgets/base",
      "_view_module_version": "1.2.0",
      "_view_name": "StyleView",
      "cursor": "grab"
     }
    },
    "4dea090226fb4def9909b02d5a79f92a": {
     "model_module": "jupyter-leaflet",
     "model_module_version": "^0.17",
     "model_name": "LeafletAttributionControlModel",
     "state": {
      "_model_module": "jupyter-leaflet",
      "_model_module_version": "^0.17",
      "_model_name": "LeafletAttributionControlModel",
      "_view_count": null,
      "_view_module": "jupyter-leaflet",
      "_view_module_version": "^0.17",
      "_view_name": "LeafletAttributionControlView",
      "options": [
       "position",
       "prefix"
      ],
      "position": "bottomright",
      "prefix": "ipyleaflet"
     }
    },
    "5bde1dfbad6a4c38bdeec7f198292be2": {
     "model_module": "jupyter-leaflet",
     "model_module_version": "^0.17",
     "model_name": "LeafletZoomControlModel",
     "state": {
      "_model_module": "jupyter-leaflet",
      "_model_module_version": "^0.17",
      "_model_name": "LeafletZoomControlModel",
      "_view_count": null,
      "_view_module": "jupyter-leaflet",
      "_view_module_version": "^0.17",
      "_view_name": "LeafletZoomControlView",
      "options": [
       "position",
       "zoom_in_text",
       "zoom_in_title",
       "zoom_out_text",
       "zoom_out_title"
      ],
      "position": "topleft",
      "zoom_in_text": "+",
      "zoom_in_title": "Zoom in",
      "zoom_out_text": "-",
      "zoom_out_title": "Zoom out"
     }
    },
    "78e3180acb034052bdfe52ecbcde3dd2": {
     "model_module": "jupyter-leaflet",
     "model_module_version": "^0.17",
     "model_name": "LeafletMapStyleModel",
     "state": {
      "_model_module": "jupyter-leaflet",
      "_model_module_version": "^0.17",
      "_model_name": "LeafletMapStyleModel",
      "_view_count": null,
      "_view_module": "@jupyter-widgets/base",
      "_view_module_version": "1.2.0",
      "_view_name": "StyleView",
      "cursor": "grab"
     }
    },
    "7dfc8a56f36447f388cd7450ad0f209e": {
     "model_module": "jupyter-leaflet",
     "model_module_version": "^0.17",
     "model_name": "LeafletGeoJSONModel",
     "state": {
      "_model_module": "jupyter-leaflet",
      "_model_module_version": "^0.17",
      "_model_name": "LeafletGeoJSONModel",
      "_view_count": null,
      "_view_module": "jupyter-leaflet",
      "_view_module_version": "^0.17",
      "_view_name": "LeafletGeoJSONView",
      "base": false,
      "bottom": false,
      "data": {
       "coordinates": [
        [
         [
          -4.875091217039325,
          41.77290587433312
         ],
         [
          -4.872773788450457,
          41.77290587433312
         ],
         [
          -4.872773788450457,
          41.77450614847532
         ],
         [
          -4.875091217039325,
          41.77450614847532
         ],
         [
          -4.875091217039325,
          41.77290587433312
         ]
        ]
       ],
       "type": "Polygon"
      },
      "hover_style": {},
      "layers": [],
      "name": "",
      "options": [],
      "pane": "",
      "point_style": {},
      "popup": null,
      "popup_max_height": null,
      "popup_max_width": 300,
      "popup_min_width": 50,
      "style": {
       "color": "red",
       "dashArray": "9",
       "fillOpacity": 0.5,
       "opacity": 1,
       "weight": 1.9
      },
      "subitems": [],
      "visible": true
     }
    },
    "a6b2219658314282b9714ead2b5bcbb8": {
     "model_module": "jupyter-leaflet",
     "model_module_version": "^0.17",
     "model_name": "LeafletMapStyleModel",
     "state": {
      "_model_module": "jupyter-leaflet",
      "_model_module_version": "^0.17",
      "_model_name": "LeafletMapStyleModel",
      "_view_count": null,
      "_view_module": "@jupyter-widgets/base",
      "_view_module_version": "1.2.0",
      "_view_name": "StyleView",
      "cursor": "move"
     }
    },
    "ae380de71eee4a5db3f93b4d72391c55": {
     "model_module": "jupyter-leaflet",
     "model_module_version": "^0.17",
     "model_name": "LeafletMapModel",
     "state": {
      "_dom_classes": [],
      "_model_module": "jupyter-leaflet",
      "_model_module_version": "^0.17",
      "_model_name": "LeafletMapModel",
      "_view_count": null,
      "_view_module": "jupyter-leaflet",
      "_view_module_version": "^0.17",
      "_view_name": "LeafletMapView",
      "bottom": 6242364,
      "bounce_at_zoom_limits": true,
      "box_zoom": true,
      "center": [
       41.773545983990005,
       -4.874164245603778
      ],
      "close_popup_on_click": true,
      "controls": [
       "IPY_MODEL_5bde1dfbad6a4c38bdeec7f198292be2",
       "IPY_MODEL_4dea090226fb4def9909b02d5a79f92a"
      ],
      "crs": {
       "custom": false,
       "name": "EPSG3857"
      },
      "default_style": "IPY_MODEL_1c42eea0ba6f4a00b594b7317991a774",
      "double_click_zoom": true,
      "dragging": true,
      "dragging_style": "IPY_MODEL_a6b2219658314282b9714ead2b5bcbb8",
      "east": -4.862265586853028,
      "fullscreen": false,
      "inertia": true,
      "inertia_deceleration": 3000,
      "inertia_max_speed": 1500,
      "interpolation": "bilinear",
      "keyboard": true,
      "keyboard_pan_offset": 80,
      "keyboard_zoom_offset": 1,
      "layers": [
       "IPY_MODEL_fa72b583a1fd4247911a5500ec07dc62",
       "IPY_MODEL_7dfc8a56f36447f388cd7450ad0f209e"
      ],
      "layout": "IPY_MODEL_075be31fc63941ab8c7f3c0ac8ee27d4",
      "left": 8160901,
      "max_zoom": null,
      "min_zoom": null,
      "modisdate": "2023-10-25",
      "north": 41.77675258417862,
      "options": [
       "bounce_at_zoom_limits",
       "box_zoom",
       "center",
       "close_popup_on_click",
       "double_click_zoom",
       "dragging",
       "fullscreen",
       "inertia",
       "inertia_deceleration",
       "inertia_max_speed",
       "interpolation",
       "keyboard",
       "keyboard_pan_offset",
       "keyboard_zoom_offset",
       "max_zoom",
       "min_zoom",
       "prefer_canvas",
       "scroll_wheel_zoom",
       "tap",
       "tap_tolerance",
       "touch_zoom",
       "world_copy_jump",
       "zoom",
       "zoom_animation_threshold",
       "zoom_delta",
       "zoom_snap"
      ],
      "panes": {},
      "prefer_canvas": false,
      "right": 8162010,
      "scroll_wheel_zoom": false,
      "south": 41.77035147225083,
      "style": "IPY_MODEL_78e3180acb034052bdfe52ecbcde3dd2",
      "tap": true,
      "tap_tolerance": 15,
      "top": 6241964,
      "touch_zoom": true,
      "west": -4.886062145233155,
      "window_url": "https://zzuftopcnl9-496ff2e9c6d22116-0-colab.googleusercontent.com/outputframe.html?vrz=colab_20231024-060124_RC00_576097381",
      "world_copy_jump": false,
      "zoom": 16,
      "zoom_animation_threshold": 4,
      "zoom_delta": 1,
      "zoom_snap": 1
     }
    },
    "fa72b583a1fd4247911a5500ec07dc62": {
     "model_module": "jupyter-leaflet",
     "model_module_version": "^0.17",
     "model_name": "LeafletTileLayerModel",
     "state": {
      "_model_module": "jupyter-leaflet",
      "_model_module_version": "^0.17",
      "_model_name": "LeafletTileLayerModel",
      "_view_count": null,
      "_view_module": "jupyter-leaflet",
      "_view_module_version": "^0.17",
      "_view_name": "LeafletTileLayerView",
      "attribution": "Tiles &copy; Esri &mdash; Source: Esri, i-cubed, USDA, USGS, AEX, GeoEye, Getmapping, Aerogrid, IGN, IGP, UPR-EGP, and the GIS User Community",
      "base": true,
      "bottom": true,
      "bounds": null,
      "detect_retina": false,
      "loading": false,
      "max_native_zoom": null,
      "max_zoom": 18,
      "min_native_zoom": null,
      "min_zoom": 1,
      "name": "Esri.WorldImagery",
      "no_wrap": false,
      "opacity": 1,
      "options": [
       "attribution",
       "bounds",
       "detect_retina",
       "max_native_zoom",
       "max_zoom",
       "min_native_zoom",
       "min_zoom",
       "no_wrap",
       "tile_size",
       "tms",
       "zoom_offset"
      ],
      "pane": "",
      "popup": null,
      "popup_max_height": null,
      "popup_max_width": 300,
      "popup_min_width": 50,
      "show_loading": false,
      "subitems": [],
      "tile_size": 256,
      "tms": false,
      "url": "https://server.arcgisonline.com/ArcGIS/rest/services/World_Imagery/MapServer/tile/{z}/{y}/{x}",
      "visible": true,
      "zoom_offset": 0
     }
    }
   }
  }
 },
 "nbformat": 4,
 "nbformat_minor": 5
}
