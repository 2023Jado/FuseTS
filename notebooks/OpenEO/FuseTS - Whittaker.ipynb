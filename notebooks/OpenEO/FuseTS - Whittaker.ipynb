{
 "cells": [
  {
   "cell_type": "markdown",
   "id": "1498ab99",
   "metadata": {},
   "source": [
    "# FuseTS - Whittaker example\n",
    "This document displays the Whittaker algorithm, a component of the FuseTS library. The Whittaker algorithm is a smoothing algorithm that is designed to handle time series data. The algorithm is effective in removing noise and other fluctuations from time series data, which can be important when trying to understand trends in the data. "
   ]
  },
  {
   "cell_type": "markdown",
   "id": "c21fdd98",
   "metadata": {},
   "source": [
    "## Setting up the OpenEO process\n",
    "The first step includes setting up the OpenEO processing through the [OpenEO Python Client](https://open-eo.github.io/openeo-python-client/). Since the Whittaker algorithm is integrated as an [user defined process](https://open-eo.github.io/openeo-python-client/cookbook/udp_sharing.html), we can use the `datacube_from_process` function to execute the service."
   ]
  },
  {
   "cell_type": "code",
   "execution_count": 2,
   "id": "02b923af",
   "metadata": {},
   "outputs": [],
   "source": [
    "import openeo\n",
    "import json\n",
    "import pandas as pd\n",
    "import matplotlib.pyplot as plt\n",
    "from openeo.rest.conversions import timeseries_json_to_pandas\n",
    "from shapely.geometry import box"
   ]
  },
  {
   "cell_type": "code",
   "execution_count": 3,
   "id": "816711f2",
   "metadata": {},
   "outputs": [
    {
     "name": "stdout",
     "output_type": "stream",
     "text": [
      "Authenticated using refresh token.\n"
     ]
    }
   ],
   "source": [
    "connection = openeo.connect(\"openeo.vito.be\").authenticate_oidc()\n",
    "service = 'whittaker'\n",
    "namespace = 'u:bramjanssen'"
   ]
  },
  {
   "cell_type": "code",
   "execution_count": 4,
   "id": "720deef6",
   "metadata": {},
   "outputs": [
    {
     "data": {
      "text/html": [
       "\n",
       "    <script>\n",
       "    if (!window.customElements || !window.customElements.get('openeo-process')) {\n",
       "        var el = document.createElement('script');\n",
       "        el.src = \"https://cdn.jsdelivr.net/npm/@openeo/vue-components@2/assets/openeo.min.js\";\n",
       "        document.head.appendChild(el);\n",
       "\n",
       "        var font = document.createElement('font');\n",
       "        font.as = \"font\";\n",
       "        font.type = \"font/woff2\";\n",
       "        font.crossOrigin = true;\n",
       "        font.href = \"https://use.fontawesome.com/releases/v5.13.0/webfonts/fa-solid-900.woff2\"\n",
       "        document.head.appendChild(font);\n",
       "    }\n",
       "    </script>\n",
       "    <openeo-process>\n",
       "        <script type=\"application/json\">{\"show-graph\": true, \"provide-download\": false, \"process\": {\"description\": \"# Whittaker\\n\\n## Description\\n\\nWhittaker represents a computationally efficient reconstruction method for smoothing and gap-filling of time series.\\nThe main function takes as input two vectors of the same length: the y time series data (e.g. NDVI) and the\\ncorresponding temporal vector (date format) x, comprised between the start and end dates of a satellite image\\ncollection. Missing or null values as well as the cloud-masked values (i.e. NaN), are handled by introducing a\\nvector of 0-1 weights w, with wi = 0 for missing observations and wi=1 otherwise. Following, the Whittaker smoother\\nis applied to the time series profiles, computing therefore a daily smoothing interpolation.\\n\\nWhittaker's fast processing speed was assessed through an initial performance testing by comparing different\\ntime series fitting methods. Average runtime takes 0.0107 seconds to process a single NDVI temporal profile.\\n\\nThe smoother performance can be adjusted by tuning the lambda parameter, which penalizes the time series roughness:\\nthe larger lambda the smoother the time series at the cost of the fit to the data getting worse. We found a lambda of\\n10000 adequate for obtaining more convenient results. A more detailed description of the algorithm can be\\nfound in the original work of Eilers 2003.\\n\\n\\n\\n\", \"id\": \"whittaker\", \"parameters\": [{\"description\": \"A data cube.\", \"name\": \"data\", \"schema\": {\"subtype\": \"raster-cube\", \"type\": \"object\"}}, {\"default\": 10000, \"description\": \"Lambda parameter to change the Whittaker smoothing\", \"name\": \"smoothing_lambda\", \"optional\": true, \"schema\": {\"type\": \"number\"}}], \"summary\": \"Execute a computationally efficient reconstruction method for smoothing and gap-filling of time series.\"}}</script>\n",
       "    </openeo-process>\n",
       "    "
      ],
      "text/plain": [
       "{'description': \"# Whittaker\\n\\n## Description\\n\\nWhittaker represents a computationally efficient reconstruction method for smoothing and gap-filling of time series.\\nThe main function takes as input two vectors of the same length: the y time series data (e.g. NDVI) and the\\ncorresponding temporal vector (date format) x, comprised between the start and end dates of a satellite image\\ncollection. Missing or null values as well as the cloud-masked values (i.e. NaN), are handled by introducing a\\nvector of 0-1 weights w, with wi = 0 for missing observations and wi=1 otherwise. Following, the Whittaker smoother\\nis applied to the time series profiles, computing therefore a daily smoothing interpolation.\\n\\nWhittaker's fast processing speed was assessed through an initial performance testing by comparing different\\ntime series fitting methods. Average runtime takes 0.0107 seconds to process a single NDVI temporal profile.\\n\\nThe smoother performance can be adjusted by tuning the lambda parameter, which penalizes the time series roughness:\\nthe larger lambda the smoother the time series at the cost of the fit to the data getting worse. We found a lambda of\\n10000 adequate for obtaining more convenient results. A more detailed description of the algorithm can be\\nfound in the original work of Eilers 2003.\\n\\n\\n\\n\",\n",
       " 'id': 'whittaker',\n",
       " 'parameters': [{'description': 'A data cube.',\n",
       "   'name': 'data',\n",
       "   'schema': {'subtype': 'raster-cube', 'type': 'object'}},\n",
       "  {'default': 10000,\n",
       "   'description': 'Lambda parameter to change the Whittaker smoothing',\n",
       "   'name': 'smoothing_lambda',\n",
       "   'optional': True,\n",
       "   'schema': {'type': 'number'}}],\n",
       " 'summary': 'Execute a computationally efficient reconstruction method for smoothing and gap-filling of time series.'}"
      ]
     },
     "execution_count": 4,
     "metadata": {},
     "output_type": "execute_result"
    }
   ],
   "source": [
    "connection.describe_process(service, namespace=namespace)"
   ]
  },
  {
   "cell_type": "markdown",
   "id": "f71b2995",
   "metadata": {},
   "source": [
    "### Use `datacube_from_process` to get initial DataCube\n",
    "Get output datacube from process by passing in the process parameters:\n",
    "**Mandatory**\n",
    "- `data`: Initial datacube that contains the data to be smoothed\n",
    "\n",
    "**Optional**\n",
    "- `smoothing_lambda`: Affects the level of smoothing performed by the service. A larger value of Lambda results in a smoother time series, but at the expense of a poorer fit to the data.\n"
   ]
  },
  {
   "cell_type": "code",
   "execution_count": 5,
   "id": "96a1654b",
   "metadata": {},
   "outputs": [],
   "source": [
    "spat_ext = {\n",
    "          \"type\": \"Polygon\",\n",
    "          \"coordinates\": [\n",
    "            [\n",
    "              [\n",
    "                5.170012098271149,\n",
    "                51.25062964728295\n",
    "              ],\n",
    "              [\n",
    "                5.17085904378298,\n",
    "                51.24882567194015\n",
    "              ],\n",
    "              [\n",
    "                5.17857421368097,\n",
    "                51.2468515482926\n",
    "              ],\n",
    "              [\n",
    "                5.178972704726344,\n",
    "                51.24982704376254\n",
    "              ],\n",
    "              [\n",
    "                5.170012098271149,\n",
    "                51.25062964728295\n",
    "              ]\n",
    "            ]\n",
    "          ]\n",
    "        }\n",
    "temp_ext = [\"2022-01-01\",\"2022-12-31\"]\n",
    "smoothing_lambda = 10000"
   ]
  },
  {
   "cell_type": "markdown",
   "id": "7ef5255e",
   "metadata": {},
   "source": [
    "To begin, we calculate the base NDVI data cube. In the subsequent steps, we utilize this data cube to implement Whittaker smoothing. Finally, we compute time series for both the base NDVI and the smoothed version."
   ]
  },
  {
   "cell_type": "code",
   "execution_count": 6,
   "id": "5d5b013d",
   "metadata": {},
   "outputs": [],
   "source": [
    "base = connection.load_collection('SENTINEL2_L2A_SENTINELHUB',\n",
    "                                spatial_extent=spat_ext,\n",
    "                                temporal_extent=temp_ext,\n",
    "                                bands=[\"B04\",\"B08\",\"SCL\"])\n",
    "base_cloudmasked = base.process(\"mask_scl_dilation\", data=base, scl_band_name=\"SCL\")\n",
    "base_ndvi = base_cloudmasked.ndvi(red=\"B04\", nir=\"B08\")"
   ]
  },
  {
   "cell_type": "code",
   "execution_count": 7,
   "id": "f80c63c8",
   "metadata": {},
   "outputs": [
    {
     "name": "stderr",
     "output_type": "stream",
     "text": [
      "/Users/bram/VITO/FuseTS/venv_py10/lib/python3.10/site-packages/openeo/metadata.py:255: UserWarning: No cube:dimensions metadata\n",
      "  complain(\"No cube:dimensions metadata\")\n"
     ]
    }
   ],
   "source": [
    "whittaker = connection.datacube_from_process(service, namespace=f'https://openeo.vito.be/openeo/1.1/processes/{namespace}/{service}', data=base_ndvi, smoothing_lambda=smoothing_lambda)"
   ]
  },
  {
   "cell_type": "code",
   "execution_count": 8,
   "id": "53ee3048",
   "metadata": {},
   "outputs": [],
   "source": [
    "base_ndvi = base_ndvi.aggregate_spatial(spat_ext, reducer='mean')\n",
    "whittaker = whittaker.aggregate_spatial(spat_ext, reducer='mean')"
   ]
  },
  {
   "cell_type": "markdown",
   "id": "8ad7f21f",
   "metadata": {},
   "source": [
    "### Execute job and download result"
   ]
  },
  {
   "cell_type": "code",
   "execution_count": 9,
   "id": "e6ee2309",
   "metadata": {},
   "outputs": [
    {
     "name": "stdout",
     "output_type": "stream",
     "text": [
      "0:00:00 Job 'j-51b3e8f5728e45c69376dff38bb5ef17': send 'start'\n",
      "0:00:45 Job 'j-51b3e8f5728e45c69376dff38bb5ef17': queued (progress N/A)\n",
      "0:00:58 Job 'j-51b3e8f5728e45c69376dff38bb5ef17': queued (progress N/A)\n",
      "0:01:08 Job 'j-51b3e8f5728e45c69376dff38bb5ef17': queued (progress N/A)\n",
      "0:01:16 Job 'j-51b3e8f5728e45c69376dff38bb5ef17': queued (progress N/A)\n",
      "0:01:34 Job 'j-51b3e8f5728e45c69376dff38bb5ef17': queued (progress N/A)\n",
      "0:02:03 Job 'j-51b3e8f5728e45c69376dff38bb5ef17': queued (progress N/A)\n",
      "0:02:19 Job 'j-51b3e8f5728e45c69376dff38bb5ef17': queued (progress N/A)\n",
      "0:02:47 Job 'j-51b3e8f5728e45c69376dff38bb5ef17': queued (progress N/A)\n",
      "0:03:11 Job 'j-51b3e8f5728e45c69376dff38bb5ef17': queued (progress N/A)\n",
      "0:03:41 Job 'j-51b3e8f5728e45c69376dff38bb5ef17': queued (progress N/A)\n",
      "0:04:31 Job 'j-51b3e8f5728e45c69376dff38bb5ef17': queued (progress N/A)\n",
      "0:05:18 Job 'j-51b3e8f5728e45c69376dff38bb5ef17': running (progress N/A)\n",
      "0:06:16 Job 'j-51b3e8f5728e45c69376dff38bb5ef17': running (progress N/A)\n",
      "0:07:16 Job 'j-51b3e8f5728e45c69376dff38bb5ef17': error (progress N/A)\n",
      "Your batch job 'j-51b3e8f5728e45c69376dff38bb5ef17' failed. Error logs:\n",
      "[{'id': '-1', 'code': 'Internal', 'level': 'error', 'message': \"Log collection failed: OpenEOApiException(status_code=504, code='Internal', message='Temporary failure while retrieving logs: ConnectionTimeout. Please try again and report this error if it persists. (ref: no-request)', id='no-request')\"}]\n",
      "Full logs can be inspected in an openEO (web) editor or with `connection.job('j-51b3e8f5728e45c69376dff38bb5ef17').logs()`.\n"
     ]
    },
    {
     "ename": "JobFailedException",
     "evalue": "Batch job 'j-51b3e8f5728e45c69376dff38bb5ef17' didn't finish successfully. Status: error (after 0:09:17).",
     "output_type": "error",
     "traceback": [
      "\u001b[0;31m---------------------------------------------------------------------------\u001b[0m",
      "\u001b[0;31mJobFailedException\u001b[0m                        Traceback (most recent call last)",
      "Cell \u001b[0;32mIn[9], line 1\u001b[0m\n\u001b[0;32m----> 1\u001b[0m whittaker_job \u001b[38;5;241m=\u001b[39m \u001b[43mwhittaker\u001b[49m\u001b[38;5;241;43m.\u001b[39;49m\u001b[43mexecute_batch\u001b[49m\u001b[43m(\u001b[49m\u001b[43mout_format\u001b[49m\u001b[38;5;241;43m=\u001b[39;49m\u001b[38;5;124;43m\"\u001b[39;49m\u001b[38;5;124;43mjson\u001b[39;49m\u001b[38;5;124;43m\"\u001b[39;49m\u001b[43m,\u001b[49m\u001b[43m \u001b[49m\u001b[43mtitle\u001b[49m\u001b[38;5;241;43m=\u001b[39;49m\u001b[38;5;124;43mf\u001b[39;49m\u001b[38;5;124;43m'\u001b[39;49m\u001b[38;5;124;43mAI4FOOD - Whittaker\u001b[39;49m\u001b[38;5;124;43m'\u001b[39;49m\u001b[43m,\u001b[49m\u001b[43m \u001b[49m\u001b[43mjob_options\u001b[49m\u001b[38;5;241;43m=\u001b[39;49m\u001b[43m{\u001b[49m\n\u001b[1;32m      2\u001b[0m \u001b[43m    \u001b[49m\u001b[38;5;124;43m'\u001b[39;49m\u001b[38;5;124;43mudf-dependency-archives\u001b[39;49m\u001b[38;5;124;43m'\u001b[39;49m\u001b[43m:\u001b[49m\u001b[43m \u001b[49m\u001b[43m[\u001b[49m\n\u001b[1;32m      3\u001b[0m \u001b[43m         \u001b[49m\u001b[38;5;124;43m'\u001b[39;49m\u001b[38;5;124;43mhttps://artifactory.vgt.vito.be:443/auxdata-public/ai4food/fusets_venv.zip#tmp/venv\u001b[39;49m\u001b[38;5;124;43m'\u001b[39;49m\u001b[43m,\u001b[49m\n\u001b[1;32m      4\u001b[0m \u001b[43m        \u001b[49m\u001b[38;5;124;43m'\u001b[39;49m\u001b[38;5;124;43mhttps://artifactory.vgt.vito.be:443/auxdata-public/ai4food/fusets.zip#tmp/venv_static\u001b[39;49m\u001b[38;5;124;43m'\u001b[39;49m\n\u001b[1;32m      5\u001b[0m \u001b[43m    \u001b[49m\u001b[43m]\u001b[49m\n\u001b[1;32m      6\u001b[0m \u001b[43m}\u001b[49m\u001b[43m)\u001b[49m\n\u001b[1;32m      7\u001b[0m whittaker_job\u001b[38;5;241m.\u001b[39mget_results()\u001b[38;5;241m.\u001b[39mdownload_file(\u001b[38;5;124m'\u001b[39m\u001b[38;5;124m./whittaker.json\u001b[39m\u001b[38;5;124m'\u001b[39m)\n",
      "File \u001b[0;32m~/VITO/FuseTS/venv_py10/lib/python3.10/site-packages/openeo/rest/vectorcube.py:129\u001b[0m, in \u001b[0;36mVectorCube.execute_batch\u001b[0;34m(self, outputfile, out_format, print, max_poll_interval, connection_retry_interval, job_options, **format_options)\u001b[0m\n\u001b[1;32m    116\u001b[0m \u001b[38;5;250m\u001b[39m\u001b[38;5;124;03m\"\"\"\u001b[39;00m\n\u001b[1;32m    117\u001b[0m \u001b[38;5;124;03mEvaluate the process graph by creating a batch job, and retrieving the results when it is finished.\u001b[39;00m\n\u001b[1;32m    118\u001b[0m \u001b[38;5;124;03mThis method is mostly recommended if the batch job is expected to run in a reasonable amount of time.\u001b[39;00m\n\u001b[0;32m   (...)\u001b[0m\n\u001b[1;32m    126\u001b[0m \n\u001b[1;32m    127\u001b[0m \u001b[38;5;124;03m\"\"\"\u001b[39;00m\n\u001b[1;32m    128\u001b[0m job \u001b[38;5;241m=\u001b[39m \u001b[38;5;28mself\u001b[39m\u001b[38;5;241m.\u001b[39mcreate_job(out_format, job_options\u001b[38;5;241m=\u001b[39mjob_options, \u001b[38;5;241m*\u001b[39m\u001b[38;5;241m*\u001b[39mformat_options)\n\u001b[0;32m--> 129\u001b[0m \u001b[38;5;28;01mreturn\u001b[39;00m \u001b[43mjob\u001b[49m\u001b[38;5;241;43m.\u001b[39;49m\u001b[43mrun_synchronous\u001b[49m\u001b[43m(\u001b[49m\n\u001b[1;32m    130\u001b[0m \u001b[43m    \u001b[49m\u001b[38;5;66;43;03m# TODO #135 support multi file result sets too\u001b[39;49;00m\n\u001b[1;32m    131\u001b[0m \u001b[43m    \u001b[49m\u001b[43moutputfile\u001b[49m\u001b[38;5;241;43m=\u001b[39;49m\u001b[43moutputfile\u001b[49m\u001b[43m,\u001b[49m\n\u001b[1;32m    132\u001b[0m \u001b[43m    \u001b[49m\u001b[38;5;28;43mprint\u001b[39;49m\u001b[38;5;241;43m=\u001b[39;49m\u001b[38;5;28;43mprint\u001b[39;49m\u001b[43m,\u001b[49m\u001b[43m \u001b[49m\u001b[43mmax_poll_interval\u001b[49m\u001b[38;5;241;43m=\u001b[39;49m\u001b[43mmax_poll_interval\u001b[49m\u001b[43m,\u001b[49m\u001b[43m \u001b[49m\u001b[43mconnection_retry_interval\u001b[49m\u001b[38;5;241;43m=\u001b[39;49m\u001b[43mconnection_retry_interval\u001b[49m\n\u001b[1;32m    133\u001b[0m \u001b[43m\u001b[49m\u001b[43m)\u001b[49m\n",
      "File \u001b[0;32m~/VITO/FuseTS/venv_py10/lib/python3.10/site-packages/openeo/rest/job.py:202\u001b[0m, in \u001b[0;36mBatchJob.run_synchronous\u001b[0;34m(self, outputfile, print, max_poll_interval, connection_retry_interval)\u001b[0m\n\u001b[1;32m    197\u001b[0m \u001b[38;5;28;01mdef\u001b[39;00m \u001b[38;5;21mrun_synchronous\u001b[39m(\n\u001b[1;32m    198\u001b[0m         \u001b[38;5;28mself\u001b[39m, outputfile: Union[\u001b[38;5;28mstr\u001b[39m, Path, \u001b[38;5;28;01mNone\u001b[39;00m] \u001b[38;5;241m=\u001b[39m \u001b[38;5;28;01mNone\u001b[39;00m,\n\u001b[1;32m    199\u001b[0m         \u001b[38;5;28mprint\u001b[39m\u001b[38;5;241m=\u001b[39m\u001b[38;5;28mprint\u001b[39m, max_poll_interval\u001b[38;5;241m=\u001b[39m\u001b[38;5;241m60\u001b[39m, connection_retry_interval\u001b[38;5;241m=\u001b[39m\u001b[38;5;241m30\u001b[39m\n\u001b[1;32m    200\u001b[0m ) \u001b[38;5;241m-\u001b[39m\u001b[38;5;241m>\u001b[39m \u001b[38;5;124m'\u001b[39m\u001b[38;5;124mBatchJob\u001b[39m\u001b[38;5;124m'\u001b[39m:\n\u001b[1;32m    201\u001b[0m \u001b[38;5;250m    \u001b[39m\u001b[38;5;124;03m\"\"\"Start the job, wait for it to finish and download result\"\"\"\u001b[39;00m\n\u001b[0;32m--> 202\u001b[0m     \u001b[38;5;28;43mself\u001b[39;49m\u001b[38;5;241;43m.\u001b[39;49m\u001b[43mstart_and_wait\u001b[49m\u001b[43m(\u001b[49m\n\u001b[1;32m    203\u001b[0m \u001b[43m        \u001b[49m\u001b[38;5;28;43mprint\u001b[39;49m\u001b[38;5;241;43m=\u001b[39;49m\u001b[38;5;28;43mprint\u001b[39;49m\u001b[43m,\u001b[49m\u001b[43m \u001b[49m\u001b[43mmax_poll_interval\u001b[49m\u001b[38;5;241;43m=\u001b[39;49m\u001b[43mmax_poll_interval\u001b[49m\u001b[43m,\u001b[49m\u001b[43m \u001b[49m\u001b[43mconnection_retry_interval\u001b[49m\u001b[38;5;241;43m=\u001b[39;49m\u001b[43mconnection_retry_interval\u001b[49m\n\u001b[1;32m    204\u001b[0m \u001b[43m    \u001b[49m\u001b[43m)\u001b[49m\n\u001b[1;32m    205\u001b[0m     \u001b[38;5;66;03m# TODO #135 support multi file result sets too?\u001b[39;00m\n\u001b[1;32m    206\u001b[0m     \u001b[38;5;28;01mif\u001b[39;00m outputfile \u001b[38;5;129;01mis\u001b[39;00m \u001b[38;5;129;01mnot\u001b[39;00m \u001b[38;5;28;01mNone\u001b[39;00m:\n",
      "File \u001b[0;32m~/VITO/FuseTS/venv_py10/lib/python3.10/site-packages/openeo/rest/job.py:284\u001b[0m, in \u001b[0;36mBatchJob.start_and_wait\u001b[0;34m(self, print, max_poll_interval, connection_retry_interval, soft_error_max)\u001b[0m\n\u001b[1;32m    280\u001b[0m     \u001b[38;5;28mprint\u001b[39m(\u001b[38;5;28mself\u001b[39m\u001b[38;5;241m.\u001b[39mlogs(level\u001b[38;5;241m=\u001b[39mlogging\u001b[38;5;241m.\u001b[39mERROR))\n\u001b[1;32m    281\u001b[0m     \u001b[38;5;28mprint\u001b[39m(\n\u001b[1;32m    282\u001b[0m         \u001b[38;5;124mf\u001b[39m\u001b[38;5;124m\"\u001b[39m\u001b[38;5;124mFull logs can be inspected in an openEO (web) editor or with `connection.job(\u001b[39m\u001b[38;5;132;01m{\u001b[39;00m\u001b[38;5;28mself\u001b[39m\u001b[38;5;241m.\u001b[39mjob_id\u001b[38;5;132;01m!r}\u001b[39;00m\u001b[38;5;124m).logs()`.\u001b[39m\u001b[38;5;124m\"\u001b[39m\n\u001b[1;32m    283\u001b[0m     )\n\u001b[0;32m--> 284\u001b[0m     \u001b[38;5;28;01mraise\u001b[39;00m JobFailedException(\n\u001b[1;32m    285\u001b[0m         \u001b[38;5;124mf\u001b[39m\u001b[38;5;124m\"\u001b[39m\u001b[38;5;124mBatch job \u001b[39m\u001b[38;5;132;01m{\u001b[39;00m\u001b[38;5;28mself\u001b[39m\u001b[38;5;241m.\u001b[39mjob_id\u001b[38;5;132;01m!r}\u001b[39;00m\u001b[38;5;124m didn\u001b[39m\u001b[38;5;124m'\u001b[39m\u001b[38;5;124mt finish successfully. Status: \u001b[39m\u001b[38;5;132;01m{\u001b[39;00mstatus\u001b[38;5;132;01m}\u001b[39;00m\u001b[38;5;124m (after \u001b[39m\u001b[38;5;132;01m{\u001b[39;00melapsed()\u001b[38;5;132;01m}\u001b[39;00m\u001b[38;5;124m).\u001b[39m\u001b[38;5;124m\"\u001b[39m,\n\u001b[1;32m    286\u001b[0m         job\u001b[38;5;241m=\u001b[39m\u001b[38;5;28mself\u001b[39m,\n\u001b[1;32m    287\u001b[0m     )\n\u001b[1;32m    289\u001b[0m \u001b[38;5;28;01mreturn\u001b[39;00m \u001b[38;5;28mself\u001b[39m\n",
      "\u001b[0;31mJobFailedException\u001b[0m: Batch job 'j-51b3e8f5728e45c69376dff38bb5ef17' didn't finish successfully. Status: error (after 0:09:17)."
     ]
    }
   ],
   "source": [
    "whittaker_job = whittaker.execute_batch(out_format=\"json\", title=f'FuseTS - Whittaker', job_options={\n",
    "    'udf-dependency-archives': [\n",
    "         'https://artifactory.vgt.vito.be:443/auxdata-public/ai4food/fusets_venv.zip#tmp/venv',\n",
    "        'https://artifactory.vgt.vito.be:443/auxdata-public/ai4food/fusets.zip#tmp/venv_static'\n",
    "    ]\n",
    "})\n",
    "whittaker_job.get_results().download_file('./whittaker.json')"
   ]
  },
  {
   "cell_type": "code",
   "execution_count": null,
   "id": "17092bb2",
   "metadata": {},
   "outputs": [],
   "source": [
    "base_ndvi.download('./base.json', format='json')"
   ]
  },
  {
   "cell_type": "markdown",
   "id": "c9c222e3",
   "metadata": {},
   "source": [
    "## Explore the results\n",
    "Having obtained both the base NDVI and the smoothed version, we can now proceed to compare the outcomes."
   ]
  },
  {
   "cell_type": "code",
   "execution_count": null,
   "id": "e01754d0",
   "metadata": {},
   "outputs": [],
   "source": [
    "cubes_dfs = []\n",
    "cols = ['Raw NDVI', 'Whittaker NDVI']\n",
    "for result in ['base.json', 'whittaker.json']:\n",
    "    with open(result, 'r') as result_file:\n",
    "        df = timeseries_json_to_pandas(json.load(result_file))\n",
    "        df.index = pd.to_datetime(df.index)\n",
    "        cubes_dfs.append(df)    \n",
    "        result_file.close()\n",
    "joined_df = pd.concat(cubes_dfs, axis=1)\n",
    "joined_df = joined_df.rename(columns={0: cols[0], 1: cols[1]})"
   ]
  },
  {
   "cell_type": "code",
   "execution_count": null,
   "id": "e9ed5660",
   "metadata": {},
   "outputs": [],
   "source": [
    "plt.figure(figsize= (16,6))\n",
    "for col in cols:\n",
    "    values = joined_df[~joined_df[col].isna()]\n",
    "    plt.plot(values.index, values[col], '-', label=col)\n",
    "plt.ylabel ('NDVI')\n",
    "plt.grid(True)\n",
    "plt.legend()"
   ]
  }
 ],
 "metadata": {
  "kernelspec": {
   "display_name": "Python 3 (ipykernel)",
   "language": "python",
   "name": "python3"
  },
  "language_info": {
   "codemirror_mode": {
    "name": "ipython",
    "version": 3
   },
   "file_extension": ".py",
   "mimetype": "text/x-python",
   "name": "python",
   "nbconvert_exporter": "python",
   "pygments_lexer": "ipython3",
   "version": "3.10.6"
  }
 },
 "nbformat": 4,
 "nbformat_minor": 5
}
